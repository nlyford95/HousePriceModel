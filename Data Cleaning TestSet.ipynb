{
 "cells": [
  {
   "cell_type": "code",
   "execution_count": 32,
   "id": "216193f8",
   "metadata": {},
   "outputs": [],
   "source": [
    "import pandas as pd\n",
    "import seaborn as sns\n",
    "import numpy as np\n",
    "import matplotlib.pyplot as plt\n",
    "\n",
    "import sklearn as sk\n",
    "from sklearn.model_selection import train_test_split\n",
    "from sklearn.metrics import mean_squared_error\n",
    "from sklearn.preprocessing import StandardScaler\n",
    "\n",
    "from sklearn.feature_selection import SelectKBest, mutual_info_regression, RFE\n",
    "from sklearn.linear_model import LinearRegression, LassoCV"
   ]
  },
  {
   "cell_type": "code",
   "execution_count": 33,
   "id": "f678381e",
   "metadata": {},
   "outputs": [],
   "source": [
    "df = pd.read_csv('test.csv')"
   ]
  },
  {
   "cell_type": "code",
   "execution_count": 34,
   "id": "de44c8c9",
   "metadata": {},
   "outputs": [
    {
     "name": "stdout",
     "output_type": "stream",
     "text": [
      "Id                 int64\n",
      "MSSubClass         int64\n",
      "MSZoning          object\n",
      "LotFrontage      float64\n",
      "LotArea            int64\n",
      "                  ...   \n",
      "MiscVal            int64\n",
      "MoSold             int64\n",
      "YrSold             int64\n",
      "SaleType          object\n",
      "SaleCondition     object\n",
      "Length: 80, dtype: object\n"
     ]
    }
   ],
   "source": [
    "print(df.dtypes)"
   ]
  },
  {
   "cell_type": "code",
   "execution_count": 35,
   "id": "47772da8",
   "metadata": {},
   "outputs": [
    {
     "data": {
      "text/html": [
       "<div>\n",
       "<style scoped>\n",
       "    .dataframe tbody tr th:only-of-type {\n",
       "        vertical-align: middle;\n",
       "    }\n",
       "\n",
       "    .dataframe tbody tr th {\n",
       "        vertical-align: top;\n",
       "    }\n",
       "\n",
       "    .dataframe thead th {\n",
       "        text-align: right;\n",
       "    }\n",
       "</style>\n",
       "<table border=\"1\" class=\"dataframe\">\n",
       "  <thead>\n",
       "    <tr style=\"text-align: right;\">\n",
       "      <th></th>\n",
       "      <th>Id</th>\n",
       "      <th>MSSubClass</th>\n",
       "      <th>LotFrontage</th>\n",
       "      <th>LotArea</th>\n",
       "      <th>OverallQual</th>\n",
       "      <th>OverallCond</th>\n",
       "      <th>YearBuilt</th>\n",
       "      <th>YearRemodAdd</th>\n",
       "      <th>MasVnrArea</th>\n",
       "      <th>BsmtFinSF1</th>\n",
       "      <th>...</th>\n",
       "      <th>GarageArea</th>\n",
       "      <th>WoodDeckSF</th>\n",
       "      <th>OpenPorchSF</th>\n",
       "      <th>EnclosedPorch</th>\n",
       "      <th>3SsnPorch</th>\n",
       "      <th>ScreenPorch</th>\n",
       "      <th>PoolArea</th>\n",
       "      <th>MiscVal</th>\n",
       "      <th>MoSold</th>\n",
       "      <th>YrSold</th>\n",
       "    </tr>\n",
       "  </thead>\n",
       "  <tbody>\n",
       "    <tr>\n",
       "      <th>count</th>\n",
       "      <td>1459.000000</td>\n",
       "      <td>1459.000000</td>\n",
       "      <td>1232.000000</td>\n",
       "      <td>1459.000000</td>\n",
       "      <td>1459.000000</td>\n",
       "      <td>1459.000000</td>\n",
       "      <td>1459.000000</td>\n",
       "      <td>1459.000000</td>\n",
       "      <td>1444.000000</td>\n",
       "      <td>1458.000000</td>\n",
       "      <td>...</td>\n",
       "      <td>1458.000000</td>\n",
       "      <td>1459.000000</td>\n",
       "      <td>1459.000000</td>\n",
       "      <td>1459.000000</td>\n",
       "      <td>1459.000000</td>\n",
       "      <td>1459.000000</td>\n",
       "      <td>1459.000000</td>\n",
       "      <td>1459.000000</td>\n",
       "      <td>1459.000000</td>\n",
       "      <td>1459.000000</td>\n",
       "    </tr>\n",
       "    <tr>\n",
       "      <th>mean</th>\n",
       "      <td>2190.000000</td>\n",
       "      <td>57.378341</td>\n",
       "      <td>68.580357</td>\n",
       "      <td>9819.161069</td>\n",
       "      <td>6.078821</td>\n",
       "      <td>5.553804</td>\n",
       "      <td>1971.357779</td>\n",
       "      <td>1983.662783</td>\n",
       "      <td>100.709141</td>\n",
       "      <td>439.203704</td>\n",
       "      <td>...</td>\n",
       "      <td>472.768861</td>\n",
       "      <td>93.174777</td>\n",
       "      <td>48.313914</td>\n",
       "      <td>24.243317</td>\n",
       "      <td>1.794380</td>\n",
       "      <td>17.064428</td>\n",
       "      <td>1.744345</td>\n",
       "      <td>58.167923</td>\n",
       "      <td>6.104181</td>\n",
       "      <td>2007.769705</td>\n",
       "    </tr>\n",
       "    <tr>\n",
       "      <th>std</th>\n",
       "      <td>421.321334</td>\n",
       "      <td>42.746880</td>\n",
       "      <td>22.376841</td>\n",
       "      <td>4955.517327</td>\n",
       "      <td>1.436812</td>\n",
       "      <td>1.113740</td>\n",
       "      <td>30.390071</td>\n",
       "      <td>21.130467</td>\n",
       "      <td>177.625900</td>\n",
       "      <td>455.268042</td>\n",
       "      <td>...</td>\n",
       "      <td>217.048611</td>\n",
       "      <td>127.744882</td>\n",
       "      <td>68.883364</td>\n",
       "      <td>67.227765</td>\n",
       "      <td>20.207842</td>\n",
       "      <td>56.609763</td>\n",
       "      <td>30.491646</td>\n",
       "      <td>630.806978</td>\n",
       "      <td>2.722432</td>\n",
       "      <td>1.301740</td>\n",
       "    </tr>\n",
       "    <tr>\n",
       "      <th>min</th>\n",
       "      <td>1461.000000</td>\n",
       "      <td>20.000000</td>\n",
       "      <td>21.000000</td>\n",
       "      <td>1470.000000</td>\n",
       "      <td>1.000000</td>\n",
       "      <td>1.000000</td>\n",
       "      <td>1879.000000</td>\n",
       "      <td>1950.000000</td>\n",
       "      <td>0.000000</td>\n",
       "      <td>0.000000</td>\n",
       "      <td>...</td>\n",
       "      <td>0.000000</td>\n",
       "      <td>0.000000</td>\n",
       "      <td>0.000000</td>\n",
       "      <td>0.000000</td>\n",
       "      <td>0.000000</td>\n",
       "      <td>0.000000</td>\n",
       "      <td>0.000000</td>\n",
       "      <td>0.000000</td>\n",
       "      <td>1.000000</td>\n",
       "      <td>2006.000000</td>\n",
       "    </tr>\n",
       "    <tr>\n",
       "      <th>25%</th>\n",
       "      <td>1825.500000</td>\n",
       "      <td>20.000000</td>\n",
       "      <td>58.000000</td>\n",
       "      <td>7391.000000</td>\n",
       "      <td>5.000000</td>\n",
       "      <td>5.000000</td>\n",
       "      <td>1953.000000</td>\n",
       "      <td>1963.000000</td>\n",
       "      <td>0.000000</td>\n",
       "      <td>0.000000</td>\n",
       "      <td>...</td>\n",
       "      <td>318.000000</td>\n",
       "      <td>0.000000</td>\n",
       "      <td>0.000000</td>\n",
       "      <td>0.000000</td>\n",
       "      <td>0.000000</td>\n",
       "      <td>0.000000</td>\n",
       "      <td>0.000000</td>\n",
       "      <td>0.000000</td>\n",
       "      <td>4.000000</td>\n",
       "      <td>2007.000000</td>\n",
       "    </tr>\n",
       "    <tr>\n",
       "      <th>50%</th>\n",
       "      <td>2190.000000</td>\n",
       "      <td>50.000000</td>\n",
       "      <td>67.000000</td>\n",
       "      <td>9399.000000</td>\n",
       "      <td>6.000000</td>\n",
       "      <td>5.000000</td>\n",
       "      <td>1973.000000</td>\n",
       "      <td>1992.000000</td>\n",
       "      <td>0.000000</td>\n",
       "      <td>350.500000</td>\n",
       "      <td>...</td>\n",
       "      <td>480.000000</td>\n",
       "      <td>0.000000</td>\n",
       "      <td>28.000000</td>\n",
       "      <td>0.000000</td>\n",
       "      <td>0.000000</td>\n",
       "      <td>0.000000</td>\n",
       "      <td>0.000000</td>\n",
       "      <td>0.000000</td>\n",
       "      <td>6.000000</td>\n",
       "      <td>2008.000000</td>\n",
       "    </tr>\n",
       "    <tr>\n",
       "      <th>75%</th>\n",
       "      <td>2554.500000</td>\n",
       "      <td>70.000000</td>\n",
       "      <td>80.000000</td>\n",
       "      <td>11517.500000</td>\n",
       "      <td>7.000000</td>\n",
       "      <td>6.000000</td>\n",
       "      <td>2001.000000</td>\n",
       "      <td>2004.000000</td>\n",
       "      <td>164.000000</td>\n",
       "      <td>753.500000</td>\n",
       "      <td>...</td>\n",
       "      <td>576.000000</td>\n",
       "      <td>168.000000</td>\n",
       "      <td>72.000000</td>\n",
       "      <td>0.000000</td>\n",
       "      <td>0.000000</td>\n",
       "      <td>0.000000</td>\n",
       "      <td>0.000000</td>\n",
       "      <td>0.000000</td>\n",
       "      <td>8.000000</td>\n",
       "      <td>2009.000000</td>\n",
       "    </tr>\n",
       "    <tr>\n",
       "      <th>max</th>\n",
       "      <td>2919.000000</td>\n",
       "      <td>190.000000</td>\n",
       "      <td>200.000000</td>\n",
       "      <td>56600.000000</td>\n",
       "      <td>10.000000</td>\n",
       "      <td>9.000000</td>\n",
       "      <td>2010.000000</td>\n",
       "      <td>2010.000000</td>\n",
       "      <td>1290.000000</td>\n",
       "      <td>4010.000000</td>\n",
       "      <td>...</td>\n",
       "      <td>1488.000000</td>\n",
       "      <td>1424.000000</td>\n",
       "      <td>742.000000</td>\n",
       "      <td>1012.000000</td>\n",
       "      <td>360.000000</td>\n",
       "      <td>576.000000</td>\n",
       "      <td>800.000000</td>\n",
       "      <td>17000.000000</td>\n",
       "      <td>12.000000</td>\n",
       "      <td>2010.000000</td>\n",
       "    </tr>\n",
       "  </tbody>\n",
       "</table>\n",
       "<p>8 rows × 37 columns</p>\n",
       "</div>"
      ],
      "text/plain": [
       "                Id   MSSubClass  LotFrontage       LotArea  OverallQual  \\\n",
       "count  1459.000000  1459.000000  1232.000000   1459.000000  1459.000000   \n",
       "mean   2190.000000    57.378341    68.580357   9819.161069     6.078821   \n",
       "std     421.321334    42.746880    22.376841   4955.517327     1.436812   \n",
       "min    1461.000000    20.000000    21.000000   1470.000000     1.000000   \n",
       "25%    1825.500000    20.000000    58.000000   7391.000000     5.000000   \n",
       "50%    2190.000000    50.000000    67.000000   9399.000000     6.000000   \n",
       "75%    2554.500000    70.000000    80.000000  11517.500000     7.000000   \n",
       "max    2919.000000   190.000000   200.000000  56600.000000    10.000000   \n",
       "\n",
       "       OverallCond    YearBuilt  YearRemodAdd   MasVnrArea   BsmtFinSF1  ...  \\\n",
       "count  1459.000000  1459.000000   1459.000000  1444.000000  1458.000000  ...   \n",
       "mean      5.553804  1971.357779   1983.662783   100.709141   439.203704  ...   \n",
       "std       1.113740    30.390071     21.130467   177.625900   455.268042  ...   \n",
       "min       1.000000  1879.000000   1950.000000     0.000000     0.000000  ...   \n",
       "25%       5.000000  1953.000000   1963.000000     0.000000     0.000000  ...   \n",
       "50%       5.000000  1973.000000   1992.000000     0.000000   350.500000  ...   \n",
       "75%       6.000000  2001.000000   2004.000000   164.000000   753.500000  ...   \n",
       "max       9.000000  2010.000000   2010.000000  1290.000000  4010.000000  ...   \n",
       "\n",
       "        GarageArea   WoodDeckSF  OpenPorchSF  EnclosedPorch    3SsnPorch  \\\n",
       "count  1458.000000  1459.000000  1459.000000    1459.000000  1459.000000   \n",
       "mean    472.768861    93.174777    48.313914      24.243317     1.794380   \n",
       "std     217.048611   127.744882    68.883364      67.227765    20.207842   \n",
       "min       0.000000     0.000000     0.000000       0.000000     0.000000   \n",
       "25%     318.000000     0.000000     0.000000       0.000000     0.000000   \n",
       "50%     480.000000     0.000000    28.000000       0.000000     0.000000   \n",
       "75%     576.000000   168.000000    72.000000       0.000000     0.000000   \n",
       "max    1488.000000  1424.000000   742.000000    1012.000000   360.000000   \n",
       "\n",
       "       ScreenPorch     PoolArea       MiscVal       MoSold       YrSold  \n",
       "count  1459.000000  1459.000000   1459.000000  1459.000000  1459.000000  \n",
       "mean     17.064428     1.744345     58.167923     6.104181  2007.769705  \n",
       "std      56.609763    30.491646    630.806978     2.722432     1.301740  \n",
       "min       0.000000     0.000000      0.000000     1.000000  2006.000000  \n",
       "25%       0.000000     0.000000      0.000000     4.000000  2007.000000  \n",
       "50%       0.000000     0.000000      0.000000     6.000000  2008.000000  \n",
       "75%       0.000000     0.000000      0.000000     8.000000  2009.000000  \n",
       "max     576.000000   800.000000  17000.000000    12.000000  2010.000000  \n",
       "\n",
       "[8 rows x 37 columns]"
      ]
     },
     "execution_count": 35,
     "metadata": {},
     "output_type": "execute_result"
    }
   ],
   "source": [
    "df.describe()"
   ]
  },
  {
   "cell_type": "markdown",
   "id": "03c6a689",
   "metadata": {},
   "source": [
    "## Missing Values"
   ]
  },
  {
   "cell_type": "code",
   "execution_count": 36,
   "id": "6da92b5c",
   "metadata": {},
   "outputs": [
    {
     "data": {
      "text/plain": [
       "TotalBsmtSF        1\n",
       "GarageArea         1\n",
       "GarageCars         1\n",
       "KitchenQual        1\n",
       "BsmtUnfSF          1\n",
       "BsmtFinSF2         1\n",
       "BsmtFinSF1         1\n",
       "SaleType           1\n",
       "Exterior1st        1\n",
       "Exterior2nd        1\n",
       "Functional         2\n",
       "Utilities          2\n",
       "BsmtHalfBath       2\n",
       "BsmtFullBath       2\n",
       "MSZoning           4\n",
       "MasVnrArea        15\n",
       "MasVnrType        16\n",
       "BsmtFinType2      42\n",
       "BsmtFinType1      42\n",
       "BsmtQual          44\n",
       "BsmtExposure      44\n",
       "BsmtCond          45\n",
       "GarageType        76\n",
       "GarageFinish      78\n",
       "GarageQual        78\n",
       "GarageCond        78\n",
       "GarageYrBlt       78\n",
       "LotFrontage      227\n",
       "FireplaceQu      730\n",
       "Fence           1169\n",
       "Alley           1352\n",
       "MiscFeature     1408\n",
       "PoolQC          1456\n",
       "dtype: int64"
      ]
     },
     "execution_count": 36,
     "metadata": {},
     "output_type": "execute_result"
    }
   ],
   "source": [
    "missing_values = df.isnull().sum()\n",
    "cols_missing_values = missing_values[missing_values > 0].sort_values()\n",
    "cols_missing_values"
   ]
  },
  {
   "cell_type": "code",
   "execution_count": null,
   "id": "fd86f009",
   "metadata": {},
   "outputs": [],
   "source": []
  },
  {
   "cell_type": "markdown",
   "id": "7e0dc528",
   "metadata": {},
   "source": [
    "### Electrical - filled with dominant class"
   ]
  },
  {
   "cell_type": "code",
   "execution_count": 37,
   "id": "968fa6e1",
   "metadata": {},
   "outputs": [
    {
     "name": "stdout",
     "output_type": "stream",
     "text": [
      "SBrkr    0.916381\n",
      "FuseA    0.064428\n",
      "FuseF    0.015764\n",
      "FuseP    0.003427\n",
      "Name: Electrical, dtype: float64\n"
     ]
    }
   ],
   "source": [
    "print(df.Electrical.value_counts(normalize = True))\n",
    "df.Electrical.fillna('SBrkr', inplace = True)"
   ]
  },
  {
   "cell_type": "markdown",
   "id": "cf1e16ab",
   "metadata": {},
   "source": [
    "### MasVnrType - filled with dominant class "
   ]
  },
  {
   "cell_type": "code",
   "execution_count": 38,
   "id": "c8a539ac",
   "metadata": {},
   "outputs": [
    {
     "name": "stdout",
     "output_type": "stream",
     "text": [
      "None       878\n",
      "BrkFace    434\n",
      "Stone      121\n",
      "BrkCmn      10\n",
      "Name: MasVnrType, dtype: int64\n"
     ]
    }
   ],
   "source": [
    "print(df.MasVnrType.value_counts())\n",
    "df.MasVnrType.fillna('None', inplace = True)"
   ]
  },
  {
   "cell_type": "markdown",
   "id": "1de362cd",
   "metadata": {},
   "source": [
    "### MasVnrArea - filled with 0 class to match class type"
   ]
  },
  {
   "cell_type": "code",
   "execution_count": 39,
   "id": "7a4ef4fa",
   "metadata": {},
   "outputs": [
    {
     "name": "stdout",
     "output_type": "stream",
     "text": [
      "0.0       877\n",
      "176.0      10\n",
      "144.0       9\n",
      "120.0       8\n",
      "216.0       8\n",
      "         ... \n",
      "647.0       1\n",
      "1290.0      1\n",
      "495.0       1\n",
      "292.0       1\n",
      "382.0       1\n",
      "Name: MasVnrArea, Length: 303, dtype: int64\n"
     ]
    }
   ],
   "source": [
    "print(df.MasVnrArea.value_counts())\n",
    "df.MasVnrArea.fillna(0, inplace = True)"
   ]
  },
  {
   "cell_type": "markdown",
   "id": "036f7808",
   "metadata": {},
   "source": [
    "### BsmtQual, BsmtCond, BsmtFinType1, BsmtExposure,BsmtFinType2 - Filled with NA to indicate no basement (from data description file)"
   ]
  },
  {
   "cell_type": "code",
   "execution_count": 40,
   "id": "b3e18799",
   "metadata": {},
   "outputs": [],
   "source": [
    "df.BsmtQual.fillna('NA', inplace = True)"
   ]
  },
  {
   "cell_type": "code",
   "execution_count": 41,
   "id": "4b8825e7",
   "metadata": {},
   "outputs": [],
   "source": [
    "df.BsmtCond.fillna('NA', inplace = True)"
   ]
  },
  {
   "cell_type": "code",
   "execution_count": 42,
   "id": "d092adca",
   "metadata": {},
   "outputs": [],
   "source": [
    "df.BsmtFinType1.fillna('NA', inplace = True)"
   ]
  },
  {
   "cell_type": "code",
   "execution_count": 43,
   "id": "060655c6",
   "metadata": {},
   "outputs": [],
   "source": [
    "df.BsmtExposure.fillna('NA', inplace = True)"
   ]
  },
  {
   "cell_type": "code",
   "execution_count": 44,
   "id": "c2d962c2",
   "metadata": {},
   "outputs": [],
   "source": [
    "df.BsmtFinType2.fillna('NA', inplace = True)"
   ]
  },
  {
   "cell_type": "markdown",
   "id": "329f9e11",
   "metadata": {},
   "source": [
    "### Garage - Filled with NA to indicate no garage (from data description file)"
   ]
  },
  {
   "cell_type": "code",
   "execution_count": 45,
   "id": "ee481b58",
   "metadata": {},
   "outputs": [],
   "source": [
    "df.GarageType.fillna('NA', inplace = True)"
   ]
  },
  {
   "cell_type": "code",
   "execution_count": 46,
   "id": "72f453fa",
   "metadata": {},
   "outputs": [],
   "source": [
    "df.GarageYrBlt.fillna('NA', inplace = True)"
   ]
  },
  {
   "cell_type": "code",
   "execution_count": 47,
   "id": "25e19e73",
   "metadata": {},
   "outputs": [],
   "source": [
    "df.GarageFinish.fillna('NA', inplace = True)"
   ]
  },
  {
   "cell_type": "code",
   "execution_count": 48,
   "id": "516982d8",
   "metadata": {},
   "outputs": [],
   "source": [
    "df.GarageQual.fillna('NA', inplace = True)"
   ]
  },
  {
   "cell_type": "code",
   "execution_count": 49,
   "id": "3859074b",
   "metadata": {},
   "outputs": [],
   "source": [
    "df.GarageCond.fillna('NA', inplace = True)"
   ]
  },
  {
   "cell_type": "markdown",
   "id": "2f552010",
   "metadata": {},
   "source": [
    "### LotFrontage"
   ]
  },
  {
   "cell_type": "code",
   "execution_count": 50,
   "id": "da7e0784",
   "metadata": {},
   "outputs": [],
   "source": [
    "df.LotFrontage.fillna(np.mean(df.LotFrontage), inplace = True)"
   ]
  },
  {
   "cell_type": "markdown",
   "id": "a57d273e",
   "metadata": {},
   "source": [
    "### FireplaceQu"
   ]
  },
  {
   "cell_type": "code",
   "execution_count": 51,
   "id": "87b61b90",
   "metadata": {},
   "outputs": [],
   "source": [
    "df.FireplaceQu.fillna('NA', inplace = True)"
   ]
  },
  {
   "cell_type": "markdown",
   "id": "7c3e31c0",
   "metadata": {},
   "source": [
    "### Fence"
   ]
  },
  {
   "cell_type": "code",
   "execution_count": 52,
   "id": "33993e03",
   "metadata": {},
   "outputs": [],
   "source": [
    "df.Fence.fillna('NA', inplace = True)"
   ]
  },
  {
   "cell_type": "markdown",
   "id": "0b555d84",
   "metadata": {},
   "source": [
    "### Alley"
   ]
  },
  {
   "cell_type": "code",
   "execution_count": 53,
   "id": "94a9ae87",
   "metadata": {},
   "outputs": [],
   "source": [
    "df.Alley.fillna('NA', inplace = True)"
   ]
  },
  {
   "cell_type": "markdown",
   "id": "3b0201d6",
   "metadata": {},
   "source": [
    "### Pool"
   ]
  },
  {
   "cell_type": "code",
   "execution_count": 54,
   "id": "2f95f93c",
   "metadata": {},
   "outputs": [],
   "source": [
    "df.PoolQC.fillna('NA', inplace = True)"
   ]
  },
  {
   "cell_type": "markdown",
   "id": "a083f0b4",
   "metadata": {},
   "source": [
    "### Misc Features"
   ]
  },
  {
   "cell_type": "code",
   "execution_count": 55,
   "id": "275f7cdf",
   "metadata": {},
   "outputs": [],
   "source": [
    "df.MiscFeature.fillna('None', inplace = True)"
   ]
  },
  {
   "cell_type": "markdown",
   "id": "7dd67f6b",
   "metadata": {},
   "source": [
    "### Missing Values Removed"
   ]
  },
  {
   "cell_type": "code",
   "execution_count": 56,
   "id": "7d1e13a7",
   "metadata": {},
   "outputs": [
    {
     "data": {
      "text/plain": [
       "Exterior1st     1\n",
       "Exterior2nd     1\n",
       "BsmtFinSF1      1\n",
       "BsmtFinSF2      1\n",
       "BsmtUnfSF       1\n",
       "TotalBsmtSF     1\n",
       "KitchenQual     1\n",
       "GarageCars      1\n",
       "GarageArea      1\n",
       "SaleType        1\n",
       "Utilities       2\n",
       "BsmtFullBath    2\n",
       "BsmtHalfBath    2\n",
       "Functional      2\n",
       "MSZoning        4\n",
       "dtype: int64"
      ]
     },
     "execution_count": 56,
     "metadata": {},
     "output_type": "execute_result"
    }
   ],
   "source": [
    "missing_values = df.isnull().sum()\n",
    "cols_missing_values = missing_values[missing_values > 0].sort_values()\n",
    "cols_missing_values"
   ]
  },
  {
   "cell_type": "markdown",
   "id": "f70c61be",
   "metadata": {},
   "source": [
    "# Columns Examination\n"
   ]
  },
  {
   "cell_type": "code",
   "execution_count": 57,
   "id": "621be405",
   "metadata": {},
   "outputs": [],
   "source": [
    "cols_to_plot = ['LotFrontage', 'LotArea', 'OverallQual', 'HouseStyle', 'OverallCond', 'YearBuilt', 'YearRemodAdd'\n",
    "               'MasVnrArea', 'BsmtFinSF1', 'BsmtUnfSF', 'TotalBsmtSF', '1stFlrSF', '2ndFlrSF', 'GrLivArea', 'TotRmsAbvGrd',\n",
    "               'GarageArea', 'WoodDeckSF', 'OpenPorchSF', 'MoSold', 'YrSold', 'SalePrice']\n"
   ]
  },
  {
   "cell_type": "code",
   "execution_count": 58,
   "id": "4dd9ba2d",
   "metadata": {},
   "outputs": [
    {
     "name": "stdout",
     "output_type": "stream",
     "text": [
      "Id\n",
      "1461    0.000685\n",
      "2441    0.000685\n",
      "2439    0.000685\n",
      "2438    0.000685\n",
      "2437    0.000685\n",
      "          ...   \n",
      "1945    0.000685\n",
      "1944    0.000685\n",
      "1943    0.000685\n",
      "1942    0.000685\n",
      "2919    0.000685\n",
      "Name: Id, Length: 1459, dtype: float64\n",
      "----------------------------\n",
      "MSSubClass\n",
      "20     0.372173\n",
      "60     0.189171\n",
      "50     0.098012\n",
      "120    0.065113\n",
      "30     0.047978\n",
      "70     0.046607\n",
      "160    0.044551\n",
      "80     0.041124\n",
      "90     0.039068\n",
      "190    0.021247\n",
      "85     0.019191\n",
      "75     0.004798\n",
      "180    0.004798\n",
      "45     0.004112\n",
      "40     0.001371\n",
      "150    0.000685\n",
      "Name: MSSubClass, dtype: float64\n",
      "----------------------------\n",
      "MSZoning\n",
      "RL         0.765636\n",
      "RM         0.166323\n",
      "FV         0.050859\n",
      "C (all)    0.010309\n",
      "RH         0.006873\n",
      "Name: MSZoning, dtype: float64\n",
      "----------------------------\n",
      "LotFrontage\n",
      "68.580357     0.155586\n",
      "60.000000     0.091158\n",
      "80.000000     0.046607\n",
      "70.000000     0.043180\n",
      "50.000000     0.041124\n",
      "                ...   \n",
      "117.000000    0.000685\n",
      "31.000000     0.000685\n",
      "119.000000    0.000685\n",
      "25.000000     0.000685\n",
      "140.000000    0.000685\n",
      "Name: LotFrontage, Length: 116, dtype: float64\n",
      "----------------------------\n",
      "LotArea\n",
      "9600     0.013708\n",
      "7200     0.012337\n",
      "6000     0.011652\n",
      "9000     0.010281\n",
      "7500     0.008225\n",
      "           ...   \n",
      "12304    0.000685\n",
      "8232     0.000685\n",
      "2448     0.000685\n",
      "9024     0.000685\n",
      "10441    0.000685\n",
      "Name: LotArea, Length: 1106, dtype: float64\n",
      "----------------------------\n",
      "Street\n",
      "Pave    0.995888\n",
      "Grvl    0.004112\n",
      "Name: Street, dtype: float64\n",
      "----------------------------\n",
      "Alley\n",
      "NA      0.926662\n",
      "Grvl    0.047978\n",
      "Pave    0.025360\n",
      "Name: Alley, dtype: float64\n",
      "----------------------------\n",
      "LotShape\n",
      "Reg    0.640164\n",
      "IR1    0.331734\n",
      "IR2    0.023989\n",
      "IR3    0.004112\n",
      "Name: LotShape, dtype: float64\n",
      "----------------------------\n",
      "LandContour\n",
      "Lvl    0.898561\n",
      "HLS    0.047978\n",
      "Bnk    0.037012\n",
      "Low    0.016450\n",
      "Name: LandContour, dtype: float64\n",
      "----------------------------\n",
      "Utilities\n",
      "AllPub    1.0\n",
      "Name: Utilities, dtype: float64\n",
      "----------------------------\n",
      "LotConfig\n",
      "Inside     0.740918\n",
      "Corner     0.169979\n",
      "CulDSac    0.056203\n",
      "FR2        0.026045\n",
      "FR3        0.006854\n",
      "Name: LotConfig, dtype: float64\n",
      "----------------------------\n",
      "LandSlope\n",
      "Gtl    0.956820\n",
      "Mod    0.041124\n",
      "Sev    0.002056\n",
      "Name: LandSlope, dtype: float64\n",
      "----------------------------\n",
      "Neighborhood\n",
      "NAmes      0.149417\n",
      "OldTown    0.086361\n",
      "CollgCr    0.080192\n",
      "Somerst    0.065798\n",
      "Edwards    0.064428\n",
      "NridgHt    0.061001\n",
      "Gilbert    0.058944\n",
      "Sawyer     0.052776\n",
      "SawyerW    0.045236\n",
      "Mitchel    0.044551\n",
      "NWAmes     0.039753\n",
      "IDOTRR     0.038382\n",
      "Crawfor    0.035641\n",
      "BrkSide    0.034270\n",
      "Timber     0.023304\n",
      "NoRidge    0.020562\n",
      "StoneBr    0.017820\n",
      "SWISU      0.015764\n",
      "MeadowV    0.013708\n",
      "ClearCr    0.010966\n",
      "BrDale     0.009596\n",
      "NPkVill    0.009596\n",
      "Veenker    0.008910\n",
      "Blmngtn    0.007539\n",
      "Blueste    0.005483\n",
      "Name: Neighborhood, dtype: float64\n",
      "----------------------------\n",
      "Condition1\n",
      "Norm      0.857437\n",
      "Feedr     0.056888\n",
      "Artery    0.030158\n",
      "RRAn      0.016450\n",
      "PosN      0.013708\n",
      "RRAe      0.011652\n",
      "PosA      0.008225\n",
      "RRNe      0.002742\n",
      "RRNn      0.002742\n",
      "Name: Condition1, dtype: float64\n",
      "----------------------------\n",
      "Condition2\n",
      "Norm      0.989719\n",
      "Feedr     0.004798\n",
      "PosA      0.002056\n",
      "Artery    0.002056\n",
      "PosN      0.001371\n",
      "Name: Condition2, dtype: float64\n",
      "----------------------------\n",
      "BldgType\n",
      "1Fam      0.825908\n",
      "TwnhsE    0.077450\n",
      "Duplex    0.039068\n",
      "Twnhs     0.036326\n",
      "2fmCon    0.021247\n",
      "Name: BldgType, dtype: float64\n",
      "----------------------------\n",
      "HouseStyle\n",
      "1Story    0.510624\n",
      "2Story    0.292666\n",
      "1.5Fin    0.109664\n",
      "SLvl      0.043180\n",
      "SFoyer    0.031528\n",
      "2.5Unf    0.008910\n",
      "1.5Unf    0.003427\n",
      "Name: HouseStyle, dtype: float64\n",
      "----------------------------\n",
      "OverallQual\n",
      "5     0.293352\n",
      "6     0.244688\n",
      "7     0.192598\n",
      "8     0.119260\n",
      "4     0.075394\n",
      "9     0.043866\n",
      "3     0.013708\n",
      "10    0.008910\n",
      "2     0.006854\n",
      "1     0.001371\n",
      "Name: OverallQual, dtype: float64\n",
      "----------------------------\n",
      "OverallCond\n",
      "5    0.564770\n",
      "6    0.191227\n",
      "7    0.126799\n",
      "8    0.049349\n",
      "4    0.030158\n",
      "3    0.017135\n",
      "9    0.013023\n",
      "1    0.004112\n",
      "2    0.003427\n",
      "Name: OverallCond, dtype: float64\n",
      "----------------------------\n",
      "YearBuilt\n",
      "2005    0.053461\n",
      "2006    0.048663\n",
      "2007    0.041124\n",
      "2004    0.030843\n",
      "2003    0.029472\n",
      "          ...   \n",
      "1914    0.000685\n",
      "1902    0.000685\n",
      "1907    0.000685\n",
      "1931    0.000685\n",
      "1932    0.000685\n",
      "Name: YearBuilt, Length: 106, dtype: float64\n",
      "----------------------------\n",
      "YearRemodAdd\n",
      "1950    0.125428\n",
      "2006    0.071967\n",
      "2007    0.060315\n",
      "2005    0.046607\n",
      "2000    0.033585\n",
      "          ...   \n",
      "1988    0.004112\n",
      "1983    0.004112\n",
      "1985    0.003427\n",
      "1981    0.002742\n",
      "1982    0.001371\n",
      "Name: YearRemodAdd, Length: 61, dtype: float64\n",
      "----------------------------\n",
      "RoofStyle\n",
      "Gable      0.801234\n",
      "Hip        0.181631\n",
      "Gambrel    0.007539\n",
      "Flat       0.004798\n",
      "Mansard    0.002742\n",
      "Shed       0.002056\n",
      "Name: RoofStyle, dtype: float64\n",
      "----------------------------\n",
      "RoofMatl\n",
      "CompShg    0.988348\n",
      "Tar&Grv    0.008225\n",
      "WdShake    0.002742\n",
      "WdShngl    0.000685\n",
      "Name: RoofMatl, dtype: float64\n",
      "----------------------------\n",
      "Exterior1st\n",
      "VinylSd    0.349794\n",
      "MetalSd    0.157750\n",
      "HdBoard    0.150892\n",
      "Wd Sdng    0.140604\n",
      "Plywood    0.077503\n",
      "CemntBd    0.044582\n",
      "BrkFace    0.025377\n",
      "WdShing    0.020576\n",
      "AsbShng    0.016461\n",
      "Stucco     0.012346\n",
      "BrkComm    0.002743\n",
      "AsphShn    0.000686\n",
      "CBlock     0.000686\n",
      "Name: Exterior1st, dtype: float64\n",
      "----------------------------\n",
      "Exterior2nd\n",
      "VinylSd    0.349794\n",
      "MetalSd    0.159808\n",
      "HdBoard    0.136488\n",
      "Wd Sdng    0.133059\n",
      "Plywood    0.087791\n",
      "CmentBd    0.045267\n",
      "Wd Shng    0.029492\n",
      "BrkFace    0.015089\n",
      "Stucco     0.014403\n",
      "AsbShng    0.012346\n",
      "Brk Cmn    0.010288\n",
      "ImStucc    0.003429\n",
      "CBlock     0.001372\n",
      "AsphShn    0.000686\n",
      "Stone      0.000686\n",
      "Name: Exterior2nd, dtype: float64\n",
      "----------------------------\n",
      "MasVnrType\n",
      "None       0.612748\n",
      "BrkFace    0.297464\n",
      "Stone      0.082934\n",
      "BrkCmn     0.006854\n",
      "Name: MasVnrType, dtype: float64\n",
      "----------------------------\n",
      "MasVnrArea\n",
      "0.0       0.611378\n",
      "176.0     0.006854\n",
      "144.0     0.006169\n",
      "120.0     0.005483\n",
      "216.0     0.005483\n",
      "            ...   \n",
      "647.0     0.000685\n",
      "1290.0    0.000685\n",
      "495.0     0.000685\n",
      "292.0     0.000685\n",
      "382.0     0.000685\n",
      "Name: MasVnrArea, Length: 303, dtype: float64\n",
      "----------------------------\n",
      "ExterQual\n",
      "TA    0.611378\n",
      "Gd    0.336532\n",
      "Ex    0.037697\n",
      "Fa    0.014393\n",
      "Name: ExterQual, dtype: float64\n",
      "----------------------------\n",
      "ExterCond\n",
      "TA    0.860864\n",
      "Gd    0.104866\n",
      "Fa    0.026731\n",
      "Ex    0.006169\n",
      "Po    0.001371\n",
      "Name: ExterCond, dtype: float64\n",
      "----------------------------\n",
      "Foundation\n",
      "PConc     0.453050\n",
      "CBlock    0.411926\n",
      "BrkTil    0.113091\n",
      "Slab      0.017135\n",
      "Stone     0.003427\n",
      "Wood      0.001371\n",
      "Name: Foundation, dtype: float64\n",
      "----------------------------\n",
      "BsmtQual\n",
      "TA    0.434544\n",
      "Gd    0.405072\n",
      "Ex    0.093900\n",
      "Fa    0.036326\n",
      "NA    0.030158\n",
      "Name: BsmtQual, dtype: float64\n",
      "----------------------------\n",
      "BsmtCond\n",
      "TA    0.887594\n",
      "Fa    0.040439\n",
      "Gd    0.039068\n",
      "NA    0.030843\n",
      "Po    0.002056\n",
      "Name: BsmtCond, dtype: float64\n",
      "----------------------------\n",
      "BsmtExposure\n",
      "No    0.651816\n",
      "Av    0.135024\n",
      "Gd    0.097327\n",
      "Mn    0.085675\n",
      "NA    0.030158\n",
      "Name: BsmtExposure, dtype: float64\n",
      "----------------------------\n",
      "BsmtFinType1\n",
      "GLQ    0.295408\n",
      "Unf    0.288554\n",
      "ALQ    0.143249\n",
      "Rec    0.106237\n",
      "BLQ    0.082934\n",
      "LwQ    0.054832\n",
      "NA     0.028787\n",
      "Name: BsmtFinType1, dtype: float64\n",
      "----------------------------\n",
      "BsmtFinSF1\n",
      "0.0       0.316872\n",
      "24.0      0.010288\n",
      "276.0     0.004115\n",
      "602.0     0.004115\n",
      "300.0     0.003429\n",
      "            ...   \n",
      "1337.0    0.000686\n",
      "656.0     0.000686\n",
      "706.0     0.000686\n",
      "496.0     0.000686\n",
      "337.0     0.000686\n",
      "Name: BsmtFinSF1, Length: 669, dtype: float64\n",
      "----------------------------\n",
      "BsmtFinType2\n",
      "Unf    0.847841\n",
      "Rec    0.034955\n",
      "NA     0.028787\n",
      "LwQ    0.028101\n",
      "BLQ    0.023989\n",
      "ALQ    0.022618\n",
      "GLQ    0.013708\n",
      "Name: BsmtFinType2, dtype: float64\n",
      "----------------------------\n",
      "BsmtFinSF2\n",
      "0.0      0.876543\n",
      "483.0    0.002058\n",
      "162.0    0.002058\n",
      "294.0    0.002058\n",
      "144.0    0.001372\n",
      "           ...   \n",
      "110.0    0.000686\n",
      "186.0    0.000686\n",
      "449.0    0.000686\n",
      "48.0     0.000686\n",
      "344.0    0.000686\n",
      "Name: BsmtFinSF2, Length: 161, dtype: float64\n",
      "----------------------------\n",
      "BsmtUnfSF\n",
      "0.0       0.084362\n",
      "384.0     0.007545\n",
      "624.0     0.005487\n",
      "738.0     0.004801\n",
      "100.0     0.004801\n",
      "            ...   \n",
      "36.0      0.000686\n",
      "892.0     0.000686\n",
      "747.0     0.000686\n",
      "1216.0    0.000686\n",
      "1503.0    0.000686\n",
      "Name: BsmtUnfSF, Length: 793, dtype: float64\n",
      "----------------------------\n",
      "TotalBsmtSF\n",
      "0.0       0.028121\n",
      "864.0     0.026749\n",
      "960.0     0.008916\n",
      "546.0     0.008230\n",
      "768.0     0.008230\n",
      "            ...   \n",
      "1146.0    0.000686\n",
      "1415.0    0.000686\n",
      "764.0     0.000686\n",
      "1367.0    0.000686\n",
      "996.0     0.000686\n",
      "Name: TotalBsmtSF, Length: 736, dtype: float64\n",
      "----------------------------\n",
      "Heating\n",
      "GasA    0.991090\n",
      "GasW    0.006169\n",
      "Grav    0.001371\n",
      "Wall    0.001371\n",
      "Name: Heating, dtype: float64\n",
      "----------------------------\n",
      "HeatingQC\n",
      "Ex    0.515422\n",
      "TA    0.294037\n",
      "Gd    0.159698\n",
      "Fa    0.029472\n",
      "Po    0.001371\n",
      "Name: HeatingQC, dtype: float64\n",
      "----------------------------\n",
      "CentralAir\n",
      "Y    0.930775\n",
      "N    0.069225\n",
      "Name: CentralAir, dtype: float64\n",
      "----------------------------\n",
      "Electrical\n",
      "SBrkr    0.916381\n",
      "FuseA    0.064428\n",
      "FuseF    0.015764\n",
      "FuseP    0.003427\n",
      "Name: Electrical, dtype: float64\n",
      "----------------------------\n",
      "1stFlrSF\n",
      "864     0.014393\n",
      "1040    0.008225\n",
      "546     0.008225\n",
      "960     0.007539\n",
      "936     0.006854\n",
      "          ...   \n",
      "1372    0.000685\n",
      "1460    0.000685\n",
      "1578    0.000685\n",
      "2006    0.000685\n",
      "996     0.000685\n",
      "Name: 1stFlrSF, Length: 789, dtype: float64\n",
      "----------------------------\n",
      "2ndFlrSF\n",
      "0       0.575051\n",
      "546     0.010281\n",
      "504     0.005483\n",
      "728     0.005483\n",
      "886     0.004798\n",
      "          ...   \n",
      "919     0.000685\n",
      "520     0.000685\n",
      "1250    0.000685\n",
      "1061    0.000685\n",
      "1004    0.000685\n",
      "Name: 2ndFlrSF, Length: 407, dtype: float64\n",
      "----------------------------\n",
      "LowQualFinSF\n",
      "0       0.990404\n",
      "362     0.000685\n",
      "1064    0.000685\n",
      "431     0.000685\n",
      "436     0.000685\n",
      "259     0.000685\n",
      "312     0.000685\n",
      "108     0.000685\n",
      "697     0.000685\n",
      "512     0.000685\n",
      "114     0.000685\n",
      "205     0.000685\n",
      "80      0.000685\n",
      "140     0.000685\n",
      "450     0.000685\n",
      "Name: LowQualFinSF, dtype: float64\n",
      "----------------------------\n",
      "GrLivArea\n",
      "864     0.013023\n",
      "1092    0.012337\n",
      "1040    0.007539\n",
      "1456    0.006854\n",
      "1200    0.006169\n",
      "          ...   \n",
      "1570    0.000685\n",
      "2133    0.000685\n",
      "1988    0.000685\n",
      "1036    0.000685\n",
      "970     0.000685\n",
      "Name: GrLivArea, Length: 879, dtype: float64\n",
      "----------------------------\n",
      "BsmtFullBath\n",
      "0.0    0.582704\n",
      "1.0    0.400824\n",
      "2.0    0.015786\n",
      "3.0    0.000686\n",
      "Name: BsmtFullBath, dtype: float64\n",
      "----------------------------\n",
      "BsmtHalfBath\n",
      "0.0    0.936170\n",
      "1.0    0.062457\n",
      "2.0    0.001373\n",
      "Name: BsmtHalfBath, dtype: float64\n",
      "----------------------------\n",
      "FullBath\n",
      "2    0.522276\n",
      "1    0.451679\n",
      "3    0.021247\n",
      "4    0.002742\n",
      "0    0.002056\n",
      "Name: FullBath, dtype: float64\n",
      "----------------------------\n",
      "HalfBath\n",
      "0    0.631254\n",
      "1    0.359836\n",
      "2    0.008910\n",
      "Name: HalfBath, dtype: float64\n",
      "----------------------------\n",
      "BedroomAbvGr\n",
      "3    0.542838\n",
      "2    0.263194\n",
      "4    0.128170\n",
      "1    0.036326\n",
      "5    0.018506\n",
      "6    0.009596\n",
      "0    0.001371\n",
      "Name: BedroomAbvGr, dtype: float64\n",
      "----------------------------\n",
      "KitchenAbvGr\n",
      "1    0.954764\n",
      "2    0.043866\n",
      "0    0.001371\n",
      "Name: KitchenAbvGr, dtype: float64\n",
      "----------------------------\n",
      "KitchenQual\n",
      "TA    0.519204\n",
      "Gd    0.387517\n",
      "Ex    0.072016\n",
      "Fa    0.021262\n",
      "Name: KitchenQual, dtype: float64\n",
      "----------------------------\n",
      "TotRmsAbvGrd\n",
      "6     0.302947\n",
      "7     0.219328\n",
      "5     0.211103\n",
      "8     0.109664\n",
      "4     0.067855\n",
      "9     0.046607\n",
      "10    0.022618\n",
      "11    0.009596\n",
      "3     0.005483\n",
      "12    0.003427\n",
      "13    0.000685\n",
      "15    0.000685\n",
      "Name: TotRmsAbvGrd, dtype: float64\n",
      "----------------------------\n",
      "Functional\n",
      "Typ     0.931366\n",
      "Min2    0.024708\n",
      "Min1    0.023336\n",
      "Mod     0.013727\n",
      "Maj1    0.003432\n",
      "Maj2    0.002745\n",
      "Sev     0.000686\n",
      "Name: Functional, dtype: float64\n",
      "----------------------------\n",
      "Fireplaces\n",
      "0    0.500343\n",
      "1    0.423578\n",
      "2    0.071282\n",
      "3    0.004112\n",
      "4    0.000685\n",
      "Name: Fireplaces, dtype: float64\n",
      "----------------------------\n",
      "FireplaceQu\n",
      "NA    0.500343\n",
      "Gd    0.249486\n",
      "TA    0.191227\n",
      "Fa    0.028101\n",
      "Po    0.017820\n",
      "Ex    0.013023\n",
      "Name: FireplaceQu, dtype: float64\n",
      "----------------------------\n",
      "GarageType\n",
      "Attchd     0.584647\n",
      "Detchd     0.268677\n",
      "BuiltIn    0.067169\n",
      "NA         0.052090\n",
      "Basment    0.011652\n",
      "2Types     0.011652\n",
      "CarPort    0.004112\n",
      "Name: GarageType, dtype: float64\n",
      "----------------------------\n",
      "GarageYrBlt\n",
      "NA        0.053461\n",
      "2005.0    0.052776\n",
      "2007.0    0.045236\n",
      "2006.0    0.038382\n",
      "2004.0    0.031528\n",
      "            ...   \n",
      "1918.0    0.000685\n",
      "1895.0    0.000685\n",
      "1932.0    0.000685\n",
      "1916.0    0.000685\n",
      "1919.0    0.000685\n",
      "Name: GarageYrBlt, Length: 98, dtype: float64\n",
      "----------------------------\n",
      "GarageFinish\n",
      "Unf    0.428376\n",
      "RFn    0.266621\n",
      "Fin    0.251542\n",
      "NA     0.053461\n",
      "Name: GarageFinish, dtype: float64\n",
      "----------------------------\n",
      "GarageCars\n",
      "2.0    0.528121\n",
      "1.0    0.279150\n",
      "3.0    0.132373\n",
      "0.0    0.052126\n",
      "4.0    0.007545\n",
      "5.0    0.000686\n",
      "Name: GarageCars, dtype: float64\n",
      "----------------------------\n",
      "GarageArea\n",
      "0.0       0.052126\n",
      "576.0     0.034294\n",
      "440.0     0.032236\n",
      "484.0     0.023320\n",
      "400.0     0.022634\n",
      "            ...   \n",
      "453.0     0.000686\n",
      "1348.0    0.000686\n",
      "567.0     0.000686\n",
      "811.0     0.000686\n",
      "682.0     0.000686\n",
      "Name: GarageArea, Length: 459, dtype: float64\n",
      "----------------------------\n",
      "GarageQual\n",
      "TA    0.886223\n",
      "NA    0.053461\n",
      "Fa    0.052090\n",
      "Gd    0.006854\n",
      "Po    0.001371\n",
      "Name: GarageQual, dtype: float64\n",
      "----------------------------\n",
      "GarageCond\n",
      "TA    0.910212\n",
      "NA    0.053461\n",
      "Fa    0.026731\n",
      "Po    0.004798\n",
      "Gd    0.004112\n",
      "Ex    0.000685\n",
      "Name: GarageCond, dtype: float64\n",
      "----------------------------\n",
      "PavedDrive\n",
      "Y    0.891707\n",
      "N    0.086361\n",
      "P    0.021933\n",
      "Name: PavedDrive, dtype: float64\n",
      "----------------------------\n",
      "WoodDeckSF\n",
      "0      0.522276\n",
      "100    0.026045\n",
      "192    0.021933\n",
      "168    0.019191\n",
      "144    0.019191\n",
      "         ...   \n",
      "385    0.000685\n",
      "133    0.000685\n",
      "145    0.000685\n",
      "117    0.000685\n",
      "474    0.000685\n",
      "Name: WoodDeckSF, Length: 263, dtype: float64\n",
      "----------------------------\n",
      "OpenPorchSF\n",
      "0      0.440027\n",
      "48     0.019877\n",
      "32     0.018506\n",
      "40     0.017135\n",
      "36     0.015764\n",
      "         ...   \n",
      "207    0.000685\n",
      "184    0.000685\n",
      "238    0.000685\n",
      "137    0.000685\n",
      "225    0.000685\n",
      "Name: OpenPorchSF, Length: 203, dtype: float64\n",
      "----------------------------\n",
      "EnclosedPorch\n",
      "0      0.827964\n",
      "96     0.004798\n",
      "168    0.004798\n",
      "112    0.004798\n",
      "144    0.004112\n",
      "         ...   \n",
      "368    0.000685\n",
      "72     0.000685\n",
      "57     0.000685\n",
      "334    0.000685\n",
      "23     0.000685\n",
      "Name: EnclosedPorch, Length: 131, dtype: float64\n",
      "----------------------------\n",
      "3SsnPorch\n",
      "0      0.991090\n",
      "153    0.001371\n",
      "224    0.000685\n",
      "255    0.000685\n",
      "225    0.000685\n",
      "360    0.000685\n",
      "150    0.000685\n",
      "174    0.000685\n",
      "120    0.000685\n",
      "219    0.000685\n",
      "176    0.000685\n",
      "86     0.000685\n",
      "323    0.000685\n",
      "Name: 3SsnPorch, dtype: float64\n",
      "----------------------------\n",
      "ScreenPorch\n",
      "0      0.904044\n",
      "144    0.006854\n",
      "168    0.004798\n",
      "216    0.004112\n",
      "192    0.003427\n",
      "         ...   \n",
      "221    0.000685\n",
      "171    0.000685\n",
      "135    0.000685\n",
      "322    0.000685\n",
      "104    0.000685\n",
      "Name: ScreenPorch, Length: 75, dtype: float64\n",
      "----------------------------\n",
      "PoolArea\n",
      "0      0.995888\n",
      "144    0.000685\n",
      "368    0.000685\n",
      "444    0.000685\n",
      "228    0.000685\n",
      "561    0.000685\n",
      "800    0.000685\n",
      "Name: PoolArea, dtype: float64\n",
      "----------------------------\n",
      "PoolQC\n",
      "NA    0.997944\n",
      "Ex    0.001371\n",
      "Gd    0.000685\n",
      "Name: PoolQC, dtype: float64\n",
      "----------------------------\n",
      "Fence\n",
      "NA       0.801234\n",
      "MnPrv    0.117889\n",
      "GdPrv    0.040439\n",
      "GdWo     0.039753\n",
      "MnWw     0.000685\n",
      "Name: Fence, dtype: float64\n",
      "----------------------------\n",
      "MiscFeature\n",
      "None    0.965045\n",
      "Shed    0.031528\n",
      "Gar2    0.002056\n",
      "Othr    0.001371\n",
      "Name: MiscFeature, dtype: float64\n",
      "----------------------------\n",
      "MiscVal\n",
      "0        0.965045\n",
      "400      0.004798\n",
      "500      0.003427\n",
      "450      0.003427\n",
      "600      0.002742\n",
      "650      0.002056\n",
      "2000     0.002056\n",
      "1500     0.002056\n",
      "3000     0.001371\n",
      "4500     0.001371\n",
      "700      0.001371\n",
      "455      0.000685\n",
      "6500     0.000685\n",
      "17000    0.000685\n",
      "460      0.000685\n",
      "1000     0.000685\n",
      "1512     0.000685\n",
      "2500     0.000685\n",
      "750      0.000685\n",
      "12500    0.000685\n",
      "900      0.000685\n",
      "1200     0.000685\n",
      "490      0.000685\n",
      "80       0.000685\n",
      "300      0.000685\n",
      "420      0.000685\n",
      "Name: MiscVal, dtype: float64\n",
      "----------------------------\n",
      "MoSold\n",
      "6     0.171350\n",
      "7     0.145305\n",
      "5     0.130226\n",
      "4     0.094585\n",
      "3     0.086361\n",
      "8     0.076080\n",
      "9     0.065113\n",
      "10    0.057574\n",
      "2     0.055517\n",
      "1     0.043866\n",
      "11    0.043180\n",
      "12    0.030843\n",
      "Name: MoSold, dtype: float64\n",
      "----------------------------\n",
      "YrSold\n",
      "2007    0.248801\n",
      "2008    0.217958\n",
      "2009    0.211789\n",
      "2006    0.209047\n",
      "2010    0.112406\n",
      "Name: YrSold, dtype: float64\n",
      "----------------------------\n",
      "SaleType\n",
      "WD       0.862826\n",
      "New      0.080247\n",
      "COD      0.030178\n",
      "ConLD    0.011660\n",
      "CWD      0.005487\n",
      "Oth      0.002743\n",
      "ConLI    0.002743\n",
      "Con      0.002058\n",
      "ConLw    0.002058\n",
      "Name: SaleType, dtype: float64\n",
      "----------------------------\n",
      "SaleCondition\n",
      "Normal     0.825223\n",
      "Partial    0.082248\n",
      "Abnorml    0.061001\n",
      "Family     0.017820\n",
      "Alloca     0.008225\n",
      "AdjLand    0.005483\n",
      "Name: SaleCondition, dtype: float64\n",
      "----------------------------\n"
     ]
    }
   ],
   "source": [
    "a = list(df.columns)\n",
    "for i in a:\n",
    "    print(i)\n",
    "    print(df[i].value_counts(normalize = True))\n",
    "    print('----------------------------')"
   ]
  },
  {
   "cell_type": "code",
   "execution_count": 59,
   "id": "8deabf6e",
   "metadata": {},
   "outputs": [
    {
     "data": {
      "text/plain": [
       "(1459, 80)"
      ]
     },
     "execution_count": 59,
     "metadata": {},
     "output_type": "execute_result"
    }
   ],
   "source": [
    "df.shape"
   ]
  },
  {
   "cell_type": "code",
   "execution_count": 60,
   "id": "94d118cb",
   "metadata": {},
   "outputs": [],
   "source": [
    "#cols wo enough variance, drop\n",
    "cols_to_drop = ['MSZoning', 'Street', 'Alley', 'LandContour', 'Utilities','LandSlope', 'Condition1', 'Condition2',\n",
    "               'BldgType','RoofMatl', 'BsmtCond', 'BsmtFinType2', 'BsmtFinSF2', 'Heating', 'LowQualFinSF', 'BsmtHalfBath',\n",
    "               'Functional', 'FireplaceQu', 'GarageYrBlt','GarageQual','GarageCond','PavedDrive', 'EnclosedPorch', \n",
    "                '3SsnPorch', 'PoolQC', 'MiscFeature', 'MiscVal', 'ExterCond', 'PoolArea']\n",
    "df.drop(cols_to_drop, inplace = True, axis = 1)\n",
    "\n",
    "\n",
    "\n"
   ]
  },
  {
   "cell_type": "code",
   "execution_count": 61,
   "id": "1fa27e26",
   "metadata": {},
   "outputs": [],
   "source": [
    "#cols that need to be condensed\n",
    "cols_to_combine = ['LotShape', 'LotConfig', 'HouseStyle', 'RoofStyle', 'Exterior1st', 'Exterior2nd', 'MasVnrType',\n",
    "                  'ExterQual', 'Foundation', 'BsmtQual', 'BsmtExposure', 'BsmtFinType1', 'HeatingQC'\n",
    "                  'Electrical', 'BsmtFullBath', 'FullBath', 'HalfBath', 'BedroomAbvGr', 'KitchenAbvGr', 'KitchenQual',\n",
    "                  'Fireplaces', 'GarageType', 'GarageFinish', 'GarageCars', 'PoolArea', 'Fence', 'SaleType',\n",
    "                  'SaleCondition']"
   ]
  },
  {
   "cell_type": "markdown",
   "id": "d80447b6",
   "metadata": {},
   "source": [
    "## Column Condensation"
   ]
  },
  {
   "cell_type": "code",
   "execution_count": 62,
   "id": "018389c8",
   "metadata": {},
   "outputs": [],
   "source": [
    "#cols that need to be condensed\n",
    "cols_to_combine = ['LotShape', 'LotConfig', 'HouseStyle', 'RoofStyle', 'Exterior1st', 'Exterior2nd', 'MasVnrType',\n",
    "                  'ExterQual', 'ExterCond', 'Foundation', 'BsmtQual', 'BsmtExposure', 'BsmtFinType1', 'HeatingQC'\n",
    "                  'Electrical', 'FullBath', 'HalfBath', 'KitchenQual',\n",
    "                  'GarageType', 'GarageFinish', 'GarageCars', 'Fence', 'SaleType',\n",
    "                  'SaleCondition']"
   ]
  },
  {
   "cell_type": "code",
   "execution_count": 63,
   "id": "a6f585e3",
   "metadata": {},
   "outputs": [
    {
     "name": "stderr",
     "output_type": "stream",
     "text": [
      "/var/folders/vx/h6y694195c58b8jxzjdg2j_00000gn/T/ipykernel_5018/2781037067.py:4: SettingWithCopyWarning: \n",
      "A value is trying to be set on a copy of a slice from a DataFrame\n",
      "\n",
      "See the caveats in the documentation: https://pandas.pydata.org/pandas-docs/stable/user_guide/indexing.html#returning-a-view-versus-a-copy\n",
      "  df['LotShape'][i] = 1\n",
      "/var/folders/vx/h6y694195c58b8jxzjdg2j_00000gn/T/ipykernel_5018/2781037067.py:6: SettingWithCopyWarning: \n",
      "A value is trying to be set on a copy of a slice from a DataFrame\n",
      "\n",
      "See the caveats in the documentation: https://pandas.pydata.org/pandas-docs/stable/user_guide/indexing.html#returning-a-view-versus-a-copy\n",
      "  df['LotShape'][i] = 0\n"
     ]
    }
   ],
   "source": [
    "#LotShape\n",
    "for i in range(len(df.LotShape)):\n",
    "    if df.LotShape[i] == 'Reg':\n",
    "        df['LotShape'][i] = 1\n",
    "    else:\n",
    "        df['LotShape'][i] = 0\n",
    "df.LotShape = df.LotShape.astype(int)"
   ]
  },
  {
   "cell_type": "code",
   "execution_count": 64,
   "id": "85aa42b8",
   "metadata": {},
   "outputs": [
    {
     "name": "stdout",
     "output_type": "stream",
     "text": [
      "Inside     1081\n",
      "Corner      248\n",
      "CulDSac      82\n",
      "FR2          38\n",
      "FR3          10\n",
      "Name: LotConfig, dtype: int64\n"
     ]
    },
    {
     "name": "stderr",
     "output_type": "stream",
     "text": [
      "/var/folders/vx/h6y694195c58b8jxzjdg2j_00000gn/T/ipykernel_5018/3818402175.py:4: SettingWithCopyWarning: \n",
      "A value is trying to be set on a copy of a slice from a DataFrame\n",
      "\n",
      "See the caveats in the documentation: https://pandas.pydata.org/pandas-docs/stable/user_guide/indexing.html#returning-a-view-versus-a-copy\n",
      "  df['LotConfig'][i] = 1\n",
      "/var/folders/vx/h6y694195c58b8jxzjdg2j_00000gn/T/ipykernel_5018/3818402175.py:6: SettingWithCopyWarning: \n",
      "A value is trying to be set on a copy of a slice from a DataFrame\n",
      "\n",
      "See the caveats in the documentation: https://pandas.pydata.org/pandas-docs/stable/user_guide/indexing.html#returning-a-view-versus-a-copy\n",
      "  df['LotConfig'][i] = 0\n"
     ]
    }
   ],
   "source": [
    "print(df.LotConfig.value_counts())\n",
    "for i in range(len(df.LotConfig)):\n",
    "    if df.LotConfig[i] == 'Inside':\n",
    "        df['LotConfig'][i] = 1\n",
    "    else:\n",
    "        df['LotConfig'][i] = 0\n",
    "df.LotConfig = df.LotConfig.astype(int)"
   ]
  },
  {
   "cell_type": "code",
   "execution_count": 65,
   "id": "07a973c3",
   "metadata": {},
   "outputs": [
    {
     "name": "stdout",
     "output_type": "stream",
     "text": [
      "1Story    745\n",
      "2Story    427\n",
      "1.5Fin    160\n",
      "SLvl       63\n",
      "SFoyer     46\n",
      "2.5Unf     13\n",
      "1.5Unf      5\n",
      "Name: HouseStyle, dtype: int64\n"
     ]
    }
   ],
   "source": [
    "print(df.HouseStyle.value_counts())"
   ]
  },
  {
   "cell_type": "code",
   "execution_count": 66,
   "id": "8a1094a9",
   "metadata": {},
   "outputs": [
    {
     "name": "stderr",
     "output_type": "stream",
     "text": [
      "/var/folders/vx/h6y694195c58b8jxzjdg2j_00000gn/T/ipykernel_5018/294716839.py:3: SettingWithCopyWarning: \n",
      "A value is trying to be set on a copy of a slice from a DataFrame\n",
      "\n",
      "See the caveats in the documentation: https://pandas.pydata.org/pandas-docs/stable/user_guide/indexing.html#returning-a-view-versus-a-copy\n",
      "  df.HouseStyle[i] = 'Other'\n"
     ]
    }
   ],
   "source": [
    "for i in range(len(df.HouseStyle)):\n",
    "    if df.HouseStyle[i] in ('SLvl', 'SFoyer', '1.5Unf', '2.5Unf', '2.5Fin'):\n",
    "        df.HouseStyle[i] = 'Other'"
   ]
  },
  {
   "cell_type": "code",
   "execution_count": 67,
   "id": "89a84674",
   "metadata": {},
   "outputs": [
    {
     "name": "stdout",
     "output_type": "stream",
     "text": [
      "Gable      1169\n",
      "Hip         265\n",
      "Gambrel      11\n",
      "Flat          7\n",
      "Mansard       4\n",
      "Shed          3\n",
      "Name: RoofStyle, dtype: int64\n"
     ]
    },
    {
     "name": "stderr",
     "output_type": "stream",
     "text": [
      "/var/folders/vx/h6y694195c58b8jxzjdg2j_00000gn/T/ipykernel_5018/2938447201.py:4: SettingWithCopyWarning: \n",
      "A value is trying to be set on a copy of a slice from a DataFrame\n",
      "\n",
      "See the caveats in the documentation: https://pandas.pydata.org/pandas-docs/stable/user_guide/indexing.html#returning-a-view-versus-a-copy\n",
      "  df['RoofStyle'][i] = 1\n",
      "/var/folders/vx/h6y694195c58b8jxzjdg2j_00000gn/T/ipykernel_5018/2938447201.py:6: SettingWithCopyWarning: \n",
      "A value is trying to be set on a copy of a slice from a DataFrame\n",
      "\n",
      "See the caveats in the documentation: https://pandas.pydata.org/pandas-docs/stable/user_guide/indexing.html#returning-a-view-versus-a-copy\n",
      "  df['RoofStyle'][i] = 0\n"
     ]
    }
   ],
   "source": [
    "print(df.RoofStyle.value_counts())\n",
    "for i in range(len(df.RoofStyle)):\n",
    "    if df.RoofStyle[i] == 'Gable':\n",
    "        df['RoofStyle'][i] = 1\n",
    "    else:\n",
    "        df['RoofStyle'][i] = 0\n",
    "df.RoofStyle = df.RoofStyle.astype(int)"
   ]
  },
  {
   "cell_type": "code",
   "execution_count": 68,
   "id": "e68154a7",
   "metadata": {},
   "outputs": [],
   "source": [
    "cols_to_combine = ['LotShape', 'LotConfig', 'HouseStyle', 'RoofStyle', 'Exterior1st', 'Exterior2nd', 'MasVnrType',\n",
    "                  'ExterQual', 'ExterCond', 'Foundation', 'BsmtQual', 'BsmtExposure', 'BsmtFinType1', 'HeatingQC'\n",
    "                  'Electrical', 'BsmtFullBath', 'FullBath', 'HalfBath', 'BedroomAbvGr', 'KitchenAbvGr', 'KitchenQual',\n",
    "                  'Fireplaces', 'GarageType', 'GarageFinish', 'GarageCars', 'PoolArea', 'Fence', 'SaleType',\n",
    "                  'SaleCondition']"
   ]
  },
  {
   "cell_type": "code",
   "execution_count": 92,
   "id": "415e8090",
   "metadata": {},
   "outputs": [
    {
     "ename": "NameError",
     "evalue": "name 'na' is not defined",
     "output_type": "error",
     "traceback": [
      "\u001b[0;31m---------------------------------------------------------------------------\u001b[0m",
      "\u001b[0;31mNameError\u001b[0m                                 Traceback (most recent call last)",
      "Input \u001b[0;32mIn [92]\u001b[0m, in \u001b[0;36m<cell line: 2>\u001b[0;34m()\u001b[0m\n\u001b[1;32m      1\u001b[0m df\u001b[38;5;241m.\u001b[39mExterior1st\u001b[38;5;241m.\u001b[39mvalue_counts()\n\u001b[1;32m      2\u001b[0m \u001b[38;5;28;01mfor\u001b[39;00m i \u001b[38;5;129;01min\u001b[39;00m \u001b[38;5;28mrange\u001b[39m(\u001b[38;5;28mlen\u001b[39m(df\u001b[38;5;241m.\u001b[39mExterior1st)):\n\u001b[0;32m----> 3\u001b[0m     \u001b[38;5;28;01mif\u001b[39;00m df\u001b[38;5;241m.\u001b[39mExterior1st[i] \u001b[38;5;129;01min\u001b[39;00m (\u001b[43mna\u001b[49m, \u001b[38;5;124m'\u001b[39m\u001b[38;5;124mCemntBd\u001b[39m\u001b[38;5;124m'\u001b[39m, \u001b[38;5;124m'\u001b[39m\u001b[38;5;124mBrkFace\u001b[39m\u001b[38;5;124m'\u001b[39m, \u001b[38;5;124m'\u001b[39m\u001b[38;5;124mWdShing\u001b[39m\u001b[38;5;124m'\u001b[39m, \u001b[38;5;124m'\u001b[39m\u001b[38;5;124mStucco\u001b[39m\u001b[38;5;124m'\u001b[39m, \u001b[38;5;124m'\u001b[39m\u001b[38;5;124mAsbShng\u001b[39m\u001b[38;5;124m'\u001b[39m, \u001b[38;5;124m'\u001b[39m\u001b[38;5;124mBrkComm\u001b[39m\u001b[38;5;124m'\u001b[39m, \u001b[38;5;124m'\u001b[39m\u001b[38;5;124mStone\u001b[39m\u001b[38;5;124m'\u001b[39m, \u001b[38;5;124m'\u001b[39m\u001b[38;5;124mAsphShn\u001b[39m\u001b[38;5;124m'\u001b[39m, \u001b[38;5;124m'\u001b[39m\u001b[38;5;124mImStucc\u001b[39m\u001b[38;5;124m'\u001b[39m, \u001b[38;5;124m'\u001b[39m\u001b[38;5;124mCBlock\u001b[39m\u001b[38;5;124m'\u001b[39m):\n\u001b[1;32m      4\u001b[0m         df\u001b[38;5;241m.\u001b[39mExterior1st[i] \u001b[38;5;241m=\u001b[39m \u001b[38;5;124m'\u001b[39m\u001b[38;5;124mOther\u001b[39m\u001b[38;5;124m'\u001b[39m\n",
      "\u001b[0;31mNameError\u001b[0m: name 'na' is not defined"
     ]
    }
   ],
   "source": [
    "df.Exterior1st.value_counts()\n",
    "for i in range(len(df.Exterior1st)):\n",
    "    if df.Exterior1st[i] in ('CemntBd', 'BrkFace', 'WdShing', 'Stucco', 'AsbShng', 'BrkComm', 'Stone', 'AsphShn', 'ImStucc', 'CBlock'):\n",
    "        df.Exterior1st[i] = 'Other'\n"
   ]
  },
  {
   "cell_type": "code",
   "execution_count": 70,
   "id": "a3bddbf2",
   "metadata": {},
   "outputs": [
    {
     "data": {
      "text/plain": [
       "VinylSd    510\n",
       "MetalSd    230\n",
       "HdBoard    220\n",
       "Wd Sdng    205\n",
       "Other      180\n",
       "Plywood    113\n",
       "Name: Exterior1st, dtype: int64"
      ]
     },
     "execution_count": 70,
     "metadata": {},
     "output_type": "execute_result"
    }
   ],
   "source": [
    "df.Exterior1st.value_counts()"
   ]
  },
  {
   "cell_type": "code",
   "execution_count": 71,
   "id": "adb0f380",
   "metadata": {},
   "outputs": [
    {
     "name": "stderr",
     "output_type": "stream",
     "text": [
      "/var/folders/vx/h6y694195c58b8jxzjdg2j_00000gn/T/ipykernel_5018/3267484466.py:4: SettingWithCopyWarning: \n",
      "A value is trying to be set on a copy of a slice from a DataFrame\n",
      "\n",
      "See the caveats in the documentation: https://pandas.pydata.org/pandas-docs/stable/user_guide/indexing.html#returning-a-view-versus-a-copy\n",
      "  df.Exterior2nd[i] = 'Other'\n"
     ]
    }
   ],
   "source": [
    "df.Exterior2nd.value_counts()\n",
    "for i in range(len(df.Exterior2nd)):\n",
    "    if df.Exterior2nd[i] in ('CmentBd', 'Wd Shng', 'Brk Cmn','CemntBd', 'BrkFace', 'WdShing', 'Stucco', 'AsbShng', 'BrkComm', 'Stone', 'AsphShn', 'ImStucc', 'CBlock'):\n",
    "        df.Exterior2nd[i] = 'Other'\n",
    "\n",
    "        \n",
    "        \n",
    "        "
   ]
  },
  {
   "cell_type": "code",
   "execution_count": 72,
   "id": "8f56f0e6",
   "metadata": {},
   "outputs": [
    {
     "name": "stderr",
     "output_type": "stream",
     "text": [
      "/var/folders/vx/h6y694195c58b8jxzjdg2j_00000gn/T/ipykernel_5018/759675410.py:4: SettingWithCopyWarning: \n",
      "A value is trying to be set on a copy of a slice from a DataFrame\n",
      "\n",
      "See the caveats in the documentation: https://pandas.pydata.org/pandas-docs/stable/user_guide/indexing.html#returning-a-view-versus-a-copy\n",
      "  df['MasVnrType'][i] = 0\n",
      "/var/folders/vx/h6y694195c58b8jxzjdg2j_00000gn/T/ipykernel_5018/759675410.py:6: SettingWithCopyWarning: \n",
      "A value is trying to be set on a copy of a slice from a DataFrame\n",
      "\n",
      "See the caveats in the documentation: https://pandas.pydata.org/pandas-docs/stable/user_guide/indexing.html#returning-a-view-versus-a-copy\n",
      "  df['MasVnrType'][i] = 1\n"
     ]
    }
   ],
   "source": [
    "df.MasVnrType.value_counts(normalize = True)\n",
    "for i in range(len(df.MasVnrType)):\n",
    "    if df.MasVnrType[i] == 'None':\n",
    "        df['MasVnrType'][i] = 0\n",
    "    else:\n",
    "        df['MasVnrType'][i] = 1\n",
    "df.MasVnrType = df.MasVnrType.astype(int)"
   ]
  },
  {
   "cell_type": "code",
   "execution_count": 73,
   "id": "c48f7d51",
   "metadata": {
    "scrolled": true
   },
   "outputs": [
    {
     "name": "stderr",
     "output_type": "stream",
     "text": [
      "/var/folders/vx/h6y694195c58b8jxzjdg2j_00000gn/T/ipykernel_5018/4159801003.py:4: SettingWithCopyWarning: \n",
      "A value is trying to be set on a copy of a slice from a DataFrame\n",
      "\n",
      "See the caveats in the documentation: https://pandas.pydata.org/pandas-docs/stable/user_guide/indexing.html#returning-a-view-versus-a-copy\n",
      "  df['ExterQual'][i] = 'TA'\n"
     ]
    }
   ],
   "source": [
    "df.ExterQual.value_counts(normalize = True)\n",
    "for i in range(len(df.ExterQual)):\n",
    "    if df.ExterQual[i] == 'Fa':\n",
    "        df['ExterQual'][i] = 'TA'\n"
   ]
  },
  {
   "cell_type": "code",
   "execution_count": 74,
   "id": "9da6c237",
   "metadata": {},
   "outputs": [
    {
     "name": "stderr",
     "output_type": "stream",
     "text": [
      "/var/folders/vx/h6y694195c58b8jxzjdg2j_00000gn/T/ipykernel_5018/2142469530.py:4: SettingWithCopyWarning: \n",
      "A value is trying to be set on a copy of a slice from a DataFrame\n",
      "\n",
      "See the caveats in the documentation: https://pandas.pydata.org/pandas-docs/stable/user_guide/indexing.html#returning-a-view-versus-a-copy\n",
      "  df['Foundation'][i] = 'Other'\n"
     ]
    }
   ],
   "source": [
    "df.Foundation.value_counts(normalize = True)\n",
    "for i in range(len(df.Foundation)):\n",
    "    if df.Foundation[i] in ('Slab', 'Stone', 'Wood'):\n",
    "        df['Foundation'][i] = 'Other'"
   ]
  },
  {
   "cell_type": "code",
   "execution_count": 75,
   "id": "7901e1c3",
   "metadata": {},
   "outputs": [
    {
     "data": {
      "text/plain": [
       "TA    0.434544\n",
       "Gd    0.405072\n",
       "Ex    0.093900\n",
       "Fa    0.036326\n",
       "NA    0.030158\n",
       "Name: BsmtQual, dtype: float64"
      ]
     },
     "execution_count": 75,
     "metadata": {},
     "output_type": "execute_result"
    }
   ],
   "source": [
    "df.BsmtQual.value_counts(normalize = True)"
   ]
  },
  {
   "cell_type": "code",
   "execution_count": 76,
   "id": "a4b171b3",
   "metadata": {},
   "outputs": [
    {
     "name": "stderr",
     "output_type": "stream",
     "text": [
      "/var/folders/vx/h6y694195c58b8jxzjdg2j_00000gn/T/ipykernel_5018/470064949.py:4: SettingWithCopyWarning: \n",
      "A value is trying to be set on a copy of a slice from a DataFrame\n",
      "\n",
      "See the caveats in the documentation: https://pandas.pydata.org/pandas-docs/stable/user_guide/indexing.html#returning-a-view-versus-a-copy\n",
      "  df['BsmtQual'][i] = 0\n",
      "/var/folders/vx/h6y694195c58b8jxzjdg2j_00000gn/T/ipykernel_5018/470064949.py:6: SettingWithCopyWarning: \n",
      "A value is trying to be set on a copy of a slice from a DataFrame\n",
      "\n",
      "See the caveats in the documentation: https://pandas.pydata.org/pandas-docs/stable/user_guide/indexing.html#returning-a-view-versus-a-copy\n",
      "  df['BsmtQual'][i] = 1\n"
     ]
    }
   ],
   "source": [
    "df.BsmtQual.value_counts(normalize = True)\n",
    "for i in range(len(df.BsmtQual)):\n",
    "    if df.BsmtQual[i] in ('NA', 'Fa', 'TA'):\n",
    "        df['BsmtQual'][i] = 0\n",
    "    else:\n",
    "        df['BsmtQual'][i] = 1\n",
    "        \n",
    "df.BsmtQual = df.BsmtQual.astype(int)"
   ]
  },
  {
   "cell_type": "code",
   "execution_count": 77,
   "id": "f28c3568",
   "metadata": {
    "scrolled": true
   },
   "outputs": [
    {
     "name": "stderr",
     "output_type": "stream",
     "text": [
      "/var/folders/vx/h6y694195c58b8jxzjdg2j_00000gn/T/ipykernel_5018/247686851.py:4: SettingWithCopyWarning: \n",
      "A value is trying to be set on a copy of a slice from a DataFrame\n",
      "\n",
      "See the caveats in the documentation: https://pandas.pydata.org/pandas-docs/stable/user_guide/indexing.html#returning-a-view-versus-a-copy\n",
      "  df['BsmtExposure'][i] = 0\n",
      "/var/folders/vx/h6y694195c58b8jxzjdg2j_00000gn/T/ipykernel_5018/247686851.py:6: SettingWithCopyWarning: \n",
      "A value is trying to be set on a copy of a slice from a DataFrame\n",
      "\n",
      "See the caveats in the documentation: https://pandas.pydata.org/pandas-docs/stable/user_guide/indexing.html#returning-a-view-versus-a-copy\n",
      "  df['BsmtExposure'][i] = 1\n"
     ]
    }
   ],
   "source": [
    "df.BsmtExposure.value_counts(normalize = True)\n",
    "for i in range(len(df.BsmtExposure)):\n",
    "    if df.BsmtExposure[i] in ('No', 'NA'):\n",
    "        df['BsmtExposure'][i] = 0\n",
    "    else:\n",
    "        df['BsmtExposure'][i] = 1\n",
    "df.BsmtExposure = df.BsmtExposure.astype(int)"
   ]
  },
  {
   "cell_type": "code",
   "execution_count": 78,
   "id": "0fa4bc2b",
   "metadata": {},
   "outputs": [
    {
     "name": "stderr",
     "output_type": "stream",
     "text": [
      "/var/folders/vx/h6y694195c58b8jxzjdg2j_00000gn/T/ipykernel_5018/3712774254.py:6: SettingWithCopyWarning: \n",
      "A value is trying to be set on a copy of a slice from a DataFrame\n",
      "\n",
      "See the caveats in the documentation: https://pandas.pydata.org/pandas-docs/stable/user_guide/indexing.html#returning-a-view-versus-a-copy\n",
      "  df['BsmtFinType1'][i] = 1\n",
      "/var/folders/vx/h6y694195c58b8jxzjdg2j_00000gn/T/ipykernel_5018/3712774254.py:8: SettingWithCopyWarning: \n",
      "A value is trying to be set on a copy of a slice from a DataFrame\n",
      "\n",
      "See the caveats in the documentation: https://pandas.pydata.org/pandas-docs/stable/user_guide/indexing.html#returning-a-view-versus-a-copy\n",
      "  df.BsmtFinType1[i] = 2\n",
      "/var/folders/vx/h6y694195c58b8jxzjdg2j_00000gn/T/ipykernel_5018/3712774254.py:4: SettingWithCopyWarning: \n",
      "A value is trying to be set on a copy of a slice from a DataFrame\n",
      "\n",
      "See the caveats in the documentation: https://pandas.pydata.org/pandas-docs/stable/user_guide/indexing.html#returning-a-view-versus-a-copy\n",
      "  df['BsmtFinType1'][i] = 0\n"
     ]
    }
   ],
   "source": [
    "df.BsmtFinType1.value_counts(normalize = True)\n",
    "for i in range(len(df.BsmtFinType1)):\n",
    "    if df.BsmtFinType1[i] in ('Unf', 'NA'):\n",
    "        df['BsmtFinType1'][i] = 0\n",
    "    elif df.BsmtFinType1[i] in ('Rec', 'BLQ', 'LwQ'):\n",
    "        df['BsmtFinType1'][i] = 1\n",
    "    else:\n",
    "        df.BsmtFinType1[i] = 2\n",
    "df.BsmtFinType1 = df.BsmtFinType1.astype(int)"
   ]
  },
  {
   "cell_type": "code",
   "execution_count": 79,
   "id": "7d44bdba",
   "metadata": {},
   "outputs": [
    {
     "name": "stderr",
     "output_type": "stream",
     "text": [
      "/var/folders/vx/h6y694195c58b8jxzjdg2j_00000gn/T/ipykernel_5018/388256620.py:6: SettingWithCopyWarning: \n",
      "A value is trying to be set on a copy of a slice from a DataFrame\n",
      "\n",
      "See the caveats in the documentation: https://pandas.pydata.org/pandas-docs/stable/user_guide/indexing.html#returning-a-view-versus-a-copy\n",
      "  df['HeatingQC'][i] = 0\n",
      "/var/folders/vx/h6y694195c58b8jxzjdg2j_00000gn/T/ipykernel_5018/388256620.py:4: SettingWithCopyWarning: \n",
      "A value is trying to be set on a copy of a slice from a DataFrame\n",
      "\n",
      "See the caveats in the documentation: https://pandas.pydata.org/pandas-docs/stable/user_guide/indexing.html#returning-a-view-versus-a-copy\n",
      "  df['HeatingQC'][i] = 1\n"
     ]
    }
   ],
   "source": [
    "df.HeatingQC.value_counts(normalize = True)\n",
    "for i in range(len(df.HeatingQC)):\n",
    "    if df.HeatingQC[i] in ('Ex'):\n",
    "        df['HeatingQC'][i] = 1\n",
    "    else:\n",
    "        df['HeatingQC'][i] = 0\n",
    "df.HeatingQC = df.HeatingQC.astype(int)"
   ]
  },
  {
   "cell_type": "code",
   "execution_count": 80,
   "id": "cba54392",
   "metadata": {},
   "outputs": [
    {
     "name": "stderr",
     "output_type": "stream",
     "text": [
      "/var/folders/vx/h6y694195c58b8jxzjdg2j_00000gn/T/ipykernel_5018/57908917.py:4: SettingWithCopyWarning: \n",
      "A value is trying to be set on a copy of a slice from a DataFrame\n",
      "\n",
      "See the caveats in the documentation: https://pandas.pydata.org/pandas-docs/stable/user_guide/indexing.html#returning-a-view-versus-a-copy\n",
      "  df['Electrical'][i] = 1\n",
      "/var/folders/vx/h6y694195c58b8jxzjdg2j_00000gn/T/ipykernel_5018/57908917.py:6: SettingWithCopyWarning: \n",
      "A value is trying to be set on a copy of a slice from a DataFrame\n",
      "\n",
      "See the caveats in the documentation: https://pandas.pydata.org/pandas-docs/stable/user_guide/indexing.html#returning-a-view-versus-a-copy\n",
      "  df['Electrical'][i] = 0\n"
     ]
    }
   ],
   "source": [
    "df.Electrical.value_counts(normalize = True)\n",
    "for i in range(len(df.Electrical)):\n",
    "    if df.Electrical[i] in ('SBrkr'):\n",
    "        df['Electrical'][i] = 1\n",
    "    else:\n",
    "        df['Electrical'][i] = 0\n",
    "df.Electrical = df.Electrical.astype(int)"
   ]
  },
  {
   "cell_type": "code",
   "execution_count": 81,
   "id": "c2398424",
   "metadata": {},
   "outputs": [],
   "source": [
    "df.HalfBath.value_counts(normalize = True)\n",
    "df.FullBath.value_counts(normalize = True)\n",
    "\n",
    "df['NoBath'] = df.FullBath + df.HalfBath/2\n",
    "\n",
    "df.drop(['HalfBath', 'FullBath'], inplace = True, axis = 1)\n",
    "\n",
    "df.NoBath = df.NoBath.astype(int)"
   ]
  },
  {
   "cell_type": "code",
   "execution_count": 82,
   "id": "44425b14",
   "metadata": {},
   "outputs": [
    {
     "name": "stderr",
     "output_type": "stream",
     "text": [
      "/var/folders/vx/h6y694195c58b8jxzjdg2j_00000gn/T/ipykernel_5018/2833829095.py:4: SettingWithCopyWarning: \n",
      "A value is trying to be set on a copy of a slice from a DataFrame\n",
      "\n",
      "See the caveats in the documentation: https://pandas.pydata.org/pandas-docs/stable/user_guide/indexing.html#returning-a-view-versus-a-copy\n",
      "  df['KitchenQual'][i] = 0\n",
      "/var/folders/vx/h6y694195c58b8jxzjdg2j_00000gn/T/ipykernel_5018/2833829095.py:6: SettingWithCopyWarning: \n",
      "A value is trying to be set on a copy of a slice from a DataFrame\n",
      "\n",
      "See the caveats in the documentation: https://pandas.pydata.org/pandas-docs/stable/user_guide/indexing.html#returning-a-view-versus-a-copy\n",
      "  df['KitchenQual'][i] = 1\n",
      "/var/folders/vx/h6y694195c58b8jxzjdg2j_00000gn/T/ipykernel_5018/2833829095.py:8: SettingWithCopyWarning: \n",
      "A value is trying to be set on a copy of a slice from a DataFrame\n",
      "\n",
      "See the caveats in the documentation: https://pandas.pydata.org/pandas-docs/stable/user_guide/indexing.html#returning-a-view-versus-a-copy\n",
      "  df['KitchenQual'][i] = 2\n"
     ]
    }
   ],
   "source": [
    "df.KitchenQual.value_counts()\n",
    "for i in range(len(df.KitchenQual)):\n",
    "    if df.KitchenQual[i] in ('Fa', 'TA'):\n",
    "        df['KitchenQual'][i] = 0\n",
    "    elif df.KitchenQual[i] == 'Gd':\n",
    "        df['KitchenQual'][i] = 1\n",
    "    else:\n",
    "        df['KitchenQual'][i] = 2\n",
    "df.KitchenQual = df.KitchenQual.astype(int)"
   ]
  },
  {
   "cell_type": "code",
   "execution_count": 83,
   "id": "87b625e8",
   "metadata": {},
   "outputs": [
    {
     "name": "stderr",
     "output_type": "stream",
     "text": [
      "/var/folders/vx/h6y694195c58b8jxzjdg2j_00000gn/T/ipykernel_5018/2822248388.py:6: SettingWithCopyWarning: \n",
      "A value is trying to be set on a copy of a slice from a DataFrame\n",
      "\n",
      "See the caveats in the documentation: https://pandas.pydata.org/pandas-docs/stable/user_guide/indexing.html#returning-a-view-versus-a-copy\n",
      "  df['GarageType'][i] = 1\n",
      "/var/folders/vx/h6y694195c58b8jxzjdg2j_00000gn/T/ipykernel_5018/2822248388.py:4: SettingWithCopyWarning: \n",
      "A value is trying to be set on a copy of a slice from a DataFrame\n",
      "\n",
      "See the caveats in the documentation: https://pandas.pydata.org/pandas-docs/stable/user_guide/indexing.html#returning-a-view-versus-a-copy\n",
      "  df['GarageType'][i] = 0\n"
     ]
    }
   ],
   "source": [
    "df.GarageType.value_counts()\n",
    "for i in range(len(df.GarageType)):\n",
    "    if df.GarageType[i] in ('NA'):\n",
    "        df['GarageType'][i] = 0\n",
    "    else:\n",
    "        df['GarageType'][i] = 1\n",
    "df.GarageType = df.GarageType.astype(int)"
   ]
  },
  {
   "cell_type": "code",
   "execution_count": 84,
   "id": "ff65667e",
   "metadata": {},
   "outputs": [
    {
     "name": "stderr",
     "output_type": "stream",
     "text": [
      "/var/folders/vx/h6y694195c58b8jxzjdg2j_00000gn/T/ipykernel_5018/4018930615.py:6: SettingWithCopyWarning: \n",
      "A value is trying to be set on a copy of a slice from a DataFrame\n",
      "\n",
      "See the caveats in the documentation: https://pandas.pydata.org/pandas-docs/stable/user_guide/indexing.html#returning-a-view-versus-a-copy\n",
      "  df['GarageFinish'][i] = 1\n",
      "/var/folders/vx/h6y694195c58b8jxzjdg2j_00000gn/T/ipykernel_5018/4018930615.py:8: SettingWithCopyWarning: \n",
      "A value is trying to be set on a copy of a slice from a DataFrame\n",
      "\n",
      "See the caveats in the documentation: https://pandas.pydata.org/pandas-docs/stable/user_guide/indexing.html#returning-a-view-versus-a-copy\n",
      "  df['GarageFinish'][i] = 2\n",
      "/var/folders/vx/h6y694195c58b8jxzjdg2j_00000gn/T/ipykernel_5018/4018930615.py:4: SettingWithCopyWarning: \n",
      "A value is trying to be set on a copy of a slice from a DataFrame\n",
      "\n",
      "See the caveats in the documentation: https://pandas.pydata.org/pandas-docs/stable/user_guide/indexing.html#returning-a-view-versus-a-copy\n",
      "  df['GarageFinish'][i] = 0\n"
     ]
    }
   ],
   "source": [
    "df.GarageFinish.value_counts()\n",
    "for i in range(len(df.GarageFinish)):\n",
    "    if df.GarageFinish[i] == 'NA':\n",
    "        df['GarageFinish'][i] = 0\n",
    "    elif df.GarageFinish[i] in ('Unf', 'RFn'):\n",
    "        df['GarageFinish'][i] = 1\n",
    "    else:\n",
    "        df['GarageFinish'][i] = 2\n",
    "df.GarageFinish = df.GarageFinish.astype(int)"
   ]
  },
  {
   "cell_type": "code",
   "execution_count": 85,
   "id": "bbfba7b1",
   "metadata": {},
   "outputs": [
    {
     "name": "stderr",
     "output_type": "stream",
     "text": [
      "/var/folders/vx/h6y694195c58b8jxzjdg2j_00000gn/T/ipykernel_5018/1206707344.py:6: SettingWithCopyWarning: \n",
      "A value is trying to be set on a copy of a slice from a DataFrame\n",
      "\n",
      "See the caveats in the documentation: https://pandas.pydata.org/pandas-docs/stable/user_guide/indexing.html#returning-a-view-versus-a-copy\n",
      "  df['Fence'][i] = 1\n",
      "/var/folders/vx/h6y694195c58b8jxzjdg2j_00000gn/T/ipykernel_5018/1206707344.py:4: SettingWithCopyWarning: \n",
      "A value is trying to be set on a copy of a slice from a DataFrame\n",
      "\n",
      "See the caveats in the documentation: https://pandas.pydata.org/pandas-docs/stable/user_guide/indexing.html#returning-a-view-versus-a-copy\n",
      "  df['Fence'][i] = 0\n"
     ]
    }
   ],
   "source": [
    "df.Fence.value_counts()\n",
    "for i in range(len(df.Fence)):\n",
    "    if df.Fence[i] == 'NA':\n",
    "        df['Fence'][i] = 0\n",
    "    else:\n",
    "        df['Fence'][i] = 1\n",
    "df.Fence = df.Fence.astype(int)"
   ]
  },
  {
   "cell_type": "code",
   "execution_count": 86,
   "id": "7a4c272b",
   "metadata": {},
   "outputs": [
    {
     "name": "stderr",
     "output_type": "stream",
     "text": [
      "/var/folders/vx/h6y694195c58b8jxzjdg2j_00000gn/T/ipykernel_5018/1826895165.py:4: SettingWithCopyWarning: \n",
      "A value is trying to be set on a copy of a slice from a DataFrame\n",
      "\n",
      "See the caveats in the documentation: https://pandas.pydata.org/pandas-docs/stable/user_guide/indexing.html#returning-a-view-versus-a-copy\n",
      "  df['SaleType'][i] = 1\n",
      "/var/folders/vx/h6y694195c58b8jxzjdg2j_00000gn/T/ipykernel_5018/1826895165.py:6: SettingWithCopyWarning: \n",
      "A value is trying to be set on a copy of a slice from a DataFrame\n",
      "\n",
      "See the caveats in the documentation: https://pandas.pydata.org/pandas-docs/stable/user_guide/indexing.html#returning-a-view-versus-a-copy\n",
      "  df['SaleType'][i] = 0\n"
     ]
    }
   ],
   "source": [
    "df['SaleType'].value_counts()\n",
    "for i in range(len(df.SaleType)):\n",
    "    if df.SaleType[i] in ('WD', 'New'):\n",
    "        df['SaleType'][i] = 1\n",
    "    else:\n",
    "        df['SaleType'][i] = 0\n",
    "df.SaleType = df.SaleType.astype(int)"
   ]
  },
  {
   "cell_type": "code",
   "execution_count": 87,
   "id": "63cdb75f",
   "metadata": {
    "scrolled": true
   },
   "outputs": [
    {
     "name": "stderr",
     "output_type": "stream",
     "text": [
      "/var/folders/vx/h6y694195c58b8jxzjdg2j_00000gn/T/ipykernel_5018/1540965375.py:4: SettingWithCopyWarning: \n",
      "A value is trying to be set on a copy of a slice from a DataFrame\n",
      "\n",
      "See the caveats in the documentation: https://pandas.pydata.org/pandas-docs/stable/user_guide/indexing.html#returning-a-view-versus-a-copy\n",
      "  df['SaleCondition'][i] = 1\n",
      "/var/folders/vx/h6y694195c58b8jxzjdg2j_00000gn/T/ipykernel_5018/1540965375.py:6: SettingWithCopyWarning: \n",
      "A value is trying to be set on a copy of a slice from a DataFrame\n",
      "\n",
      "See the caveats in the documentation: https://pandas.pydata.org/pandas-docs/stable/user_guide/indexing.html#returning-a-view-versus-a-copy\n",
      "  df['SaleCondition'][i] = 0\n"
     ]
    }
   ],
   "source": [
    "df['SaleCondition'].value_counts()\n",
    "for i in range(len(df.SaleCondition)):\n",
    "    if df.SaleCondition[i] == 'Normal':\n",
    "        df['SaleCondition'][i] = 1\n",
    "    else:\n",
    "        df['SaleCondition'][i] = 0\n",
    "df.SaleCondition = df.SaleCondition.astype(int)"
   ]
  },
  {
   "cell_type": "code",
   "execution_count": 88,
   "id": "ee85c29e",
   "metadata": {},
   "outputs": [
    {
     "name": "stderr",
     "output_type": "stream",
     "text": [
      "/var/folders/vx/h6y694195c58b8jxzjdg2j_00000gn/T/ipykernel_5018/2595878739.py:4: SettingWithCopyWarning: \n",
      "A value is trying to be set on a copy of a slice from a DataFrame\n",
      "\n",
      "See the caveats in the documentation: https://pandas.pydata.org/pandas-docs/stable/user_guide/indexing.html#returning-a-view-versus-a-copy\n",
      "  df['CentralAir'][i] = 1\n",
      "/var/folders/vx/h6y694195c58b8jxzjdg2j_00000gn/T/ipykernel_5018/2595878739.py:6: SettingWithCopyWarning: \n",
      "A value is trying to be set on a copy of a slice from a DataFrame\n",
      "\n",
      "See the caveats in the documentation: https://pandas.pydata.org/pandas-docs/stable/user_guide/indexing.html#returning-a-view-versus-a-copy\n",
      "  df['CentralAir'][i] = 0\n"
     ]
    }
   ],
   "source": [
    "df['CentralAir'].value_counts()\n",
    "for i in range(len(df.CentralAir)):\n",
    "    if df.CentralAir[i] == 'Y':\n",
    "        df['CentralAir'][i] = 1\n",
    "    else:\n",
    "        df['CentralAir'][i] = 0\n",
    "df.CentralAir = df.CentralAir.astype(int)"
   ]
  },
  {
   "cell_type": "code",
   "execution_count": 98,
   "id": "ccdf4b62",
   "metadata": {},
   "outputs": [
    {
     "data": {
      "text/plain": [
       "BsmtFinSF1      1\n",
       "BsmtUnfSF       1\n",
       "TotalBsmtSF     1\n",
       "GarageCars      1\n",
       "GarageArea      1\n",
       "BsmtFullBath    2\n",
       "dtype: int64"
      ]
     },
     "execution_count": 98,
     "metadata": {},
     "output_type": "execute_result"
    }
   ],
   "source": [
    "missing_values = df.isnull().sum()\n",
    "cols_missing_values = missing_values[missing_values > 0].sort_values()\n",
    "cols_missing_values"
   ]
  },
  {
   "cell_type": "code",
   "execution_count": 95,
   "id": "559b498d",
   "metadata": {},
   "outputs": [],
   "source": [
    "df.Exterior1st.fillna('Other', inplace = True)"
   ]
  },
  {
   "cell_type": "code",
   "execution_count": 97,
   "id": "1bd67883",
   "metadata": {},
   "outputs": [],
   "source": [
    "df.Exterior2nd.fillna('Other', inplace = True)"
   ]
  },
  {
   "cell_type": "code",
   "execution_count": 99,
   "id": "3ce81269",
   "metadata": {},
   "outputs": [],
   "source": [
    "df.BsmtFinSF1.fillna(0, inplace = True)\n",
    "df.BsmtUnfSF.fillna(0, inplace = True)\n",
    "df.TotalBsmtSF.fillna(0, inplace = True)\n",
    "df.GarageCars.fillna(0, inplace = True)\n",
    "df.GarageArea.fillna(0, inplace = True)\n",
    "df.BsmtFullBath.fillna(0, inplace = True)"
   ]
  },
  {
   "cell_type": "code",
   "execution_count": 100,
   "id": "48c9789a",
   "metadata": {},
   "outputs": [],
   "source": [
    "cols_to_dummies = ['Neighborhood', 'HouseStyle', 'Exterior1st', 'Exterior2nd', 'ExterQual', 'Foundation']"
   ]
  },
  {
   "cell_type": "code",
   "execution_count": 101,
   "id": "d1ea861e",
   "metadata": {},
   "outputs": [],
   "source": [
    "df = pd.get_dummies(df, cols_to_dummies, drop_first = True)"
   ]
  },
  {
   "cell_type": "code",
   "execution_count": null,
   "id": "05d4206e",
   "metadata": {},
   "outputs": [],
   "source": []
  },
  {
   "cell_type": "code",
   "execution_count": null,
   "id": "be624394",
   "metadata": {},
   "outputs": [],
   "source": [
    "df.columns"
   ]
  },
  {
   "cell_type": "code",
   "execution_count": 102,
   "id": "28fdcb9c",
   "metadata": {},
   "outputs": [],
   "source": [
    "df.YearBuilt.apply(pd.to_datetime, 'year')\n",
    "year = 2010\n",
    "df['YrsOld'] = (year - df['YearBuilt'])"
   ]
  },
  {
   "cell_type": "code",
   "execution_count": 103,
   "id": "d421f83c",
   "metadata": {},
   "outputs": [
    {
     "data": {
      "text/plain": [
       "0       49\n",
       "1       52\n",
       "2       13\n",
       "3       12\n",
       "4       18\n",
       "        ..\n",
       "1454    40\n",
       "1455    40\n",
       "1456    50\n",
       "1457    18\n",
       "1458    17\n",
       "Name: YrsOld, Length: 1459, dtype: int64"
      ]
     },
     "execution_count": 103,
     "metadata": {},
     "output_type": "execute_result"
    }
   ],
   "source": [
    "df['YrsOld']"
   ]
  },
  {
   "cell_type": "code",
   "execution_count": 104,
   "id": "45df0bc0",
   "metadata": {},
   "outputs": [],
   "source": [
    "df.YearRemodAdd.apply(pd.to_datetime, 'year')\n",
    "df['YrsSinceRemod'] = (year - df['YearRemodAdd'])"
   ]
  },
  {
   "cell_type": "code",
   "execution_count": 105,
   "id": "63af7e47",
   "metadata": {},
   "outputs": [
    {
     "data": {
      "text/plain": [
       "0       49\n",
       "1       52\n",
       "2       12\n",
       "3       12\n",
       "4       18\n",
       "        ..\n",
       "1454    40\n",
       "1455    40\n",
       "1456    14\n",
       "1457    18\n",
       "1458    16\n",
       "Name: YrsSinceRemod, Length: 1459, dtype: int64"
      ]
     },
     "execution_count": 105,
     "metadata": {},
     "output_type": "execute_result"
    }
   ],
   "source": [
    "df['YrsSinceRemod']"
   ]
  },
  {
   "cell_type": "code",
   "execution_count": 106,
   "id": "94d58d07",
   "metadata": {},
   "outputs": [],
   "source": [
    "df.drop(['YearRemodAdd', 'YearBuilt'], axis = 1, inplace = True)"
   ]
  },
  {
   "cell_type": "code",
   "execution_count": 107,
   "id": "d46c33c4",
   "metadata": {},
   "outputs": [
    {
     "data": {
      "text/plain": [
       "(1459, 86)"
      ]
     },
     "execution_count": 107,
     "metadata": {},
     "output_type": "execute_result"
    }
   ],
   "source": [
    "df.shape"
   ]
  },
  {
   "cell_type": "code",
   "execution_count": 108,
   "id": "8bd5549b",
   "metadata": {},
   "outputs": [],
   "source": [
    "df.to_csv('cleaned_data_submittal.csv')"
   ]
  },
  {
   "cell_type": "markdown",
   "id": "a21485f7",
   "metadata": {},
   "source": [
    "# Plotting"
   ]
  },
  {
   "cell_type": "code",
   "execution_count": null,
   "id": "170d8c99",
   "metadata": {},
   "outputs": [],
   "source": [
    "cols_to_plot = ['LotFrontage', 'LotArea', 'OverallQual', 'HouseStyle', 'OverallCond', 'YearBuilt', 'YearRemodAdd'\n",
    "               'MasVnrArea', 'BsmtFinSF1', 'BsmtUnfSF', 'TotalBsmtSF', '1stFlrSF', '2ndFlrSF', 'GrLivArea', 'TotRmsAbvGrd',\n",
    "               'GarageArea', 'WoodDeckSF', 'OpenPorchSF', 'MoSold', 'YrSold', 'SalePrice']\n",
    "\n"
   ]
  },
  {
   "cell_type": "code",
   "execution_count": null,
   "id": "9d8a010a",
   "metadata": {},
   "outputs": [],
   "source": [
    "sns.distplot(df.YrSold);\n",
    "plt.title('Year Sold')\n",
    "plt.show()"
   ]
  },
  {
   "cell_type": "code",
   "execution_count": null,
   "id": "138dbaa5",
   "metadata": {},
   "outputs": [],
   "source": [
    "#sns.distplot(np.log(df.LotArea))"
   ]
  },
  {
   "cell_type": "code",
   "execution_count": null,
   "id": "52945b14",
   "metadata": {
    "scrolled": true
   },
   "outputs": [],
   "source": [
    "a = sns.distplot(df.OverallQual)\n",
    "plt.title(\"Overall Quality\"); "
   ]
  },
  {
   "cell_type": "code",
   "execution_count": null,
   "id": "a651eb7c",
   "metadata": {},
   "outputs": [],
   "source": [
    "\n",
    "y = df['SalePrice']\n",
    "sns.distplot(y)\n",
    "plt.title('Sale Price')\n",
    "plt.show()"
   ]
  },
  {
   "cell_type": "code",
   "execution_count": null,
   "id": "9d4967b8",
   "metadata": {},
   "outputs": [],
   "source": [
    "sns.distplot(df.OverallQual)\n",
    "plt.title(\"Overall Quality\"); "
   ]
  }
 ],
 "metadata": {
  "kernelspec": {
   "display_name": "Python 3 (ipykernel)",
   "language": "python",
   "name": "python3"
  },
  "language_info": {
   "codemirror_mode": {
    "name": "ipython",
    "version": 3
   },
   "file_extension": ".py",
   "mimetype": "text/x-python",
   "name": "python",
   "nbconvert_exporter": "python",
   "pygments_lexer": "ipython3",
   "version": "3.8.18"
  }
 },
 "nbformat": 4,
 "nbformat_minor": 5
}
