{
 "cells": [
  {
   "cell_type": "code",
   "execution_count": 80,
   "id": "216193f8",
   "metadata": {},
   "outputs": [],
   "source": [
    "import pandas as pd\n",
    "import seaborn as sns\n",
    "import numpy as np\n",
    "import matplotlib.pyplot as plt\n",
    "\n",
    "import sklearn as sk\n",
    "from sklearn.model_selection import train_test_split\n",
    "from sklearn.metrics import mean_squared_error\n",
    "from sklearn.preprocessing import StandardScaler\n",
    "\n",
    "from sklearn.feature_selection import SelectKBest, mutual_info_regression, RFE\n",
    "from sklearn.linear_model import LinearRegression, LassoCV"
   ]
  },
  {
   "cell_type": "code",
   "execution_count": 81,
   "id": "f678381e",
   "metadata": {},
   "outputs": [],
   "source": [
    "df = pd.read_csv('train.csv')"
   ]
  },
  {
   "cell_type": "code",
   "execution_count": 82,
   "id": "40c1a1ef",
   "metadata": {},
   "outputs": [
    {
     "data": {
      "text/plain": [
       "SBrkr    0.914325\n",
       "FuseA    0.064428\n",
       "FuseF    0.018506\n",
       "FuseP    0.002056\n",
       "Mix      0.000685\n",
       "Name: Electrical, dtype: float64"
      ]
     },
     "execution_count": 82,
     "metadata": {},
     "output_type": "execute_result"
    }
   ],
   "source": [
    "df.Electrical.value_counts(normalize = True)"
   ]
  },
  {
   "cell_type": "code",
   "execution_count": 83,
   "id": "de44c8c9",
   "metadata": {},
   "outputs": [
    {
     "name": "stdout",
     "output_type": "stream",
     "text": [
      "Id                 int64\n",
      "MSSubClass         int64\n",
      "MSZoning          object\n",
      "LotFrontage      float64\n",
      "LotArea            int64\n",
      "                  ...   \n",
      "MoSold             int64\n",
      "YrSold             int64\n",
      "SaleType          object\n",
      "SaleCondition     object\n",
      "SalePrice          int64\n",
      "Length: 81, dtype: object\n"
     ]
    }
   ],
   "source": [
    "print(df.dtypes)"
   ]
  },
  {
   "cell_type": "code",
   "execution_count": 84,
   "id": "47772da8",
   "metadata": {},
   "outputs": [
    {
     "data": {
      "text/html": [
       "<div>\n",
       "<style scoped>\n",
       "    .dataframe tbody tr th:only-of-type {\n",
       "        vertical-align: middle;\n",
       "    }\n",
       "\n",
       "    .dataframe tbody tr th {\n",
       "        vertical-align: top;\n",
       "    }\n",
       "\n",
       "    .dataframe thead th {\n",
       "        text-align: right;\n",
       "    }\n",
       "</style>\n",
       "<table border=\"1\" class=\"dataframe\">\n",
       "  <thead>\n",
       "    <tr style=\"text-align: right;\">\n",
       "      <th></th>\n",
       "      <th>Id</th>\n",
       "      <th>MSSubClass</th>\n",
       "      <th>LotFrontage</th>\n",
       "      <th>LotArea</th>\n",
       "      <th>OverallQual</th>\n",
       "      <th>OverallCond</th>\n",
       "      <th>YearBuilt</th>\n",
       "      <th>YearRemodAdd</th>\n",
       "      <th>MasVnrArea</th>\n",
       "      <th>BsmtFinSF1</th>\n",
       "      <th>...</th>\n",
       "      <th>WoodDeckSF</th>\n",
       "      <th>OpenPorchSF</th>\n",
       "      <th>EnclosedPorch</th>\n",
       "      <th>3SsnPorch</th>\n",
       "      <th>ScreenPorch</th>\n",
       "      <th>PoolArea</th>\n",
       "      <th>MiscVal</th>\n",
       "      <th>MoSold</th>\n",
       "      <th>YrSold</th>\n",
       "      <th>SalePrice</th>\n",
       "    </tr>\n",
       "  </thead>\n",
       "  <tbody>\n",
       "    <tr>\n",
       "      <th>count</th>\n",
       "      <td>1460.000000</td>\n",
       "      <td>1460.000000</td>\n",
       "      <td>1201.000000</td>\n",
       "      <td>1460.000000</td>\n",
       "      <td>1460.000000</td>\n",
       "      <td>1460.000000</td>\n",
       "      <td>1460.000000</td>\n",
       "      <td>1460.000000</td>\n",
       "      <td>1452.000000</td>\n",
       "      <td>1460.000000</td>\n",
       "      <td>...</td>\n",
       "      <td>1460.000000</td>\n",
       "      <td>1460.000000</td>\n",
       "      <td>1460.000000</td>\n",
       "      <td>1460.000000</td>\n",
       "      <td>1460.000000</td>\n",
       "      <td>1460.000000</td>\n",
       "      <td>1460.000000</td>\n",
       "      <td>1460.000000</td>\n",
       "      <td>1460.000000</td>\n",
       "      <td>1460.000000</td>\n",
       "    </tr>\n",
       "    <tr>\n",
       "      <th>mean</th>\n",
       "      <td>730.500000</td>\n",
       "      <td>56.897260</td>\n",
       "      <td>70.049958</td>\n",
       "      <td>10516.828082</td>\n",
       "      <td>6.099315</td>\n",
       "      <td>5.575342</td>\n",
       "      <td>1971.267808</td>\n",
       "      <td>1984.865753</td>\n",
       "      <td>103.685262</td>\n",
       "      <td>443.639726</td>\n",
       "      <td>...</td>\n",
       "      <td>94.244521</td>\n",
       "      <td>46.660274</td>\n",
       "      <td>21.954110</td>\n",
       "      <td>3.409589</td>\n",
       "      <td>15.060959</td>\n",
       "      <td>2.758904</td>\n",
       "      <td>43.489041</td>\n",
       "      <td>6.321918</td>\n",
       "      <td>2007.815753</td>\n",
       "      <td>180921.195890</td>\n",
       "    </tr>\n",
       "    <tr>\n",
       "      <th>std</th>\n",
       "      <td>421.610009</td>\n",
       "      <td>42.300571</td>\n",
       "      <td>24.284752</td>\n",
       "      <td>9981.264932</td>\n",
       "      <td>1.382997</td>\n",
       "      <td>1.112799</td>\n",
       "      <td>30.202904</td>\n",
       "      <td>20.645407</td>\n",
       "      <td>181.066207</td>\n",
       "      <td>456.098091</td>\n",
       "      <td>...</td>\n",
       "      <td>125.338794</td>\n",
       "      <td>66.256028</td>\n",
       "      <td>61.119149</td>\n",
       "      <td>29.317331</td>\n",
       "      <td>55.757415</td>\n",
       "      <td>40.177307</td>\n",
       "      <td>496.123024</td>\n",
       "      <td>2.703626</td>\n",
       "      <td>1.328095</td>\n",
       "      <td>79442.502883</td>\n",
       "    </tr>\n",
       "    <tr>\n",
       "      <th>min</th>\n",
       "      <td>1.000000</td>\n",
       "      <td>20.000000</td>\n",
       "      <td>21.000000</td>\n",
       "      <td>1300.000000</td>\n",
       "      <td>1.000000</td>\n",
       "      <td>1.000000</td>\n",
       "      <td>1872.000000</td>\n",
       "      <td>1950.000000</td>\n",
       "      <td>0.000000</td>\n",
       "      <td>0.000000</td>\n",
       "      <td>...</td>\n",
       "      <td>0.000000</td>\n",
       "      <td>0.000000</td>\n",
       "      <td>0.000000</td>\n",
       "      <td>0.000000</td>\n",
       "      <td>0.000000</td>\n",
       "      <td>0.000000</td>\n",
       "      <td>0.000000</td>\n",
       "      <td>1.000000</td>\n",
       "      <td>2006.000000</td>\n",
       "      <td>34900.000000</td>\n",
       "    </tr>\n",
       "    <tr>\n",
       "      <th>25%</th>\n",
       "      <td>365.750000</td>\n",
       "      <td>20.000000</td>\n",
       "      <td>59.000000</td>\n",
       "      <td>7553.500000</td>\n",
       "      <td>5.000000</td>\n",
       "      <td>5.000000</td>\n",
       "      <td>1954.000000</td>\n",
       "      <td>1967.000000</td>\n",
       "      <td>0.000000</td>\n",
       "      <td>0.000000</td>\n",
       "      <td>...</td>\n",
       "      <td>0.000000</td>\n",
       "      <td>0.000000</td>\n",
       "      <td>0.000000</td>\n",
       "      <td>0.000000</td>\n",
       "      <td>0.000000</td>\n",
       "      <td>0.000000</td>\n",
       "      <td>0.000000</td>\n",
       "      <td>5.000000</td>\n",
       "      <td>2007.000000</td>\n",
       "      <td>129975.000000</td>\n",
       "    </tr>\n",
       "    <tr>\n",
       "      <th>50%</th>\n",
       "      <td>730.500000</td>\n",
       "      <td>50.000000</td>\n",
       "      <td>69.000000</td>\n",
       "      <td>9478.500000</td>\n",
       "      <td>6.000000</td>\n",
       "      <td>5.000000</td>\n",
       "      <td>1973.000000</td>\n",
       "      <td>1994.000000</td>\n",
       "      <td>0.000000</td>\n",
       "      <td>383.500000</td>\n",
       "      <td>...</td>\n",
       "      <td>0.000000</td>\n",
       "      <td>25.000000</td>\n",
       "      <td>0.000000</td>\n",
       "      <td>0.000000</td>\n",
       "      <td>0.000000</td>\n",
       "      <td>0.000000</td>\n",
       "      <td>0.000000</td>\n",
       "      <td>6.000000</td>\n",
       "      <td>2008.000000</td>\n",
       "      <td>163000.000000</td>\n",
       "    </tr>\n",
       "    <tr>\n",
       "      <th>75%</th>\n",
       "      <td>1095.250000</td>\n",
       "      <td>70.000000</td>\n",
       "      <td>80.000000</td>\n",
       "      <td>11601.500000</td>\n",
       "      <td>7.000000</td>\n",
       "      <td>6.000000</td>\n",
       "      <td>2000.000000</td>\n",
       "      <td>2004.000000</td>\n",
       "      <td>166.000000</td>\n",
       "      <td>712.250000</td>\n",
       "      <td>...</td>\n",
       "      <td>168.000000</td>\n",
       "      <td>68.000000</td>\n",
       "      <td>0.000000</td>\n",
       "      <td>0.000000</td>\n",
       "      <td>0.000000</td>\n",
       "      <td>0.000000</td>\n",
       "      <td>0.000000</td>\n",
       "      <td>8.000000</td>\n",
       "      <td>2009.000000</td>\n",
       "      <td>214000.000000</td>\n",
       "    </tr>\n",
       "    <tr>\n",
       "      <th>max</th>\n",
       "      <td>1460.000000</td>\n",
       "      <td>190.000000</td>\n",
       "      <td>313.000000</td>\n",
       "      <td>215245.000000</td>\n",
       "      <td>10.000000</td>\n",
       "      <td>9.000000</td>\n",
       "      <td>2010.000000</td>\n",
       "      <td>2010.000000</td>\n",
       "      <td>1600.000000</td>\n",
       "      <td>5644.000000</td>\n",
       "      <td>...</td>\n",
       "      <td>857.000000</td>\n",
       "      <td>547.000000</td>\n",
       "      <td>552.000000</td>\n",
       "      <td>508.000000</td>\n",
       "      <td>480.000000</td>\n",
       "      <td>738.000000</td>\n",
       "      <td>15500.000000</td>\n",
       "      <td>12.000000</td>\n",
       "      <td>2010.000000</td>\n",
       "      <td>755000.000000</td>\n",
       "    </tr>\n",
       "  </tbody>\n",
       "</table>\n",
       "<p>8 rows × 38 columns</p>\n",
       "</div>"
      ],
      "text/plain": [
       "                Id   MSSubClass  LotFrontage        LotArea  OverallQual  \\\n",
       "count  1460.000000  1460.000000  1201.000000    1460.000000  1460.000000   \n",
       "mean    730.500000    56.897260    70.049958   10516.828082     6.099315   \n",
       "std     421.610009    42.300571    24.284752    9981.264932     1.382997   \n",
       "min       1.000000    20.000000    21.000000    1300.000000     1.000000   \n",
       "25%     365.750000    20.000000    59.000000    7553.500000     5.000000   \n",
       "50%     730.500000    50.000000    69.000000    9478.500000     6.000000   \n",
       "75%    1095.250000    70.000000    80.000000   11601.500000     7.000000   \n",
       "max    1460.000000   190.000000   313.000000  215245.000000    10.000000   \n",
       "\n",
       "       OverallCond    YearBuilt  YearRemodAdd   MasVnrArea   BsmtFinSF1  ...  \\\n",
       "count  1460.000000  1460.000000   1460.000000  1452.000000  1460.000000  ...   \n",
       "mean      5.575342  1971.267808   1984.865753   103.685262   443.639726  ...   \n",
       "std       1.112799    30.202904     20.645407   181.066207   456.098091  ...   \n",
       "min       1.000000  1872.000000   1950.000000     0.000000     0.000000  ...   \n",
       "25%       5.000000  1954.000000   1967.000000     0.000000     0.000000  ...   \n",
       "50%       5.000000  1973.000000   1994.000000     0.000000   383.500000  ...   \n",
       "75%       6.000000  2000.000000   2004.000000   166.000000   712.250000  ...   \n",
       "max       9.000000  2010.000000   2010.000000  1600.000000  5644.000000  ...   \n",
       "\n",
       "        WoodDeckSF  OpenPorchSF  EnclosedPorch    3SsnPorch  ScreenPorch  \\\n",
       "count  1460.000000  1460.000000    1460.000000  1460.000000  1460.000000   \n",
       "mean     94.244521    46.660274      21.954110     3.409589    15.060959   \n",
       "std     125.338794    66.256028      61.119149    29.317331    55.757415   \n",
       "min       0.000000     0.000000       0.000000     0.000000     0.000000   \n",
       "25%       0.000000     0.000000       0.000000     0.000000     0.000000   \n",
       "50%       0.000000    25.000000       0.000000     0.000000     0.000000   \n",
       "75%     168.000000    68.000000       0.000000     0.000000     0.000000   \n",
       "max     857.000000   547.000000     552.000000   508.000000   480.000000   \n",
       "\n",
       "          PoolArea       MiscVal       MoSold       YrSold      SalePrice  \n",
       "count  1460.000000   1460.000000  1460.000000  1460.000000    1460.000000  \n",
       "mean      2.758904     43.489041     6.321918  2007.815753  180921.195890  \n",
       "std      40.177307    496.123024     2.703626     1.328095   79442.502883  \n",
       "min       0.000000      0.000000     1.000000  2006.000000   34900.000000  \n",
       "25%       0.000000      0.000000     5.000000  2007.000000  129975.000000  \n",
       "50%       0.000000      0.000000     6.000000  2008.000000  163000.000000  \n",
       "75%       0.000000      0.000000     8.000000  2009.000000  214000.000000  \n",
       "max     738.000000  15500.000000    12.000000  2010.000000  755000.000000  \n",
       "\n",
       "[8 rows x 38 columns]"
      ]
     },
     "execution_count": 84,
     "metadata": {},
     "output_type": "execute_result"
    }
   ],
   "source": [
    "df.describe()"
   ]
  },
  {
   "cell_type": "markdown",
   "id": "03c6a689",
   "metadata": {},
   "source": [
    "## Missing Values"
   ]
  },
  {
   "cell_type": "code",
   "execution_count": 85,
   "id": "6da92b5c",
   "metadata": {},
   "outputs": [
    {
     "data": {
      "text/plain": [
       "Electrical         1\n",
       "MasVnrType         8\n",
       "MasVnrArea         8\n",
       "BsmtQual          37\n",
       "BsmtCond          37\n",
       "BsmtFinType1      37\n",
       "BsmtExposure      38\n",
       "BsmtFinType2      38\n",
       "GarageCond        81\n",
       "GarageQual        81\n",
       "GarageFinish      81\n",
       "GarageType        81\n",
       "GarageYrBlt       81\n",
       "LotFrontage      259\n",
       "FireplaceQu      690\n",
       "Fence           1179\n",
       "Alley           1369\n",
       "MiscFeature     1406\n",
       "PoolQC          1453\n",
       "dtype: int64"
      ]
     },
     "execution_count": 85,
     "metadata": {},
     "output_type": "execute_result"
    }
   ],
   "source": [
    "missing_values = df.isnull().sum()\n",
    "cols_missing_values = missing_values[missing_values > 0].sort_values()\n",
    "cols_missing_values"
   ]
  },
  {
   "cell_type": "markdown",
   "id": "7e0dc528",
   "metadata": {},
   "source": [
    "### Electrical - filled with dominant class"
   ]
  },
  {
   "cell_type": "code",
   "execution_count": 86,
   "id": "968fa6e1",
   "metadata": {},
   "outputs": [
    {
     "name": "stdout",
     "output_type": "stream",
     "text": [
      "SBrkr    0.914325\n",
      "FuseA    0.064428\n",
      "FuseF    0.018506\n",
      "FuseP    0.002056\n",
      "Mix      0.000685\n",
      "Name: Electrical, dtype: float64\n"
     ]
    }
   ],
   "source": [
    "print(df.Electrical.value_counts(normalize = True))\n",
    "df.Electrical.fillna('SBrkr', inplace = True)"
   ]
  },
  {
   "cell_type": "markdown",
   "id": "cf1e16ab",
   "metadata": {},
   "source": [
    "### MasVnrType - filled with dominant class "
   ]
  },
  {
   "cell_type": "code",
   "execution_count": 87,
   "id": "c8a539ac",
   "metadata": {},
   "outputs": [
    {
     "name": "stdout",
     "output_type": "stream",
     "text": [
      "None       864\n",
      "BrkFace    445\n",
      "Stone      128\n",
      "BrkCmn      15\n",
      "Name: MasVnrType, dtype: int64\n"
     ]
    }
   ],
   "source": [
    "print(df.MasVnrType.value_counts())\n",
    "df.MasVnrType.fillna('None', inplace = True)"
   ]
  },
  {
   "cell_type": "markdown",
   "id": "1de362cd",
   "metadata": {},
   "source": [
    "### MasVnrArea - filled with 0 class to match class type"
   ]
  },
  {
   "cell_type": "code",
   "execution_count": 88,
   "id": "7a4ef4fa",
   "metadata": {},
   "outputs": [
    {
     "name": "stdout",
     "output_type": "stream",
     "text": [
      "0.0      861\n",
      "180.0      8\n",
      "72.0       8\n",
      "108.0      8\n",
      "120.0      7\n",
      "        ... \n",
      "562.0      1\n",
      "89.0       1\n",
      "921.0      1\n",
      "762.0      1\n",
      "119.0      1\n",
      "Name: MasVnrArea, Length: 327, dtype: int64\n"
     ]
    }
   ],
   "source": [
    "print(df.MasVnrArea.value_counts())\n",
    "df.MasVnrArea.fillna(0, inplace = True)"
   ]
  },
  {
   "cell_type": "markdown",
   "id": "036f7808",
   "metadata": {},
   "source": [
    "### BsmtQual, BsmtCond, BsmtFinType1, BsmtExposure,BsmtFinType2 - Filled with NA to indicate no basement (from data description file)"
   ]
  },
  {
   "cell_type": "code",
   "execution_count": 89,
   "id": "b3e18799",
   "metadata": {},
   "outputs": [],
   "source": [
    "df.BsmtQual.fillna('NA', inplace = True)"
   ]
  },
  {
   "cell_type": "code",
   "execution_count": 90,
   "id": "4b8825e7",
   "metadata": {},
   "outputs": [],
   "source": [
    "df.BsmtCond.fillna('NA', inplace = True)"
   ]
  },
  {
   "cell_type": "code",
   "execution_count": 91,
   "id": "d092adca",
   "metadata": {},
   "outputs": [],
   "source": [
    "df.BsmtFinType1.fillna('NA', inplace = True)"
   ]
  },
  {
   "cell_type": "code",
   "execution_count": 92,
   "id": "060655c6",
   "metadata": {},
   "outputs": [],
   "source": [
    "df.BsmtExposure.fillna('NA', inplace = True)"
   ]
  },
  {
   "cell_type": "code",
   "execution_count": 93,
   "id": "c2d962c2",
   "metadata": {},
   "outputs": [],
   "source": [
    "df.BsmtFinType2.fillna('NA', inplace = True)"
   ]
  },
  {
   "cell_type": "markdown",
   "id": "329f9e11",
   "metadata": {},
   "source": [
    "### Garage - Filled with NA to indicate no garage (from data description file)"
   ]
  },
  {
   "cell_type": "code",
   "execution_count": 94,
   "id": "ee481b58",
   "metadata": {},
   "outputs": [],
   "source": [
    "df.GarageType.fillna('NA', inplace = True)"
   ]
  },
  {
   "cell_type": "code",
   "execution_count": 95,
   "id": "72f453fa",
   "metadata": {},
   "outputs": [],
   "source": [
    "df.GarageYrBlt.fillna('NA', inplace = True)"
   ]
  },
  {
   "cell_type": "code",
   "execution_count": 96,
   "id": "25e19e73",
   "metadata": {},
   "outputs": [],
   "source": [
    "df.GarageFinish.fillna('NA', inplace = True)"
   ]
  },
  {
   "cell_type": "code",
   "execution_count": 97,
   "id": "516982d8",
   "metadata": {},
   "outputs": [],
   "source": [
    "df.GarageQual.fillna('NA', inplace = True)"
   ]
  },
  {
   "cell_type": "code",
   "execution_count": 98,
   "id": "3859074b",
   "metadata": {},
   "outputs": [],
   "source": [
    "df.GarageCond.fillna('NA', inplace = True)"
   ]
  },
  {
   "cell_type": "markdown",
   "id": "2f552010",
   "metadata": {},
   "source": [
    "### LotFrontage"
   ]
  },
  {
   "cell_type": "code",
   "execution_count": 99,
   "id": "da7e0784",
   "metadata": {},
   "outputs": [],
   "source": [
    "df.LotFrontage.fillna(np.mean(df.LotFrontage), inplace = True)"
   ]
  },
  {
   "cell_type": "markdown",
   "id": "a57d273e",
   "metadata": {},
   "source": [
    "### FireplaceQu"
   ]
  },
  {
   "cell_type": "code",
   "execution_count": 100,
   "id": "87b61b90",
   "metadata": {},
   "outputs": [],
   "source": [
    "df.FireplaceQu.fillna('NA', inplace = True)"
   ]
  },
  {
   "cell_type": "markdown",
   "id": "7c3e31c0",
   "metadata": {},
   "source": [
    "### Fence"
   ]
  },
  {
   "cell_type": "code",
   "execution_count": 101,
   "id": "33993e03",
   "metadata": {},
   "outputs": [],
   "source": [
    "df.Fence.fillna('NA', inplace = True)"
   ]
  },
  {
   "cell_type": "markdown",
   "id": "0b555d84",
   "metadata": {},
   "source": [
    "### Alley"
   ]
  },
  {
   "cell_type": "code",
   "execution_count": 102,
   "id": "94a9ae87",
   "metadata": {},
   "outputs": [],
   "source": [
    "df.Alley.fillna('NA', inplace = True)"
   ]
  },
  {
   "cell_type": "markdown",
   "id": "3b0201d6",
   "metadata": {},
   "source": [
    "### Pool"
   ]
  },
  {
   "cell_type": "code",
   "execution_count": 103,
   "id": "2f95f93c",
   "metadata": {},
   "outputs": [],
   "source": [
    "df.PoolQC.fillna('NA', inplace = True)"
   ]
  },
  {
   "cell_type": "markdown",
   "id": "a083f0b4",
   "metadata": {},
   "source": [
    "### Misc Features"
   ]
  },
  {
   "cell_type": "code",
   "execution_count": 104,
   "id": "275f7cdf",
   "metadata": {},
   "outputs": [],
   "source": [
    "df.MiscFeature.fillna('None', inplace = True)"
   ]
  },
  {
   "cell_type": "markdown",
   "id": "7dd67f6b",
   "metadata": {},
   "source": [
    "### Missing Values Removed"
   ]
  },
  {
   "cell_type": "code",
   "execution_count": 105,
   "id": "7d1e13a7",
   "metadata": {},
   "outputs": [
    {
     "data": {
      "text/plain": [
       "Series([], dtype: int64)"
      ]
     },
     "execution_count": 105,
     "metadata": {},
     "output_type": "execute_result"
    }
   ],
   "source": [
    "missing_values = df.isnull().sum()\n",
    "cols_missing_values = missing_values[missing_values > 0].sort_values()\n",
    "cols_missing_values"
   ]
  },
  {
   "cell_type": "markdown",
   "id": "f70c61be",
   "metadata": {},
   "source": [
    "# Columns Examination\n"
   ]
  },
  {
   "cell_type": "code",
   "execution_count": 106,
   "id": "621be405",
   "metadata": {},
   "outputs": [],
   "source": [
    "cols_to_plot = ['LotFrontage', 'LotArea', 'OverallQual', 'HouseStyle', 'OverallCond', 'YearBuilt', 'YearRemodAdd'\n",
    "               'MasVnrArea', 'BsmtFinSF1', 'BsmtUnfSF', 'TotalBsmtSF', '1stFlrSF', '2ndFlrSF', 'GrLivArea', 'TotRmsAbvGrd',\n",
    "               'GarageArea', 'WoodDeckSF', 'OpenPorchSF', 'MoSold', 'YrSold', 'SalePrice']\n"
   ]
  },
  {
   "cell_type": "code",
   "execution_count": 107,
   "id": "4dd9ba2d",
   "metadata": {},
   "outputs": [
    {
     "name": "stdout",
     "output_type": "stream",
     "text": [
      "Id\n",
      "1       0.000685\n",
      "982     0.000685\n",
      "980     0.000685\n",
      "979     0.000685\n",
      "978     0.000685\n",
      "          ...   \n",
      "485     0.000685\n",
      "484     0.000685\n",
      "483     0.000685\n",
      "482     0.000685\n",
      "1460    0.000685\n",
      "Name: Id, Length: 1460, dtype: float64\n",
      "----------------------------\n",
      "MSSubClass\n",
      "20     0.367123\n",
      "60     0.204795\n",
      "50     0.098630\n",
      "120    0.059589\n",
      "30     0.047260\n",
      "160    0.043151\n",
      "70     0.041096\n",
      "80     0.039726\n",
      "90     0.035616\n",
      "190    0.020548\n",
      "85     0.013699\n",
      "75     0.010959\n",
      "45     0.008219\n",
      "180    0.006849\n",
      "40     0.002740\n",
      "Name: MSSubClass, dtype: float64\n",
      "----------------------------\n",
      "MSZoning\n",
      "RL         0.788356\n",
      "RM         0.149315\n",
      "FV         0.044521\n",
      "RH         0.010959\n",
      "C (all)    0.006849\n",
      "Name: MSZoning, dtype: float64\n",
      "----------------------------\n",
      "LotFrontage\n",
      "70.049958     0.177397\n",
      "60.000000     0.097945\n",
      "70.000000     0.047945\n",
      "80.000000     0.047260\n",
      "50.000000     0.039041\n",
      "                ...   \n",
      "137.000000    0.000685\n",
      "38.000000     0.000685\n",
      "33.000000     0.000685\n",
      "150.000000    0.000685\n",
      "46.000000     0.000685\n",
      "Name: LotFrontage, Length: 111, dtype: float64\n",
      "----------------------------\n",
      "LotArea\n",
      "7200     0.017123\n",
      "9600     0.016438\n",
      "6000     0.011644\n",
      "9000     0.009589\n",
      "8400     0.009589\n",
      "           ...   \n",
      "14601    0.000685\n",
      "13682    0.000685\n",
      "4058     0.000685\n",
      "17104    0.000685\n",
      "9717     0.000685\n",
      "Name: LotArea, Length: 1073, dtype: float64\n",
      "----------------------------\n",
      "Street\n",
      "Pave    0.99589\n",
      "Grvl    0.00411\n",
      "Name: Street, dtype: float64\n",
      "----------------------------\n",
      "Alley\n",
      "NA      0.937671\n",
      "Grvl    0.034247\n",
      "Pave    0.028082\n",
      "Name: Alley, dtype: float64\n",
      "----------------------------\n",
      "LotShape\n",
      "Reg    0.633562\n",
      "IR1    0.331507\n",
      "IR2    0.028082\n",
      "IR3    0.006849\n",
      "Name: LotShape, dtype: float64\n",
      "----------------------------\n",
      "LandContour\n",
      "Lvl    0.897945\n",
      "Bnk    0.043151\n",
      "HLS    0.034247\n",
      "Low    0.024658\n",
      "Name: LandContour, dtype: float64\n",
      "----------------------------\n",
      "Utilities\n",
      "AllPub    0.999315\n",
      "NoSeWa    0.000685\n",
      "Name: Utilities, dtype: float64\n",
      "----------------------------\n",
      "LotConfig\n",
      "Inside     0.720548\n",
      "Corner     0.180137\n",
      "CulDSac    0.064384\n",
      "FR2        0.032192\n",
      "FR3        0.002740\n",
      "Name: LotConfig, dtype: float64\n",
      "----------------------------\n",
      "LandSlope\n",
      "Gtl    0.946575\n",
      "Mod    0.044521\n",
      "Sev    0.008904\n",
      "Name: LandSlope, dtype: float64\n",
      "----------------------------\n",
      "Neighborhood\n",
      "NAmes      0.154110\n",
      "CollgCr    0.102740\n",
      "OldTown    0.077397\n",
      "Edwards    0.068493\n",
      "Somerst    0.058904\n",
      "Gilbert    0.054110\n",
      "NridgHt    0.052740\n",
      "Sawyer     0.050685\n",
      "NWAmes     0.050000\n",
      "SawyerW    0.040411\n",
      "BrkSide    0.039726\n",
      "Crawfor    0.034932\n",
      "Mitchel    0.033562\n",
      "NoRidge    0.028082\n",
      "Timber     0.026027\n",
      "IDOTRR     0.025342\n",
      "ClearCr    0.019178\n",
      "StoneBr    0.017123\n",
      "SWISU      0.017123\n",
      "MeadowV    0.011644\n",
      "Blmngtn    0.011644\n",
      "BrDale     0.010959\n",
      "Veenker    0.007534\n",
      "NPkVill    0.006164\n",
      "Blueste    0.001370\n",
      "Name: Neighborhood, dtype: float64\n",
      "----------------------------\n",
      "Condition1\n",
      "Norm      0.863014\n",
      "Feedr     0.055479\n",
      "Artery    0.032877\n",
      "RRAn      0.017808\n",
      "PosN      0.013014\n",
      "RRAe      0.007534\n",
      "PosA      0.005479\n",
      "RRNn      0.003425\n",
      "RRNe      0.001370\n",
      "Name: Condition1, dtype: float64\n",
      "----------------------------\n",
      "Condition2\n",
      "Norm      0.989726\n",
      "Feedr     0.004110\n",
      "Artery    0.001370\n",
      "RRNn      0.001370\n",
      "PosN      0.001370\n",
      "PosA      0.000685\n",
      "RRAn      0.000685\n",
      "RRAe      0.000685\n",
      "Name: Condition2, dtype: float64\n",
      "----------------------------\n",
      "BldgType\n",
      "1Fam      0.835616\n",
      "TwnhsE    0.078082\n",
      "Duplex    0.035616\n",
      "Twnhs     0.029452\n",
      "2fmCon    0.021233\n",
      "Name: BldgType, dtype: float64\n",
      "----------------------------\n",
      "HouseStyle\n",
      "1Story    0.497260\n",
      "2Story    0.304795\n",
      "1.5Fin    0.105479\n",
      "SLvl      0.044521\n",
      "SFoyer    0.025342\n",
      "1.5Unf    0.009589\n",
      "2.5Unf    0.007534\n",
      "2.5Fin    0.005479\n",
      "Name: HouseStyle, dtype: float64\n",
      "----------------------------\n",
      "OverallQual\n",
      "5     0.271918\n",
      "6     0.256164\n",
      "7     0.218493\n",
      "8     0.115068\n",
      "4     0.079452\n",
      "9     0.029452\n",
      "3     0.013699\n",
      "10    0.012329\n",
      "2     0.002055\n",
      "1     0.001370\n",
      "Name: OverallQual, dtype: float64\n",
      "----------------------------\n",
      "OverallCond\n",
      "5    0.562329\n",
      "6    0.172603\n",
      "7    0.140411\n",
      "8    0.049315\n",
      "4    0.039041\n",
      "3    0.017123\n",
      "9    0.015068\n",
      "2    0.003425\n",
      "1    0.000685\n",
      "Name: OverallCond, dtype: float64\n",
      "----------------------------\n",
      "YearBuilt\n",
      "2006    0.045890\n",
      "2005    0.043836\n",
      "2004    0.036986\n",
      "2007    0.033562\n",
      "2003    0.030822\n",
      "          ...   \n",
      "1875    0.000685\n",
      "1911    0.000685\n",
      "1917    0.000685\n",
      "1872    0.000685\n",
      "1905    0.000685\n",
      "Name: YearBuilt, Length: 112, dtype: float64\n",
      "----------------------------\n",
      "YearRemodAdd\n",
      "1950    0.121918\n",
      "2006    0.066438\n",
      "2007    0.052055\n",
      "2005    0.050000\n",
      "2004    0.042466\n",
      "          ...   \n",
      "2010    0.004110\n",
      "1986    0.003425\n",
      "1952    0.003425\n",
      "1983    0.003425\n",
      "1951    0.002740\n",
      "Name: YearRemodAdd, Length: 61, dtype: float64\n",
      "----------------------------\n",
      "RoofStyle\n",
      "Gable      0.781507\n",
      "Hip        0.195890\n",
      "Flat       0.008904\n",
      "Gambrel    0.007534\n",
      "Mansard    0.004795\n",
      "Shed       0.001370\n",
      "Name: RoofStyle, dtype: float64\n",
      "----------------------------\n",
      "RoofMatl\n",
      "CompShg    0.982192\n",
      "Tar&Grv    0.007534\n",
      "WdShngl    0.004110\n",
      "WdShake    0.003425\n",
      "Metal      0.000685\n",
      "Membran    0.000685\n",
      "Roll       0.000685\n",
      "ClyTile    0.000685\n",
      "Name: RoofMatl, dtype: float64\n",
      "----------------------------\n",
      "Exterior1st\n",
      "VinylSd    0.352740\n",
      "HdBoard    0.152055\n",
      "MetalSd    0.150685\n",
      "Wd Sdng    0.141096\n",
      "Plywood    0.073973\n",
      "CemntBd    0.041781\n",
      "BrkFace    0.034247\n",
      "WdShing    0.017808\n",
      "Stucco     0.017123\n",
      "AsbShng    0.013699\n",
      "BrkComm    0.001370\n",
      "Stone      0.001370\n",
      "AsphShn    0.000685\n",
      "ImStucc    0.000685\n",
      "CBlock     0.000685\n",
      "Name: Exterior1st, dtype: float64\n",
      "----------------------------\n",
      "Exterior2nd\n",
      "VinylSd    0.345205\n",
      "MetalSd    0.146575\n",
      "HdBoard    0.141781\n",
      "Wd Sdng    0.134932\n",
      "Plywood    0.097260\n",
      "CmentBd    0.041096\n",
      "Wd Shng    0.026027\n",
      "Stucco     0.017808\n",
      "BrkFace    0.017123\n",
      "AsbShng    0.013699\n",
      "ImStucc    0.006849\n",
      "Brk Cmn    0.004795\n",
      "Stone      0.003425\n",
      "AsphShn    0.002055\n",
      "Other      0.000685\n",
      "CBlock     0.000685\n",
      "Name: Exterior2nd, dtype: float64\n",
      "----------------------------\n",
      "MasVnrType\n",
      "None       0.597260\n",
      "BrkFace    0.304795\n",
      "Stone      0.087671\n",
      "BrkCmn     0.010274\n",
      "Name: MasVnrType, dtype: float64\n",
      "----------------------------\n",
      "MasVnrArea\n",
      "0.0      0.595205\n",
      "180.0    0.005479\n",
      "72.0     0.005479\n",
      "108.0    0.005479\n",
      "120.0    0.004795\n",
      "           ...   \n",
      "562.0    0.000685\n",
      "89.0     0.000685\n",
      "921.0    0.000685\n",
      "762.0    0.000685\n",
      "119.0    0.000685\n",
      "Name: MasVnrArea, Length: 327, dtype: float64\n",
      "----------------------------\n",
      "ExterQual\n",
      "TA    0.620548\n",
      "Gd    0.334247\n",
      "Ex    0.035616\n",
      "Fa    0.009589\n",
      "Name: ExterQual, dtype: float64\n",
      "----------------------------\n",
      "ExterCond\n",
      "TA    0.878082\n",
      "Gd    0.100000\n",
      "Fa    0.019178\n",
      "Ex    0.002055\n",
      "Po    0.000685\n",
      "Name: ExterCond, dtype: float64\n",
      "----------------------------\n",
      "Foundation\n",
      "PConc     0.443151\n",
      "CBlock    0.434247\n",
      "BrkTil    0.100000\n",
      "Slab      0.016438\n",
      "Stone     0.004110\n",
      "Wood      0.002055\n",
      "Name: Foundation, dtype: float64\n",
      "----------------------------\n",
      "BsmtQual\n",
      "TA    0.444521\n",
      "Gd    0.423288\n",
      "Ex    0.082877\n",
      "NA    0.025342\n",
      "Fa    0.023973\n",
      "Name: BsmtQual, dtype: float64\n",
      "----------------------------\n",
      "BsmtCond\n",
      "TA    0.897945\n",
      "Gd    0.044521\n",
      "Fa    0.030822\n",
      "NA    0.025342\n",
      "Po    0.001370\n",
      "Name: BsmtCond, dtype: float64\n",
      "----------------------------\n",
      "BsmtExposure\n",
      "No    0.652740\n",
      "Av    0.151370\n",
      "Gd    0.091781\n",
      "Mn    0.078082\n",
      "NA    0.026027\n",
      "Name: BsmtExposure, dtype: float64\n",
      "----------------------------\n",
      "BsmtFinType1\n",
      "Unf    0.294521\n",
      "GLQ    0.286301\n",
      "ALQ    0.150685\n",
      "BLQ    0.101370\n",
      "Rec    0.091096\n",
      "LwQ    0.050685\n",
      "NA     0.025342\n",
      "Name: BsmtFinType1, dtype: float64\n",
      "----------------------------\n",
      "BsmtFinSF1\n",
      "0       0.319863\n",
      "24      0.008219\n",
      "16      0.006164\n",
      "686     0.003425\n",
      "662     0.003425\n",
      "          ...   \n",
      "1338    0.000685\n",
      "1324    0.000685\n",
      "1460    0.000685\n",
      "328     0.000685\n",
      "830     0.000685\n",
      "Name: BsmtFinSF1, Length: 637, dtype: float64\n",
      "----------------------------\n",
      "BsmtFinType2\n",
      "Unf    0.860274\n",
      "Rec    0.036986\n",
      "LwQ    0.031507\n",
      "NA     0.026027\n",
      "BLQ    0.022603\n",
      "ALQ    0.013014\n",
      "GLQ    0.009589\n",
      "Name: BsmtFinType2, dtype: float64\n",
      "----------------------------\n",
      "BsmtFinSF2\n",
      "0       0.885616\n",
      "180     0.003425\n",
      "374     0.002055\n",
      "551     0.001370\n",
      "147     0.001370\n",
      "          ...   \n",
      "532     0.000685\n",
      "165     0.000685\n",
      "1120    0.000685\n",
      "311     0.000685\n",
      "1029    0.000685\n",
      "Name: BsmtFinSF2, Length: 144, dtype: float64\n",
      "----------------------------\n",
      "BsmtUnfSF\n",
      "0       0.080822\n",
      "728     0.006164\n",
      "384     0.005479\n",
      "600     0.004795\n",
      "300     0.004795\n",
      "          ...   \n",
      "551     0.000685\n",
      "1257    0.000685\n",
      "605     0.000685\n",
      "467     0.000685\n",
      "136     0.000685\n",
      "Name: BsmtUnfSF, Length: 780, dtype: float64\n",
      "----------------------------\n",
      "TotalBsmtSF\n",
      "0       0.025342\n",
      "864     0.023973\n",
      "672     0.011644\n",
      "912     0.010274\n",
      "1040    0.009589\n",
      "          ...   \n",
      "1838    0.000685\n",
      "1581    0.000685\n",
      "707     0.000685\n",
      "611     0.000685\n",
      "1542    0.000685\n",
      "Name: TotalBsmtSF, Length: 721, dtype: float64\n",
      "----------------------------\n",
      "Heating\n",
      "GasA     0.978082\n",
      "GasW     0.012329\n",
      "Grav     0.004795\n",
      "Wall     0.002740\n",
      "OthW     0.001370\n",
      "Floor    0.000685\n",
      "Name: Heating, dtype: float64\n",
      "----------------------------\n",
      "HeatingQC\n",
      "Ex    0.507534\n",
      "TA    0.293151\n",
      "Gd    0.165068\n",
      "Fa    0.033562\n",
      "Po    0.000685\n",
      "Name: HeatingQC, dtype: float64\n",
      "----------------------------\n",
      "CentralAir\n",
      "Y    0.934932\n",
      "N    0.065068\n",
      "Name: CentralAir, dtype: float64\n",
      "----------------------------\n",
      "Electrical\n",
      "SBrkr    0.914384\n",
      "FuseA    0.064384\n",
      "FuseF    0.018493\n",
      "FuseP    0.002055\n",
      "Mix      0.000685\n",
      "Name: Electrical, dtype: float64\n",
      "----------------------------\n",
      "1stFlrSF\n",
      "864     0.017123\n",
      "1040    0.010959\n",
      "912     0.009589\n",
      "894     0.008219\n",
      "848     0.008219\n",
      "          ...   \n",
      "1509    0.000685\n",
      "2515    0.000685\n",
      "605     0.000685\n",
      "3138    0.000685\n",
      "1256    0.000685\n",
      "Name: 1stFlrSF, Length: 753, dtype: float64\n",
      "----------------------------\n",
      "2ndFlrSF\n",
      "0       0.567808\n",
      "728     0.006849\n",
      "504     0.006164\n",
      "546     0.005479\n",
      "672     0.005479\n",
      "          ...   \n",
      "1538    0.000685\n",
      "914     0.000685\n",
      "1067    0.000685\n",
      "1000    0.000685\n",
      "1152    0.000685\n",
      "Name: 2ndFlrSF, Length: 417, dtype: float64\n",
      "----------------------------\n",
      "LowQualFinSF\n",
      "0      0.982192\n",
      "80     0.002055\n",
      "360    0.001370\n",
      "205    0.000685\n",
      "479    0.000685\n",
      "397    0.000685\n",
      "514    0.000685\n",
      "120    0.000685\n",
      "481    0.000685\n",
      "232    0.000685\n",
      "53     0.000685\n",
      "515    0.000685\n",
      "156    0.000685\n",
      "473    0.000685\n",
      "420    0.000685\n",
      "390    0.000685\n",
      "371    0.000685\n",
      "392    0.000685\n",
      "144    0.000685\n",
      "572    0.000685\n",
      "528    0.000685\n",
      "234    0.000685\n",
      "513    0.000685\n",
      "384    0.000685\n",
      "Name: LowQualFinSF, dtype: float64\n",
      "----------------------------\n",
      "GrLivArea\n",
      "864     0.015068\n",
      "1040    0.009589\n",
      "894     0.007534\n",
      "1456    0.006849\n",
      "848     0.006849\n",
      "          ...   \n",
      "2296    0.000685\n",
      "1123    0.000685\n",
      "1199    0.000685\n",
      "1473    0.000685\n",
      "1256    0.000685\n",
      "Name: GrLivArea, Length: 861, dtype: float64\n",
      "----------------------------\n",
      "BsmtFullBath\n",
      "0    0.586301\n",
      "1    0.402740\n",
      "2    0.010274\n",
      "3    0.000685\n",
      "Name: BsmtFullBath, dtype: float64\n",
      "----------------------------\n",
      "BsmtHalfBath\n",
      "0    0.943836\n",
      "1    0.054795\n",
      "2    0.001370\n",
      "Name: BsmtHalfBath, dtype: float64\n",
      "----------------------------\n",
      "FullBath\n",
      "2    0.526027\n",
      "1    0.445205\n",
      "3    0.022603\n",
      "0    0.006164\n",
      "Name: FullBath, dtype: float64\n",
      "----------------------------\n",
      "HalfBath\n",
      "0    0.625342\n",
      "1    0.366438\n",
      "2    0.008219\n",
      "Name: HalfBath, dtype: float64\n",
      "----------------------------\n",
      "BedroomAbvGr\n",
      "3    0.550685\n",
      "2    0.245205\n",
      "4    0.145890\n",
      "1    0.034247\n",
      "5    0.014384\n",
      "6    0.004795\n",
      "0    0.004110\n",
      "8    0.000685\n",
      "Name: BedroomAbvGr, dtype: float64\n",
      "----------------------------\n",
      "KitchenAbvGr\n",
      "1    0.953425\n",
      "2    0.044521\n",
      "3    0.001370\n",
      "0    0.000685\n",
      "Name: KitchenAbvGr, dtype: float64\n",
      "----------------------------\n",
      "KitchenQual\n",
      "TA    0.503425\n",
      "Gd    0.401370\n",
      "Ex    0.068493\n",
      "Fa    0.026712\n",
      "Name: KitchenQual, dtype: float64\n",
      "----------------------------\n",
      "TotRmsAbvGrd\n",
      "6     0.275342\n",
      "7     0.225342\n",
      "5     0.188356\n",
      "8     0.128082\n",
      "4     0.066438\n",
      "9     0.051370\n",
      "10    0.032192\n",
      "11    0.012329\n",
      "3     0.011644\n",
      "12    0.007534\n",
      "2     0.000685\n",
      "14    0.000685\n",
      "Name: TotRmsAbvGrd, dtype: float64\n",
      "----------------------------\n",
      "Functional\n",
      "Typ     0.931507\n",
      "Min2    0.023288\n",
      "Min1    0.021233\n",
      "Mod     0.010274\n",
      "Maj1    0.009589\n",
      "Maj2    0.003425\n",
      "Sev     0.000685\n",
      "Name: Functional, dtype: float64\n",
      "----------------------------\n",
      "Fireplaces\n",
      "0    0.472603\n",
      "1    0.445205\n",
      "2    0.078767\n",
      "3    0.003425\n",
      "Name: Fireplaces, dtype: float64\n",
      "----------------------------\n",
      "FireplaceQu\n",
      "NA    0.472603\n",
      "Gd    0.260274\n",
      "TA    0.214384\n",
      "Fa    0.022603\n",
      "Ex    0.016438\n",
      "Po    0.013699\n",
      "Name: FireplaceQu, dtype: float64\n",
      "----------------------------\n",
      "GarageType\n",
      "Attchd     0.595890\n",
      "Detchd     0.265068\n",
      "BuiltIn    0.060274\n",
      "NA         0.055479\n",
      "Basment    0.013014\n",
      "CarPort    0.006164\n",
      "2Types     0.004110\n",
      "Name: GarageType, dtype: float64\n",
      "----------------------------\n",
      "GarageYrBlt\n",
      "NA        0.055479\n",
      "2005.0    0.044521\n",
      "2006.0    0.040411\n",
      "2004.0    0.036301\n",
      "2003.0    0.034247\n",
      "            ...   \n",
      "1927.0    0.000685\n",
      "1900.0    0.000685\n",
      "1906.0    0.000685\n",
      "1908.0    0.000685\n",
      "1933.0    0.000685\n",
      "Name: GarageYrBlt, Length: 98, dtype: float64\n",
      "----------------------------\n",
      "GarageFinish\n",
      "Unf    0.414384\n",
      "RFn    0.289041\n",
      "Fin    0.241096\n",
      "NA     0.055479\n",
      "Name: GarageFinish, dtype: float64\n",
      "----------------------------\n",
      "GarageCars\n",
      "2    0.564384\n",
      "1    0.252740\n",
      "3    0.123973\n",
      "0    0.055479\n",
      "4    0.003425\n",
      "Name: GarageCars, dtype: float64\n",
      "----------------------------\n",
      "GarageArea\n",
      "0      0.055479\n",
      "440    0.033562\n",
      "576    0.032192\n",
      "240    0.026027\n",
      "484    0.023288\n",
      "         ...   \n",
      "320    0.000685\n",
      "594    0.000685\n",
      "831    0.000685\n",
      "878    0.000685\n",
      "192    0.000685\n",
      "Name: GarageArea, Length: 441, dtype: float64\n",
      "----------------------------\n",
      "GarageQual\n",
      "TA    0.897945\n",
      "NA    0.055479\n",
      "Fa    0.032877\n",
      "Gd    0.009589\n",
      "Ex    0.002055\n",
      "Po    0.002055\n",
      "Name: GarageQual, dtype: float64\n",
      "----------------------------\n",
      "GarageCond\n",
      "TA    0.908219\n",
      "NA    0.055479\n",
      "Fa    0.023973\n",
      "Gd    0.006164\n",
      "Po    0.004795\n",
      "Ex    0.001370\n",
      "Name: GarageCond, dtype: float64\n",
      "----------------------------\n",
      "PavedDrive\n",
      "Y    0.917808\n",
      "N    0.061644\n",
      "P    0.020548\n",
      "Name: PavedDrive, dtype: float64\n",
      "----------------------------\n",
      "WoodDeckSF\n",
      "0      0.521233\n",
      "192    0.026027\n",
      "100    0.024658\n",
      "144    0.022603\n",
      "120    0.021233\n",
      "         ...   \n",
      "326    0.000685\n",
      "179    0.000685\n",
      "103    0.000685\n",
      "176    0.000685\n",
      "736    0.000685\n",
      "Name: WoodDeckSF, Length: 274, dtype: float64\n",
      "----------------------------\n",
      "OpenPorchSF\n",
      "0      0.449315\n",
      "36     0.019863\n",
      "48     0.015068\n",
      "20     0.014384\n",
      "40     0.013014\n",
      "         ...   \n",
      "11     0.000685\n",
      "523    0.000685\n",
      "125    0.000685\n",
      "137    0.000685\n",
      "236    0.000685\n",
      "Name: OpenPorchSF, Length: 202, dtype: float64\n",
      "----------------------------\n",
      "EnclosedPorch\n",
      "0      0.857534\n",
      "112    0.010274\n",
      "96     0.004110\n",
      "192    0.003425\n",
      "144    0.003425\n",
      "         ...   \n",
      "54     0.000685\n",
      "136    0.000685\n",
      "148    0.000685\n",
      "140    0.000685\n",
      "99     0.000685\n",
      "Name: EnclosedPorch, Length: 120, dtype: float64\n",
      "----------------------------\n",
      "3SsnPorch\n",
      "0      0.983562\n",
      "168    0.002055\n",
      "144    0.001370\n",
      "180    0.001370\n",
      "216    0.001370\n",
      "290    0.000685\n",
      "153    0.000685\n",
      "96     0.000685\n",
      "23     0.000685\n",
      "162    0.000685\n",
      "182    0.000685\n",
      "196    0.000685\n",
      "320    0.000685\n",
      "245    0.000685\n",
      "238    0.000685\n",
      "508    0.000685\n",
      "140    0.000685\n",
      "130    0.000685\n",
      "407    0.000685\n",
      "304    0.000685\n",
      "Name: 3SsnPorch, dtype: float64\n",
      "----------------------------\n",
      "ScreenPorch\n",
      "0      0.920548\n",
      "192    0.004110\n",
      "120    0.003425\n",
      "224    0.003425\n",
      "189    0.002740\n",
      "         ...   \n",
      "291    0.000685\n",
      "260    0.000685\n",
      "385    0.000685\n",
      "156    0.000685\n",
      "40     0.000685\n",
      "Name: ScreenPorch, Length: 76, dtype: float64\n",
      "----------------------------\n",
      "PoolArea\n",
      "0      0.995205\n",
      "512    0.000685\n",
      "648    0.000685\n",
      "576    0.000685\n",
      "555    0.000685\n",
      "480    0.000685\n",
      "519    0.000685\n",
      "738    0.000685\n",
      "Name: PoolArea, dtype: float64\n",
      "----------------------------\n",
      "PoolQC\n",
      "NA    0.995205\n",
      "Gd    0.002055\n",
      "Ex    0.001370\n",
      "Fa    0.001370\n",
      "Name: PoolQC, dtype: float64\n",
      "----------------------------\n",
      "Fence\n",
      "NA       0.807534\n",
      "MnPrv    0.107534\n",
      "GdPrv    0.040411\n",
      "GdWo     0.036986\n",
      "MnWw     0.007534\n",
      "Name: Fence, dtype: float64\n",
      "----------------------------\n",
      "MiscFeature\n",
      "None    0.963014\n",
      "Shed    0.033562\n",
      "Gar2    0.001370\n",
      "Othr    0.001370\n",
      "TenC    0.000685\n",
      "Name: MiscFeature, dtype: float64\n",
      "----------------------------\n",
      "MiscVal\n",
      "0        0.964384\n",
      "400      0.007534\n",
      "500      0.005479\n",
      "700      0.003425\n",
      "450      0.002740\n",
      "600      0.002740\n",
      "2000     0.002740\n",
      "1200     0.001370\n",
      "480      0.001370\n",
      "15500    0.000685\n",
      "800      0.000685\n",
      "350      0.000685\n",
      "3500     0.000685\n",
      "1300     0.000685\n",
      "54       0.000685\n",
      "620      0.000685\n",
      "560      0.000685\n",
      "1400     0.000685\n",
      "8300     0.000685\n",
      "1150     0.000685\n",
      "2500     0.000685\n",
      "Name: MiscVal, dtype: float64\n",
      "----------------------------\n",
      "MoSold\n",
      "6     0.173288\n",
      "7     0.160274\n",
      "5     0.139726\n",
      "4     0.096575\n",
      "8     0.083562\n",
      "3     0.072603\n",
      "10    0.060959\n",
      "11    0.054110\n",
      "9     0.043151\n",
      "12    0.040411\n",
      "1     0.039726\n",
      "2     0.035616\n",
      "Name: MoSold, dtype: float64\n",
      "----------------------------\n",
      "YrSold\n",
      "2009    0.231507\n",
      "2007    0.225342\n",
      "2006    0.215068\n",
      "2008    0.208219\n",
      "2010    0.119863\n",
      "Name: YrSold, dtype: float64\n",
      "----------------------------\n",
      "SaleType\n",
      "WD       0.867808\n",
      "New      0.083562\n",
      "COD      0.029452\n",
      "ConLD    0.006164\n",
      "ConLI    0.003425\n",
      "ConLw    0.003425\n",
      "CWD      0.002740\n",
      "Oth      0.002055\n",
      "Con      0.001370\n",
      "Name: SaleType, dtype: float64\n",
      "----------------------------\n",
      "SaleCondition\n",
      "Normal     0.820548\n",
      "Partial    0.085616\n",
      "Abnorml    0.069178\n",
      "Family     0.013699\n",
      "Alloca     0.008219\n",
      "AdjLand    0.002740\n",
      "Name: SaleCondition, dtype: float64\n",
      "----------------------------\n",
      "SalePrice\n",
      "140000    0.013699\n",
      "135000    0.011644\n",
      "155000    0.009589\n",
      "145000    0.009589\n",
      "190000    0.008904\n",
      "            ...   \n",
      "202665    0.000685\n",
      "164900    0.000685\n",
      "208300    0.000685\n",
      "181500    0.000685\n",
      "147500    0.000685\n",
      "Name: SalePrice, Length: 663, dtype: float64\n",
      "----------------------------\n"
     ]
    }
   ],
   "source": [
    "a = list(df.columns)\n",
    "for i in a:\n",
    "    print(i)\n",
    "    print(df[i].value_counts(normalize = True))\n",
    "    print('----------------------------')"
   ]
  },
  {
   "cell_type": "code",
   "execution_count": 108,
   "id": "8deabf6e",
   "metadata": {},
   "outputs": [
    {
     "data": {
      "text/plain": [
       "(1460, 81)"
      ]
     },
     "execution_count": 108,
     "metadata": {},
     "output_type": "execute_result"
    }
   ],
   "source": [
    "df.shape"
   ]
  },
  {
   "cell_type": "code",
   "execution_count": 109,
   "id": "94d118cb",
   "metadata": {},
   "outputs": [],
   "source": [
    "#cols wo enough variance, drop\n",
    "cols_to_drop = ['MSZoning', 'Street', 'Alley', 'LandContour', 'Utilities','LandSlope', 'Condition1', 'Condition2',\n",
    "               'BldgType','RoofMatl', 'BsmtCond', 'BsmtFinType2', 'BsmtFinSF2', 'Heating', 'LowQualFinSF', 'BsmtHalfBath',\n",
    "               'Functional', 'FireplaceQu', 'GarageYrBlt','GarageQual','GarageCond','PavedDrive', 'EnclosedPorch', \n",
    "                '3SsnPorch', 'PoolQC', 'MiscFeature', 'MiscVal', 'ExterCond', 'PoolArea']\n",
    "df.drop(cols_to_drop, inplace = True, axis = 1)\n",
    "\n",
    "\n",
    "\n"
   ]
  },
  {
   "cell_type": "code",
   "execution_count": 110,
   "id": "1fa27e26",
   "metadata": {},
   "outputs": [],
   "source": [
    "#cols that need to be condensed\n",
    "cols_to_combine = ['LotShape', 'LotConfig', 'HouseStyle', 'RoofStyle', 'Exterior1st', 'Exterior2nd', 'MasVnrType',\n",
    "                  'ExterQual', 'Foundation', 'BsmtQual', 'BsmtExposure', 'BsmtFinType1', 'HeatingQC'\n",
    "                  'Electrical', 'BsmtFullBath', 'FullBath', 'HalfBath', 'BedroomAbvGr', 'KitchenAbvGr', 'KitchenQual',\n",
    "                  'Fireplaces', 'GarageType', 'GarageFinish', 'GarageCars', 'PoolArea', 'Fence', 'SaleType',\n",
    "                  'SaleCondition']"
   ]
  },
  {
   "cell_type": "markdown",
   "id": "d80447b6",
   "metadata": {},
   "source": [
    "## Column Condensation"
   ]
  },
  {
   "cell_type": "code",
   "execution_count": 111,
   "id": "018389c8",
   "metadata": {},
   "outputs": [],
   "source": [
    "#cols that need to be condensed\n",
    "cols_to_combine = ['LotShape', 'LotConfig', 'HouseStyle', 'RoofStyle', 'Exterior1st', 'Exterior2nd', 'MasVnrType',\n",
    "                  'ExterQual', 'ExterCond', 'Foundation', 'BsmtQual', 'BsmtExposure', 'BsmtFinType1', 'HeatingQC'\n",
    "                  'Electrical', 'FullBath', 'HalfBath', 'KitchenQual',\n",
    "                  'GarageType', 'GarageFinish', 'GarageCars', 'Fence', 'SaleType',\n",
    "                  'SaleCondition']"
   ]
  },
  {
   "cell_type": "code",
   "execution_count": 112,
   "id": "a6f585e3",
   "metadata": {},
   "outputs": [
    {
     "name": "stderr",
     "output_type": "stream",
     "text": [
      "/var/folders/vx/h6y694195c58b8jxzjdg2j_00000gn/T/ipykernel_3494/2781037067.py:4: SettingWithCopyWarning: \n",
      "A value is trying to be set on a copy of a slice from a DataFrame\n",
      "\n",
      "See the caveats in the documentation: https://pandas.pydata.org/pandas-docs/stable/user_guide/indexing.html#returning-a-view-versus-a-copy\n",
      "  df['LotShape'][i] = 1\n",
      "/var/folders/vx/h6y694195c58b8jxzjdg2j_00000gn/T/ipykernel_3494/2781037067.py:6: SettingWithCopyWarning: \n",
      "A value is trying to be set on a copy of a slice from a DataFrame\n",
      "\n",
      "See the caveats in the documentation: https://pandas.pydata.org/pandas-docs/stable/user_guide/indexing.html#returning-a-view-versus-a-copy\n",
      "  df['LotShape'][i] = 0\n"
     ]
    }
   ],
   "source": [
    "#LotShape\n",
    "for i in range(len(df.LotShape)):\n",
    "    if df.LotShape[i] == 'Reg':\n",
    "        df['LotShape'][i] = 1\n",
    "    else:\n",
    "        df['LotShape'][i] = 0\n",
    "df.LotShape = df.LotShape.astype(int)"
   ]
  },
  {
   "cell_type": "code",
   "execution_count": 113,
   "id": "85aa42b8",
   "metadata": {},
   "outputs": [
    {
     "name": "stdout",
     "output_type": "stream",
     "text": [
      "Inside     1052\n",
      "Corner      263\n",
      "CulDSac      94\n",
      "FR2          47\n",
      "FR3           4\n",
      "Name: LotConfig, dtype: int64\n"
     ]
    },
    {
     "name": "stderr",
     "output_type": "stream",
     "text": [
      "/var/folders/vx/h6y694195c58b8jxzjdg2j_00000gn/T/ipykernel_3494/3818402175.py:4: SettingWithCopyWarning: \n",
      "A value is trying to be set on a copy of a slice from a DataFrame\n",
      "\n",
      "See the caveats in the documentation: https://pandas.pydata.org/pandas-docs/stable/user_guide/indexing.html#returning-a-view-versus-a-copy\n",
      "  df['LotConfig'][i] = 1\n",
      "/var/folders/vx/h6y694195c58b8jxzjdg2j_00000gn/T/ipykernel_3494/3818402175.py:6: SettingWithCopyWarning: \n",
      "A value is trying to be set on a copy of a slice from a DataFrame\n",
      "\n",
      "See the caveats in the documentation: https://pandas.pydata.org/pandas-docs/stable/user_guide/indexing.html#returning-a-view-versus-a-copy\n",
      "  df['LotConfig'][i] = 0\n"
     ]
    }
   ],
   "source": [
    "print(df.LotConfig.value_counts())\n",
    "for i in range(len(df.LotConfig)):\n",
    "    if df.LotConfig[i] == 'Inside':\n",
    "        df['LotConfig'][i] = 1\n",
    "    else:\n",
    "        df['LotConfig'][i] = 0\n",
    "df.LotConfig = df.LotConfig.astype(int)"
   ]
  },
  {
   "cell_type": "code",
   "execution_count": 114,
   "id": "07a973c3",
   "metadata": {},
   "outputs": [
    {
     "name": "stdout",
     "output_type": "stream",
     "text": [
      "1Story    726\n",
      "2Story    445\n",
      "1.5Fin    154\n",
      "SLvl       65\n",
      "SFoyer     37\n",
      "1.5Unf     14\n",
      "2.5Unf     11\n",
      "2.5Fin      8\n",
      "Name: HouseStyle, dtype: int64\n"
     ]
    }
   ],
   "source": [
    "print(df.HouseStyle.value_counts())"
   ]
  },
  {
   "cell_type": "code",
   "execution_count": 115,
   "id": "8a1094a9",
   "metadata": {},
   "outputs": [
    {
     "name": "stderr",
     "output_type": "stream",
     "text": [
      "/var/folders/vx/h6y694195c58b8jxzjdg2j_00000gn/T/ipykernel_3494/294716839.py:3: SettingWithCopyWarning: \n",
      "A value is trying to be set on a copy of a slice from a DataFrame\n",
      "\n",
      "See the caveats in the documentation: https://pandas.pydata.org/pandas-docs/stable/user_guide/indexing.html#returning-a-view-versus-a-copy\n",
      "  df.HouseStyle[i] = 'Other'\n"
     ]
    }
   ],
   "source": [
    "for i in range(len(df.HouseStyle)):\n",
    "    if df.HouseStyle[i] in ('SLvl', 'SFoyer', '1.5Unf', '2.5Unf', '2.5Fin'):\n",
    "        df.HouseStyle[i] = 'Other'"
   ]
  },
  {
   "cell_type": "code",
   "execution_count": 116,
   "id": "89a84674",
   "metadata": {},
   "outputs": [
    {
     "name": "stdout",
     "output_type": "stream",
     "text": [
      "Gable      1141\n",
      "Hip         286\n",
      "Flat         13\n",
      "Gambrel      11\n",
      "Mansard       7\n",
      "Shed          2\n",
      "Name: RoofStyle, dtype: int64\n"
     ]
    },
    {
     "name": "stderr",
     "output_type": "stream",
     "text": [
      "/var/folders/vx/h6y694195c58b8jxzjdg2j_00000gn/T/ipykernel_3494/2938447201.py:4: SettingWithCopyWarning: \n",
      "A value is trying to be set on a copy of a slice from a DataFrame\n",
      "\n",
      "See the caveats in the documentation: https://pandas.pydata.org/pandas-docs/stable/user_guide/indexing.html#returning-a-view-versus-a-copy\n",
      "  df['RoofStyle'][i] = 1\n",
      "/var/folders/vx/h6y694195c58b8jxzjdg2j_00000gn/T/ipykernel_3494/2938447201.py:6: SettingWithCopyWarning: \n",
      "A value is trying to be set on a copy of a slice from a DataFrame\n",
      "\n",
      "See the caveats in the documentation: https://pandas.pydata.org/pandas-docs/stable/user_guide/indexing.html#returning-a-view-versus-a-copy\n",
      "  df['RoofStyle'][i] = 0\n"
     ]
    }
   ],
   "source": [
    "print(df.RoofStyle.value_counts())\n",
    "for i in range(len(df.RoofStyle)):\n",
    "    if df.RoofStyle[i] == 'Gable':\n",
    "        df['RoofStyle'][i] = 1\n",
    "    else:\n",
    "        df['RoofStyle'][i] = 0\n",
    "df.RoofStyle = df.RoofStyle.astype(int)"
   ]
  },
  {
   "cell_type": "code",
   "execution_count": 117,
   "id": "e68154a7",
   "metadata": {},
   "outputs": [],
   "source": [
    "cols_to_combine = ['LotShape', 'LotConfig', 'HouseStyle', 'RoofStyle', 'Exterior1st', 'Exterior2nd', 'MasVnrType',\n",
    "                  'ExterQual', 'ExterCond', 'Foundation', 'BsmtQual', 'BsmtExposure', 'BsmtFinType1', 'HeatingQC'\n",
    "                  'Electrical', 'BsmtFullBath', 'FullBath', 'HalfBath', 'BedroomAbvGr', 'KitchenAbvGr', 'KitchenQual',\n",
    "                  'Fireplaces', 'GarageType', 'GarageFinish', 'GarageCars', 'PoolArea', 'Fence', 'SaleType',\n",
    "                  'SaleCondition']"
   ]
  },
  {
   "cell_type": "code",
   "execution_count": 118,
   "id": "415e8090",
   "metadata": {},
   "outputs": [
    {
     "name": "stderr",
     "output_type": "stream",
     "text": [
      "/var/folders/vx/h6y694195c58b8jxzjdg2j_00000gn/T/ipykernel_3494/1196565600.py:4: SettingWithCopyWarning: \n",
      "A value is trying to be set on a copy of a slice from a DataFrame\n",
      "\n",
      "See the caveats in the documentation: https://pandas.pydata.org/pandas-docs/stable/user_guide/indexing.html#returning-a-view-versus-a-copy\n",
      "  df.Exterior1st[i] = 'Other'\n"
     ]
    }
   ],
   "source": [
    "df.Exterior1st.value_counts()\n",
    "for i in range(len(df.Exterior1st)):\n",
    "    if df.Exterior1st[i] in ('CemntBd', 'BrkFace', 'WdShing', 'Stucco', 'AsbShng', 'BrkComm', 'Stone', 'AsphShn', 'ImStucc', 'CBlock'):\n",
    "        df.Exterior1st[i] = 'Other'\n"
   ]
  },
  {
   "cell_type": "code",
   "execution_count": 119,
   "id": "a3bddbf2",
   "metadata": {},
   "outputs": [
    {
     "data": {
      "text/plain": [
       "VinylSd    515\n",
       "HdBoard    222\n",
       "MetalSd    220\n",
       "Wd Sdng    206\n",
       "Other      189\n",
       "Plywood    108\n",
       "Name: Exterior1st, dtype: int64"
      ]
     },
     "execution_count": 119,
     "metadata": {},
     "output_type": "execute_result"
    }
   ],
   "source": [
    "df.Exterior1st.value_counts()"
   ]
  },
  {
   "cell_type": "code",
   "execution_count": 120,
   "id": "adb0f380",
   "metadata": {},
   "outputs": [
    {
     "name": "stderr",
     "output_type": "stream",
     "text": [
      "/var/folders/vx/h6y694195c58b8jxzjdg2j_00000gn/T/ipykernel_3494/3267484466.py:4: SettingWithCopyWarning: \n",
      "A value is trying to be set on a copy of a slice from a DataFrame\n",
      "\n",
      "See the caveats in the documentation: https://pandas.pydata.org/pandas-docs/stable/user_guide/indexing.html#returning-a-view-versus-a-copy\n",
      "  df.Exterior2nd[i] = 'Other'\n"
     ]
    }
   ],
   "source": [
    "df.Exterior2nd.value_counts()\n",
    "for i in range(len(df.Exterior2nd)):\n",
    "    if df.Exterior2nd[i] in ('CmentBd', 'Wd Shng', 'Brk Cmn','CemntBd', 'BrkFace', 'WdShing', 'Stucco', 'AsbShng', 'BrkComm', 'Stone', 'AsphShn', 'ImStucc', 'CBlock'):\n",
    "        df.Exterior2nd[i] = 'Other'\n",
    "\n",
    "        \n",
    "        \n",
    "        "
   ]
  },
  {
   "cell_type": "code",
   "execution_count": 121,
   "id": "8f56f0e6",
   "metadata": {},
   "outputs": [
    {
     "name": "stderr",
     "output_type": "stream",
     "text": [
      "/var/folders/vx/h6y694195c58b8jxzjdg2j_00000gn/T/ipykernel_3494/759675410.py:6: SettingWithCopyWarning: \n",
      "A value is trying to be set on a copy of a slice from a DataFrame\n",
      "\n",
      "See the caveats in the documentation: https://pandas.pydata.org/pandas-docs/stable/user_guide/indexing.html#returning-a-view-versus-a-copy\n",
      "  df['MasVnrType'][i] = 1\n",
      "/var/folders/vx/h6y694195c58b8jxzjdg2j_00000gn/T/ipykernel_3494/759675410.py:4: SettingWithCopyWarning: \n",
      "A value is trying to be set on a copy of a slice from a DataFrame\n",
      "\n",
      "See the caveats in the documentation: https://pandas.pydata.org/pandas-docs/stable/user_guide/indexing.html#returning-a-view-versus-a-copy\n",
      "  df['MasVnrType'][i] = 0\n"
     ]
    }
   ],
   "source": [
    "df.MasVnrType.value_counts(normalize = True)\n",
    "for i in range(len(df.MasVnrType)):\n",
    "    if df.MasVnrType[i] == 'None':\n",
    "        df['MasVnrType'][i] = 0\n",
    "    else:\n",
    "        df['MasVnrType'][i] = 1\n",
    "df.MasVnrType = df.MasVnrType.astype(int)"
   ]
  },
  {
   "cell_type": "code",
   "execution_count": 122,
   "id": "c48f7d51",
   "metadata": {
    "scrolled": true
   },
   "outputs": [
    {
     "name": "stderr",
     "output_type": "stream",
     "text": [
      "/var/folders/vx/h6y694195c58b8jxzjdg2j_00000gn/T/ipykernel_3494/4159801003.py:4: SettingWithCopyWarning: \n",
      "A value is trying to be set on a copy of a slice from a DataFrame\n",
      "\n",
      "See the caveats in the documentation: https://pandas.pydata.org/pandas-docs/stable/user_guide/indexing.html#returning-a-view-versus-a-copy\n",
      "  df['ExterQual'][i] = 'TA'\n"
     ]
    }
   ],
   "source": [
    "df.ExterQual.value_counts(normalize = True)\n",
    "for i in range(len(df.ExterQual)):\n",
    "    if df.ExterQual[i] == 'Fa':\n",
    "        df['ExterQual'][i] = 'TA'\n"
   ]
  },
  {
   "cell_type": "code",
   "execution_count": 123,
   "id": "9da6c237",
   "metadata": {},
   "outputs": [
    {
     "name": "stderr",
     "output_type": "stream",
     "text": [
      "/var/folders/vx/h6y694195c58b8jxzjdg2j_00000gn/T/ipykernel_3494/2142469530.py:4: SettingWithCopyWarning: \n",
      "A value is trying to be set on a copy of a slice from a DataFrame\n",
      "\n",
      "See the caveats in the documentation: https://pandas.pydata.org/pandas-docs/stable/user_guide/indexing.html#returning-a-view-versus-a-copy\n",
      "  df['Foundation'][i] = 'Other'\n"
     ]
    }
   ],
   "source": [
    "df.Foundation.value_counts(normalize = True)\n",
    "for i in range(len(df.Foundation)):\n",
    "    if df.Foundation[i] in ('Slab', 'Stone', 'Wood'):\n",
    "        df['Foundation'][i] = 'Other'"
   ]
  },
  {
   "cell_type": "code",
   "execution_count": 124,
   "id": "7901e1c3",
   "metadata": {},
   "outputs": [
    {
     "data": {
      "text/plain": [
       "TA    0.444521\n",
       "Gd    0.423288\n",
       "Ex    0.082877\n",
       "NA    0.025342\n",
       "Fa    0.023973\n",
       "Name: BsmtQual, dtype: float64"
      ]
     },
     "execution_count": 124,
     "metadata": {},
     "output_type": "execute_result"
    }
   ],
   "source": [
    "df.BsmtQual.value_counts(normalize = True)"
   ]
  },
  {
   "cell_type": "code",
   "execution_count": 125,
   "id": "a4b171b3",
   "metadata": {},
   "outputs": [
    {
     "name": "stderr",
     "output_type": "stream",
     "text": [
      "/var/folders/vx/h6y694195c58b8jxzjdg2j_00000gn/T/ipykernel_3494/470064949.py:6: SettingWithCopyWarning: \n",
      "A value is trying to be set on a copy of a slice from a DataFrame\n",
      "\n",
      "See the caveats in the documentation: https://pandas.pydata.org/pandas-docs/stable/user_guide/indexing.html#returning-a-view-versus-a-copy\n",
      "  df['BsmtQual'][i] = 1\n",
      "/var/folders/vx/h6y694195c58b8jxzjdg2j_00000gn/T/ipykernel_3494/470064949.py:4: SettingWithCopyWarning: \n",
      "A value is trying to be set on a copy of a slice from a DataFrame\n",
      "\n",
      "See the caveats in the documentation: https://pandas.pydata.org/pandas-docs/stable/user_guide/indexing.html#returning-a-view-versus-a-copy\n",
      "  df['BsmtQual'][i] = 0\n"
     ]
    }
   ],
   "source": [
    "df.BsmtQual.value_counts(normalize = True)\n",
    "for i in range(len(df.BsmtQual)):\n",
    "    if df.BsmtQual[i] in ('NA', 'Fa', 'TA'):\n",
    "        df['BsmtQual'][i] = 0\n",
    "    else:\n",
    "        df['BsmtQual'][i] = 1\n",
    "        \n",
    "df.BsmtQual = df.BsmtQual.astype(int)"
   ]
  },
  {
   "cell_type": "code",
   "execution_count": 126,
   "id": "f28c3568",
   "metadata": {
    "scrolled": true
   },
   "outputs": [
    {
     "name": "stderr",
     "output_type": "stream",
     "text": [
      "/var/folders/vx/h6y694195c58b8jxzjdg2j_00000gn/T/ipykernel_3494/247686851.py:4: SettingWithCopyWarning: \n",
      "A value is trying to be set on a copy of a slice from a DataFrame\n",
      "\n",
      "See the caveats in the documentation: https://pandas.pydata.org/pandas-docs/stable/user_guide/indexing.html#returning-a-view-versus-a-copy\n",
      "  df['BsmtExposure'][i] = 0\n",
      "/var/folders/vx/h6y694195c58b8jxzjdg2j_00000gn/T/ipykernel_3494/247686851.py:6: SettingWithCopyWarning: \n",
      "A value is trying to be set on a copy of a slice from a DataFrame\n",
      "\n",
      "See the caveats in the documentation: https://pandas.pydata.org/pandas-docs/stable/user_guide/indexing.html#returning-a-view-versus-a-copy\n",
      "  df['BsmtExposure'][i] = 1\n"
     ]
    }
   ],
   "source": [
    "df.BsmtExposure.value_counts(normalize = True)\n",
    "for i in range(len(df.BsmtExposure)):\n",
    "    if df.BsmtExposure[i] in ('No', 'NA'):\n",
    "        df['BsmtExposure'][i] = 0\n",
    "    else:\n",
    "        df['BsmtExposure'][i] = 1\n",
    "df.BsmtExposure = df.BsmtExposure.astype(int)"
   ]
  },
  {
   "cell_type": "code",
   "execution_count": 127,
   "id": "0fa4bc2b",
   "metadata": {},
   "outputs": [
    {
     "name": "stderr",
     "output_type": "stream",
     "text": [
      "/var/folders/vx/h6y694195c58b8jxzjdg2j_00000gn/T/ipykernel_3494/3712774254.py:8: SettingWithCopyWarning: \n",
      "A value is trying to be set on a copy of a slice from a DataFrame\n",
      "\n",
      "See the caveats in the documentation: https://pandas.pydata.org/pandas-docs/stable/user_guide/indexing.html#returning-a-view-versus-a-copy\n",
      "  df.BsmtFinType1[i] = 2\n",
      "/var/folders/vx/h6y694195c58b8jxzjdg2j_00000gn/T/ipykernel_3494/3712774254.py:4: SettingWithCopyWarning: \n",
      "A value is trying to be set on a copy of a slice from a DataFrame\n",
      "\n",
      "See the caveats in the documentation: https://pandas.pydata.org/pandas-docs/stable/user_guide/indexing.html#returning-a-view-versus-a-copy\n",
      "  df['BsmtFinType1'][i] = 0\n",
      "/var/folders/vx/h6y694195c58b8jxzjdg2j_00000gn/T/ipykernel_3494/3712774254.py:6: SettingWithCopyWarning: \n",
      "A value is trying to be set on a copy of a slice from a DataFrame\n",
      "\n",
      "See the caveats in the documentation: https://pandas.pydata.org/pandas-docs/stable/user_guide/indexing.html#returning-a-view-versus-a-copy\n",
      "  df['BsmtFinType1'][i] = 1\n"
     ]
    }
   ],
   "source": [
    "df.BsmtFinType1.value_counts(normalize = True)\n",
    "for i in range(len(df.BsmtFinType1)):\n",
    "    if df.BsmtFinType1[i] in ('Unf', 'NA'):\n",
    "        df['BsmtFinType1'][i] = 0\n",
    "    elif df.BsmtFinType1[i] in ('Rec', 'BLQ', 'LwQ'):\n",
    "        df['BsmtFinType1'][i] = 1\n",
    "    else:\n",
    "        df.BsmtFinType1[i] = 2\n",
    "df.BsmtFinType1 = df.BsmtFinType1.astype(int)"
   ]
  },
  {
   "cell_type": "code",
   "execution_count": 128,
   "id": "7d44bdba",
   "metadata": {},
   "outputs": [
    {
     "name": "stderr",
     "output_type": "stream",
     "text": [
      "/var/folders/vx/h6y694195c58b8jxzjdg2j_00000gn/T/ipykernel_3494/388256620.py:4: SettingWithCopyWarning: \n",
      "A value is trying to be set on a copy of a slice from a DataFrame\n",
      "\n",
      "See the caveats in the documentation: https://pandas.pydata.org/pandas-docs/stable/user_guide/indexing.html#returning-a-view-versus-a-copy\n",
      "  df['HeatingQC'][i] = 1\n",
      "/var/folders/vx/h6y694195c58b8jxzjdg2j_00000gn/T/ipykernel_3494/388256620.py:6: SettingWithCopyWarning: \n",
      "A value is trying to be set on a copy of a slice from a DataFrame\n",
      "\n",
      "See the caveats in the documentation: https://pandas.pydata.org/pandas-docs/stable/user_guide/indexing.html#returning-a-view-versus-a-copy\n",
      "  df['HeatingQC'][i] = 0\n"
     ]
    }
   ],
   "source": [
    "df.HeatingQC.value_counts(normalize = True)\n",
    "for i in range(len(df.HeatingQC)):\n",
    "    if df.HeatingQC[i] in ('Ex'):\n",
    "        df['HeatingQC'][i] = 1\n",
    "    else:\n",
    "        df['HeatingQC'][i] = 0\n",
    "df.HeatingQC = df.HeatingQC.astype(int)"
   ]
  },
  {
   "cell_type": "code",
   "execution_count": 129,
   "id": "cba54392",
   "metadata": {},
   "outputs": [
    {
     "name": "stderr",
     "output_type": "stream",
     "text": [
      "/var/folders/vx/h6y694195c58b8jxzjdg2j_00000gn/T/ipykernel_3494/57908917.py:4: SettingWithCopyWarning: \n",
      "A value is trying to be set on a copy of a slice from a DataFrame\n",
      "\n",
      "See the caveats in the documentation: https://pandas.pydata.org/pandas-docs/stable/user_guide/indexing.html#returning-a-view-versus-a-copy\n",
      "  df['Electrical'][i] = 1\n",
      "/var/folders/vx/h6y694195c58b8jxzjdg2j_00000gn/T/ipykernel_3494/57908917.py:6: SettingWithCopyWarning: \n",
      "A value is trying to be set on a copy of a slice from a DataFrame\n",
      "\n",
      "See the caveats in the documentation: https://pandas.pydata.org/pandas-docs/stable/user_guide/indexing.html#returning-a-view-versus-a-copy\n",
      "  df['Electrical'][i] = 0\n"
     ]
    }
   ],
   "source": [
    "df.Electrical.value_counts(normalize = True)\n",
    "for i in range(len(df.Electrical)):\n",
    "    if df.Electrical[i] in ('SBrkr'):\n",
    "        df['Electrical'][i] = 1\n",
    "    else:\n",
    "        df['Electrical'][i] = 0\n",
    "df.Electrical = df.Electrical.astype(int)"
   ]
  },
  {
   "cell_type": "code",
   "execution_count": 130,
   "id": "c2398424",
   "metadata": {},
   "outputs": [],
   "source": [
    "df.HalfBath.value_counts(normalize = True)\n",
    "df.FullBath.value_counts(normalize = True)\n",
    "\n",
    "df['NoBath'] = df.FullBath + df.HalfBath/2\n",
    "\n",
    "df.drop(['HalfBath', 'FullBath'], inplace = True, axis = 1)\n",
    "\n",
    "df.NoBath = df.NoBath.astype(int)"
   ]
  },
  {
   "cell_type": "code",
   "execution_count": 131,
   "id": "44425b14",
   "metadata": {},
   "outputs": [
    {
     "name": "stderr",
     "output_type": "stream",
     "text": [
      "/var/folders/vx/h6y694195c58b8jxzjdg2j_00000gn/T/ipykernel_3494/907471647.py:6: SettingWithCopyWarning: \n",
      "A value is trying to be set on a copy of a slice from a DataFrame\n",
      "\n",
      "See the caveats in the documentation: https://pandas.pydata.org/pandas-docs/stable/user_guide/indexing.html#returning-a-view-versus-a-copy\n",
      "  df['KitchenQual'][i] = 1\n",
      "/var/folders/vx/h6y694195c58b8jxzjdg2j_00000gn/T/ipykernel_3494/907471647.py:4: SettingWithCopyWarning: \n",
      "A value is trying to be set on a copy of a slice from a DataFrame\n",
      "\n",
      "See the caveats in the documentation: https://pandas.pydata.org/pandas-docs/stable/user_guide/indexing.html#returning-a-view-versus-a-copy\n",
      "  df['KitchenQual'][i] = 0\n",
      "/var/folders/vx/h6y694195c58b8jxzjdg2j_00000gn/T/ipykernel_3494/907471647.py:8: SettingWithCopyWarning: \n",
      "A value is trying to be set on a copy of a slice from a DataFrame\n",
      "\n",
      "See the caveats in the documentation: https://pandas.pydata.org/pandas-docs/stable/user_guide/indexing.html#returning-a-view-versus-a-copy\n",
      "  df['KitchenQual'][i] = 2\n"
     ]
    }
   ],
   "source": [
    "df.KitchenQual.value_counts()\n",
    "for i in range(len(df.KitchenQual)):\n",
    "    if df.KitchenQual[i] in ('Fa', 'TA'):\n",
    "        df['KitchenQual'][i] = 0\n",
    "    elif df.KitchenQual[i] in ('Gd'):\n",
    "        df['KitchenQual'][i] = 1\n",
    "    else:\n",
    "        df['KitchenQual'][i] = 2\n",
    "df.KitchenQual = df.KitchenQual.astype(int)"
   ]
  },
  {
   "cell_type": "code",
   "execution_count": 132,
   "id": "87b625e8",
   "metadata": {},
   "outputs": [
    {
     "name": "stderr",
     "output_type": "stream",
     "text": [
      "/var/folders/vx/h6y694195c58b8jxzjdg2j_00000gn/T/ipykernel_3494/2822248388.py:6: SettingWithCopyWarning: \n",
      "A value is trying to be set on a copy of a slice from a DataFrame\n",
      "\n",
      "See the caveats in the documentation: https://pandas.pydata.org/pandas-docs/stable/user_guide/indexing.html#returning-a-view-versus-a-copy\n",
      "  df['GarageType'][i] = 1\n",
      "/var/folders/vx/h6y694195c58b8jxzjdg2j_00000gn/T/ipykernel_3494/2822248388.py:4: SettingWithCopyWarning: \n",
      "A value is trying to be set on a copy of a slice from a DataFrame\n",
      "\n",
      "See the caveats in the documentation: https://pandas.pydata.org/pandas-docs/stable/user_guide/indexing.html#returning-a-view-versus-a-copy\n",
      "  df['GarageType'][i] = 0\n"
     ]
    }
   ],
   "source": [
    "df.GarageType.value_counts()\n",
    "for i in range(len(df.GarageType)):\n",
    "    if df.GarageType[i] in ('NA'):\n",
    "        df['GarageType'][i] = 0\n",
    "    else:\n",
    "        df['GarageType'][i] = 1\n",
    "df.GarageType = df.GarageType.astype(int)"
   ]
  },
  {
   "cell_type": "code",
   "execution_count": 133,
   "id": "ff65667e",
   "metadata": {},
   "outputs": [
    {
     "name": "stderr",
     "output_type": "stream",
     "text": [
      "/var/folders/vx/h6y694195c58b8jxzjdg2j_00000gn/T/ipykernel_3494/4018930615.py:6: SettingWithCopyWarning: \n",
      "A value is trying to be set on a copy of a slice from a DataFrame\n",
      "\n",
      "See the caveats in the documentation: https://pandas.pydata.org/pandas-docs/stable/user_guide/indexing.html#returning-a-view-versus-a-copy\n",
      "  df['GarageFinish'][i] = 1\n",
      "/var/folders/vx/h6y694195c58b8jxzjdg2j_00000gn/T/ipykernel_3494/4018930615.py:8: SettingWithCopyWarning: \n",
      "A value is trying to be set on a copy of a slice from a DataFrame\n",
      "\n",
      "See the caveats in the documentation: https://pandas.pydata.org/pandas-docs/stable/user_guide/indexing.html#returning-a-view-versus-a-copy\n",
      "  df['GarageFinish'][i] = 2\n",
      "/var/folders/vx/h6y694195c58b8jxzjdg2j_00000gn/T/ipykernel_3494/4018930615.py:4: SettingWithCopyWarning: \n",
      "A value is trying to be set on a copy of a slice from a DataFrame\n",
      "\n",
      "See the caveats in the documentation: https://pandas.pydata.org/pandas-docs/stable/user_guide/indexing.html#returning-a-view-versus-a-copy\n",
      "  df['GarageFinish'][i] = 0\n"
     ]
    }
   ],
   "source": [
    "df.GarageFinish.value_counts()\n",
    "for i in range(len(df.GarageFinish)):\n",
    "    if df.GarageFinish[i] == 'NA':\n",
    "        df['GarageFinish'][i] = 0\n",
    "    elif df.GarageFinish[i] in ('Unf', 'RFn'):\n",
    "        df['GarageFinish'][i] = 1\n",
    "    else:\n",
    "        df['GarageFinish'][i] = 2\n",
    "df.GarageFinish = df.GarageFinish.astype(int)"
   ]
  },
  {
   "cell_type": "code",
   "execution_count": 134,
   "id": "bbfba7b1",
   "metadata": {},
   "outputs": [
    {
     "name": "stderr",
     "output_type": "stream",
     "text": [
      "/var/folders/vx/h6y694195c58b8jxzjdg2j_00000gn/T/ipykernel_3494/1206707344.py:4: SettingWithCopyWarning: \n",
      "A value is trying to be set on a copy of a slice from a DataFrame\n",
      "\n",
      "See the caveats in the documentation: https://pandas.pydata.org/pandas-docs/stable/user_guide/indexing.html#returning-a-view-versus-a-copy\n",
      "  df['Fence'][i] = 0\n",
      "/var/folders/vx/h6y694195c58b8jxzjdg2j_00000gn/T/ipykernel_3494/1206707344.py:6: SettingWithCopyWarning: \n",
      "A value is trying to be set on a copy of a slice from a DataFrame\n",
      "\n",
      "See the caveats in the documentation: https://pandas.pydata.org/pandas-docs/stable/user_guide/indexing.html#returning-a-view-versus-a-copy\n",
      "  df['Fence'][i] = 1\n"
     ]
    }
   ],
   "source": [
    "df.Fence.value_counts()\n",
    "for i in range(len(df.Fence)):\n",
    "    if df.Fence[i] == 'NA':\n",
    "        df['Fence'][i] = 0\n",
    "    else:\n",
    "        df['Fence'][i] = 1\n",
    "df.Fence = df.Fence.astype(int)"
   ]
  },
  {
   "cell_type": "code",
   "execution_count": 135,
   "id": "7a4c272b",
   "metadata": {},
   "outputs": [
    {
     "name": "stderr",
     "output_type": "stream",
     "text": [
      "/var/folders/vx/h6y694195c58b8jxzjdg2j_00000gn/T/ipykernel_3494/1826895165.py:4: SettingWithCopyWarning: \n",
      "A value is trying to be set on a copy of a slice from a DataFrame\n",
      "\n",
      "See the caveats in the documentation: https://pandas.pydata.org/pandas-docs/stable/user_guide/indexing.html#returning-a-view-versus-a-copy\n",
      "  df['SaleType'][i] = 1\n",
      "/var/folders/vx/h6y694195c58b8jxzjdg2j_00000gn/T/ipykernel_3494/1826895165.py:6: SettingWithCopyWarning: \n",
      "A value is trying to be set on a copy of a slice from a DataFrame\n",
      "\n",
      "See the caveats in the documentation: https://pandas.pydata.org/pandas-docs/stable/user_guide/indexing.html#returning-a-view-versus-a-copy\n",
      "  df['SaleType'][i] = 0\n"
     ]
    }
   ],
   "source": [
    "df['SaleType'].value_counts()\n",
    "for i in range(len(df.SaleType)):\n",
    "    if df.SaleType[i] in ('WD', 'New'):\n",
    "        df['SaleType'][i] = 1\n",
    "    else:\n",
    "        df['SaleType'][i] = 0\n",
    "df.SaleType = df.SaleType.astype(int)"
   ]
  },
  {
   "cell_type": "code",
   "execution_count": 136,
   "id": "63cdb75f",
   "metadata": {
    "scrolled": true
   },
   "outputs": [
    {
     "name": "stderr",
     "output_type": "stream",
     "text": [
      "/var/folders/vx/h6y694195c58b8jxzjdg2j_00000gn/T/ipykernel_3494/1540965375.py:4: SettingWithCopyWarning: \n",
      "A value is trying to be set on a copy of a slice from a DataFrame\n",
      "\n",
      "See the caveats in the documentation: https://pandas.pydata.org/pandas-docs/stable/user_guide/indexing.html#returning-a-view-versus-a-copy\n",
      "  df['SaleCondition'][i] = 1\n",
      "/var/folders/vx/h6y694195c58b8jxzjdg2j_00000gn/T/ipykernel_3494/1540965375.py:6: SettingWithCopyWarning: \n",
      "A value is trying to be set on a copy of a slice from a DataFrame\n",
      "\n",
      "See the caveats in the documentation: https://pandas.pydata.org/pandas-docs/stable/user_guide/indexing.html#returning-a-view-versus-a-copy\n",
      "  df['SaleCondition'][i] = 0\n"
     ]
    }
   ],
   "source": [
    "df['SaleCondition'].value_counts()\n",
    "for i in range(len(df.SaleCondition)):\n",
    "    if df.SaleCondition[i] == 'Normal':\n",
    "        df['SaleCondition'][i] = 1\n",
    "    else:\n",
    "        df['SaleCondition'][i] = 0\n",
    "df.SaleCondition = df.SaleCondition.astype(int)"
   ]
  },
  {
   "cell_type": "code",
   "execution_count": 137,
   "id": "ee85c29e",
   "metadata": {},
   "outputs": [
    {
     "name": "stderr",
     "output_type": "stream",
     "text": [
      "/var/folders/vx/h6y694195c58b8jxzjdg2j_00000gn/T/ipykernel_3494/2595878739.py:4: SettingWithCopyWarning: \n",
      "A value is trying to be set on a copy of a slice from a DataFrame\n",
      "\n",
      "See the caveats in the documentation: https://pandas.pydata.org/pandas-docs/stable/user_guide/indexing.html#returning-a-view-versus-a-copy\n",
      "  df['CentralAir'][i] = 1\n",
      "/var/folders/vx/h6y694195c58b8jxzjdg2j_00000gn/T/ipykernel_3494/2595878739.py:6: SettingWithCopyWarning: \n",
      "A value is trying to be set on a copy of a slice from a DataFrame\n",
      "\n",
      "See the caveats in the documentation: https://pandas.pydata.org/pandas-docs/stable/user_guide/indexing.html#returning-a-view-versus-a-copy\n",
      "  df['CentralAir'][i] = 0\n"
     ]
    }
   ],
   "source": [
    "df['CentralAir'].value_counts()\n",
    "for i in range(len(df.CentralAir)):\n",
    "    if df.CentralAir[i] == 'Y':\n",
    "        df['CentralAir'][i] = 1\n",
    "    else:\n",
    "        df['CentralAir'][i] = 0\n",
    "df.CentralAir = df.CentralAir.astype(int)"
   ]
  },
  {
   "cell_type": "code",
   "execution_count": 138,
   "id": "48c9789a",
   "metadata": {},
   "outputs": [],
   "source": [
    "cols_to_dummies = ['Neighborhood', 'HouseStyle', 'Exterior1st', 'Exterior2nd', 'ExterQual', 'Foundation']"
   ]
  },
  {
   "cell_type": "code",
   "execution_count": 139,
   "id": "d1ea861e",
   "metadata": {},
   "outputs": [],
   "source": [
    "df = pd.get_dummies(df, cols_to_dummies, drop_first = True)"
   ]
  },
  {
   "cell_type": "code",
   "execution_count": 140,
   "id": "bd645d73",
   "metadata": {},
   "outputs": [],
   "source": [
    "df.to_csv('cleaned_data.csv')"
   ]
  },
  {
   "cell_type": "code",
   "execution_count": 141,
   "id": "ca13a21e",
   "metadata": {},
   "outputs": [
    {
     "data": {
      "text/plain": [
       "Index(['Id', 'MSSubClass', 'LotFrontage', 'LotArea', 'LotShape', 'LotConfig',\n",
       "       'OverallQual', 'OverallCond', 'YearBuilt', 'YearRemodAdd', 'RoofStyle',\n",
       "       'MasVnrType', 'MasVnrArea', 'BsmtQual', 'BsmtExposure', 'BsmtFinType1',\n",
       "       'BsmtFinSF1', 'BsmtUnfSF', 'TotalBsmtSF', 'HeatingQC', 'CentralAir',\n",
       "       'Electrical', '1stFlrSF', '2ndFlrSF', 'GrLivArea', 'BsmtFullBath',\n",
       "       'BedroomAbvGr', 'KitchenAbvGr', 'KitchenQual', 'TotRmsAbvGrd',\n",
       "       'Fireplaces', 'GarageType', 'GarageFinish', 'GarageCars', 'GarageArea',\n",
       "       'WoodDeckSF', 'OpenPorchSF', 'ScreenPorch', 'Fence', 'MoSold', 'YrSold',\n",
       "       'SaleType', 'SaleCondition', 'SalePrice', 'NoBath',\n",
       "       'Neighborhood_Blueste', 'Neighborhood_BrDale', 'Neighborhood_BrkSide',\n",
       "       'Neighborhood_ClearCr', 'Neighborhood_CollgCr', 'Neighborhood_Crawfor',\n",
       "       'Neighborhood_Edwards', 'Neighborhood_Gilbert', 'Neighborhood_IDOTRR',\n",
       "       'Neighborhood_MeadowV', 'Neighborhood_Mitchel', 'Neighborhood_NAmes',\n",
       "       'Neighborhood_NPkVill', 'Neighborhood_NWAmes', 'Neighborhood_NoRidge',\n",
       "       'Neighborhood_NridgHt', 'Neighborhood_OldTown', 'Neighborhood_SWISU',\n",
       "       'Neighborhood_Sawyer', 'Neighborhood_SawyerW', 'Neighborhood_Somerst',\n",
       "       'Neighborhood_StoneBr', 'Neighborhood_Timber', 'Neighborhood_Veenker',\n",
       "       'HouseStyle_1Story', 'HouseStyle_2Story', 'HouseStyle_Other',\n",
       "       'Exterior1st_MetalSd', 'Exterior1st_Other', 'Exterior1st_Plywood',\n",
       "       'Exterior1st_VinylSd', 'Exterior1st_Wd Sdng', 'Exterior2nd_MetalSd',\n",
       "       'Exterior2nd_Other', 'Exterior2nd_Plywood', 'Exterior2nd_VinylSd',\n",
       "       'Exterior2nd_Wd Sdng', 'ExterQual_Gd', 'ExterQual_TA',\n",
       "       'Foundation_CBlock', 'Foundation_Other', 'Foundation_PConc'],\n",
       "      dtype='object')"
      ]
     },
     "execution_count": 141,
     "metadata": {},
     "output_type": "execute_result"
    }
   ],
   "source": [
    "df.columns"
   ]
  },
  {
   "cell_type": "code",
   "execution_count": 142,
   "id": "8457ee52",
   "metadata": {},
   "outputs": [],
   "source": [
    "df.YearBuilt.apply(pd.to_datetime, 'year')\n",
    "year = 2010\n",
    "df['YrsOld'] = (year - df['YearBuilt'])"
   ]
  },
  {
   "cell_type": "code",
   "execution_count": 143,
   "id": "db1c9d85",
   "metadata": {},
   "outputs": [
    {
     "data": {
      "text/plain": [
       "0        7\n",
       "1       34\n",
       "2        9\n",
       "3       95\n",
       "4       10\n",
       "        ..\n",
       "1455    11\n",
       "1456    32\n",
       "1457    69\n",
       "1458    60\n",
       "1459    45\n",
       "Name: YrsOld, Length: 1460, dtype: int64"
      ]
     },
     "execution_count": 143,
     "metadata": {},
     "output_type": "execute_result"
    }
   ],
   "source": [
    "df['YrsOld']"
   ]
  },
  {
   "cell_type": "code",
   "execution_count": 144,
   "id": "27140dbd",
   "metadata": {},
   "outputs": [],
   "source": [
    "df.YearRemodAdd.apply(pd.to_datetime, 'year')\n",
    "df['YrsSinceRemod'] = (year - df['YearRemodAdd'])"
   ]
  },
  {
   "cell_type": "code",
   "execution_count": 145,
   "id": "4803b22f",
   "metadata": {},
   "outputs": [
    {
     "data": {
      "text/plain": [
       "0        7\n",
       "1       34\n",
       "2        8\n",
       "3       40\n",
       "4       10\n",
       "        ..\n",
       "1455    10\n",
       "1456    22\n",
       "1457     4\n",
       "1458    14\n",
       "1459    45\n",
       "Name: YrsSinceRemod, Length: 1460, dtype: int64"
      ]
     },
     "execution_count": 145,
     "metadata": {},
     "output_type": "execute_result"
    }
   ],
   "source": [
    "df['YrsSinceRemod']"
   ]
  },
  {
   "cell_type": "code",
   "execution_count": 146,
   "id": "ac782df0",
   "metadata": {},
   "outputs": [],
   "source": [
    "df.drop(['YearRemodAdd', 'YearBuilt'], axis = 1, inplace = True)"
   ]
  },
  {
   "cell_type": "code",
   "execution_count": 147,
   "id": "cb90f666",
   "metadata": {},
   "outputs": [],
   "source": [
    "df.to_csv('cleaned_data.csv')"
   ]
  },
  {
   "cell_type": "code",
   "execution_count": null,
   "id": "46c7e9be",
   "metadata": {},
   "outputs": [],
   "source": []
  },
  {
   "cell_type": "code",
   "execution_count": null,
   "id": "21562f4d",
   "metadata": {},
   "outputs": [],
   "source": []
  },
  {
   "cell_type": "code",
   "execution_count": null,
   "id": "ca6048e0",
   "metadata": {},
   "outputs": [],
   "source": []
  },
  {
   "cell_type": "code",
   "execution_count": null,
   "id": "e741fbef",
   "metadata": {},
   "outputs": [],
   "source": []
  },
  {
   "cell_type": "code",
   "execution_count": null,
   "id": "ac1939c1",
   "metadata": {},
   "outputs": [],
   "source": [
    "y = df.SalePrice;\n",
    "df.drop('SalePrice', inplace = True, axis = 1)"
   ]
  },
  {
   "cell_type": "code",
   "execution_count": null,
   "id": "9f3cc3c8",
   "metadata": {},
   "outputs": [],
   "source": [
    "X_train, X_test, y_train, y_test = train_test_split(df, y, test_size=0.3, random_state=0)"
   ]
  },
  {
   "cell_type": "code",
   "execution_count": null,
   "id": "69b21a6c",
   "metadata": {},
   "outputs": [],
   "source": [
    "X_train"
   ]
  },
  {
   "cell_type": "code",
   "execution_count": null,
   "id": "9396b428",
   "metadata": {},
   "outputs": [],
   "source": [
    "k = 12"
   ]
  },
  {
   "cell_type": "code",
   "execution_count": null,
   "id": "d0d33226",
   "metadata": {},
   "outputs": [],
   "source": [
    "mi_transformer = SelectKBest(mutual_info_regression, k = k).fit(X_train, y_train)\n",
    "mi_X_train = SelectKBest(mutual_info_regression, k = k).fit_transform(X_train, y_train)\n",
    "mi_X_test = mi_transformer.transform(X_test)"
   ]
  },
  {
   "cell_type": "code",
   "execution_count": null,
   "id": "7e92c59e",
   "metadata": {
    "scrolled": true
   },
   "outputs": [],
   "source": [
    "#np.sort(mi_transformer.scores_)"
   ]
  },
  {
   "cell_type": "code",
   "execution_count": null,
   "id": "4f1de282",
   "metadata": {},
   "outputs": [],
   "source": [
    "miEst = LinearRegression().fit(mi_X_train, y_train)"
   ]
  },
  {
   "cell_type": "code",
   "execution_count": null,
   "id": "bea266be",
   "metadata": {},
   "outputs": [],
   "source": [
    "miEst.predict(mi_X_test)"
   ]
  },
  {
   "cell_type": "code",
   "execution_count": null,
   "id": "27d29803",
   "metadata": {},
   "outputs": [],
   "source": [
    "miEst.predict(mi_X_train)[miEst.predict(mi_X_train) < 0]"
   ]
  },
  {
   "cell_type": "code",
   "execution_count": null,
   "id": "6eb377a6",
   "metadata": {},
   "outputs": [],
   "source": [
    "miEst.predict(mi_X_test)[miEst.predict(mi_X_test) < 0]"
   ]
  },
  {
   "cell_type": "code",
   "execution_count": null,
   "id": "b293dfaa",
   "metadata": {},
   "outputs": [],
   "source": [
    "len(miEst.predict(mi_X_test))"
   ]
  },
  {
   "cell_type": "code",
   "execution_count": null,
   "id": "e61f20c1",
   "metadata": {},
   "outputs": [],
   "source": [
    "from sklearn.metrics import mean_squared_log_error\n",
    "#print(f\"The mean squared error when training on the MI selected features is {mean_squared_log_error(y_train, miEst.predict(mi_X_train))}.\")\n",
    "print(f\"When testing on the test data, the mean squared log error is {mean_squared_log_error(y_test, miEst.predict(mi_X_test))}\")\n",
    "\n",
    "\n"
   ]
  },
  {
   "cell_type": "code",
   "execution_count": null,
   "id": "28097082",
   "metadata": {},
   "outputs": [],
   "source": [
    "X_pred = miEst.predict(mi_X_test)"
   ]
  },
  {
   "cell_type": "code",
   "execution_count": null,
   "id": "11e7e746",
   "metadata": {},
   "outputs": [],
   "source": [
    "1 - (1-miEst.score(mi_X_test, y_test))*(len(y_test)-1)/(len(y_test)-mi_X_test.shape[1]-1)"
   ]
  },
  {
   "cell_type": "markdown",
   "id": "a21485f7",
   "metadata": {},
   "source": [
    "# Plotting"
   ]
  },
  {
   "cell_type": "code",
   "execution_count": null,
   "id": "170d8c99",
   "metadata": {},
   "outputs": [],
   "source": [
    "cols_to_plot = ['LotFrontage', 'LotArea', 'OverallQual', 'HouseStyle', 'OverallCond', 'YearBuilt', 'YearRemodAdd'\n",
    "               'MasVnrArea', 'BsmtFinSF1', 'BsmtUnfSF', 'TotalBsmtSF', '1stFlrSF', '2ndFlrSF', 'GrLivArea', 'TotRmsAbvGrd',\n",
    "               'GarageArea', 'WoodDeckSF', 'OpenPorchSF', 'MoSold', 'YrSold', 'SalePrice']\n",
    "\n"
   ]
  },
  {
   "cell_type": "code",
   "execution_count": 26,
   "id": "9d8a010a",
   "metadata": {},
   "outputs": [
    {
     "name": "stderr",
     "output_type": "stream",
     "text": [
      "/var/folders/vx/h6y694195c58b8jxzjdg2j_00000gn/T/ipykernel_96266/761734963.py:1: UserWarning: \n",
      "\n",
      "`distplot` is a deprecated function and will be removed in seaborn v0.14.0.\n",
      "\n",
      "Please adapt your code to use either `displot` (a figure-level function with\n",
      "similar flexibility) or `histplot` (an axes-level function for histograms).\n",
      "\n",
      "For a guide to updating your code to use the new functions, please see\n",
      "https://gist.github.com/mwaskom/de44147ed2974457ad6372750bbe5751\n",
      "\n",
      "  sns.distplot(df.YrSold);\n"
     ]
    },
    {
     "data": {
      "image/png": "[encoded data removed]",
      "text/plain": [
       "<Figure size 640x480 with 1 Axes>"
      ]
     },
     "metadata": {},
     "output_type": "display_data"
    }
   ],
   "source": [
    "sns.distplot(df.YrSold);\n",
    "plt.title('Year Sold')\n",
    "plt.show()"
   ]
  },
  {
   "cell_type": "code",
   "execution_count": null,
   "id": "138dbaa5",
   "metadata": {},
   "outputs": [],
   "source": [
    "#sns.distplot(np.log(df.LotArea))"
   ]
  },
  {
   "cell_type": "code",
   "execution_count": 25,
   "id": "52945b14",
   "metadata": {
    "scrolled": true
   },
   "outputs": [
    {
     "name": "stderr",
     "output_type": "stream",
     "text": [
      "/var/folders/vx/h6y694195c58b8jxzjdg2j_00000gn/T/ipykernel_96266/1109977512.py:1: UserWarning: \n",
      "\n",
      "`distplot` is a deprecated function and will be removed in seaborn v0.14.0.\n",
      "\n",
      "Please adapt your code to use either `displot` (a figure-level function with\n",
      "similar flexibility) or `histplot` (an axes-level function for histograms).\n",
      "\n",
      "For a guide to updating your code to use the new functions, please see\n",
      "https://gist.github.com/mwaskom/de44147ed2974457ad6372750bbe5751\n",
      "\n",
      "  a = sns.distplot(df.OverallQual)\n"
     ]
    },
    {
     "data": {
      "image/png": "[encoded data removed]",
      "text/plain": [
       "<Figure size 640x480 with 1 Axes>"
      ]
     },
     "metadata": {},
     "output_type": "display_data"
    }
   ],
   "source": [
    "a = sns.distplot(df.OverallQual)\n",
    "plt.title(\"Overall Quality\"); "
   ]
  },
  {
   "cell_type": "code",
   "execution_count": 31,
   "id": "a651eb7c",
   "metadata": {},
   "outputs": [
    {
     "name": "stderr",
     "output_type": "stream",
     "text": [
      "/var/folders/vx/h6y694195c58b8jxzjdg2j_00000gn/T/ipykernel_96266/1704259678.py:2: UserWarning: \n",
      "\n",
      "`distplot` is a deprecated function and will be removed in seaborn v0.14.0.\n",
      "\n",
      "Please adapt your code to use either `displot` (a figure-level function with\n",
      "similar flexibility) or `histplot` (an axes-level function for histograms).\n",
      "\n",
      "For a guide to updating your code to use the new functions, please see\n",
      "https://gist.github.com/mwaskom/de44147ed2974457ad6372750bbe5751\n",
      "\n",
      "  sns.distplot(y)\n"
     ]
    },
    {
     "data": {
      "image/png": "[encoded data removed]",
      "text/plain": [
       "<Figure size 640x480 with 1 Axes>"
      ]
     },
     "metadata": {},
     "output_type": "display_data"
    }
   ],
   "source": [
    "\n",
    "y = df['SalePrice']\n",
    "sns.distplot(y)\n",
    "plt.title('Sale Price')\n",
    "plt.show()"
   ]
  },
  {
   "cell_type": "code",
   "execution_count": 32,
   "id": "9d4967b8",
   "metadata": {},
   "outputs": [
    {
     "name": "stderr",
     "output_type": "stream",
     "text": [
      "/var/folders/vx/h6y694195c58b8jxzjdg2j_00000gn/T/ipykernel_96266/645695110.py:1: UserWarning: \n",
      "\n",
      "`distplot` is a deprecated function and will be removed in seaborn v0.14.0.\n",
      "\n",
      "Please adapt your code to use either `displot` (a figure-level function with\n",
      "similar flexibility) or `histplot` (an axes-level function for histograms).\n",
      "\n",
      "For a guide to updating your code to use the new functions, please see\n",
      "https://gist.github.com/mwaskom/de44147ed2974457ad6372750bbe5751\n",
      "\n",
      "  sns.distplot(df.OverallQual)\n"
     ]
    },
    {
     "data": {
      "image/png": "[encoded data removed]",
      "text/plain": [
       "<Figure size 640x480 with 1 Axes>"
      ]
     },
     "metadata": {},
     "output_type": "display_data"
    }
   ],
   "source": [
    "sns.distplot(df.OverallQual)\n",
    "plt.title(\"Overall Quality\"); "
   ]
  }
 ],
 "metadata": {
  "kernelspec": {
   "display_name": "Python 3 (ipykernel)",
   "language": "python",
   "name": "python3"
  },
  "language_info": {
   "codemirror_mode": {
    "name": "ipython",
    "version": 3
   },
   "file_extension": ".py",
   "mimetype": "text/x-python",
   "name": "python",
   "nbconvert_exporter": "python",
   "pygments_lexer": "ipython3",
   "version": "3.8.18"
  }
 },
 "nbformat": 4,
 "nbformat_minor": 5
}
